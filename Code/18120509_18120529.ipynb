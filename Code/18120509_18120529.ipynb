{
 "cells": [
  {
   "cell_type": "markdown",
   "id": "67f06f8a",
   "metadata": {},
   "source": [
    "# PROJECT: MELBOURNE HOUSING MARKET\n",
    "**GIẢNG VIÊN HƯỚNG DẪN: THẦY TRẦN TRUNG KIÊN**  \n",
    "\n",
    "**THÔNG TIN NHÓM 1:**\n",
    "1. CAO VĂN PHÚC - 18120509\n",
    "2. PHAN VĂN VÕ QUYỀN - 18120529"
   ]
  },
  {
   "cell_type": "markdown",
   "id": "ffe8b735",
   "metadata": {},
   "source": [
    "## Import các thư viện cần thiết"
   ]
  },
  {
   "cell_type": "code",
   "execution_count": 1,
   "id": "e6456e53",
   "metadata": {},
   "outputs": [],
   "source": [
    "import pandas as pd\n",
    "import matplotlib.pyplot as plt\n",
    "import numpy as np"
   ]
  },
  {
   "cell_type": "markdown",
   "id": "7f6a07fb",
   "metadata": {},
   "source": [
    "## Thu thập dữ liệu"
   ]
  },
  {
   "cell_type": "markdown",
   "id": "aa9e3fb3",
   "metadata": {},
   "source": [
    "- Tập dữ liệu mà nhóm lựa chọn là `Melbource housing market`, tập dữ liệu này thu thập thông tin về dữ liệu nhà đất tại thành phố Melbource xinh đẹp của nước Úc, nó bao gồm các thuộc tính Address, Type of Real estate, Suburb, Method of Selling, Rooms, Price, Real Estate Agent, Date of Sale và distance từ C.B.D. Tập dữ liệu này được lấy từ trang `Kaggle` tại link sau [đây](https://www.kaggle.com/anthonypino/melbourne-housing-market), license của dữ liệu tại [đây](https://creativecommons.org/licenses/by-nc-sa/4.0/)  \n",
    "- Vì đây là dữ liệu trên `Kaggle` nên chúng ta chỉ cần đăng nhập là có thể lấy được dữ liệu này về một cách dễ dàng  \n",
    "- Tập dữ liệu này được người ta thu thập bằng các kết quả có sẵn công khai hằng tuần từ trang `Domain.com.au`\n",
    "- Trong đồ án này, nhóm xin được phép chỉ sử dụng file `MELBOURNE_HOUSE_PRICES_LESS.csv`"
   ]
  },
  {
   "cell_type": "markdown",
   "id": "3ecce5ae",
   "metadata": {},
   "source": [
    "## Khám phá dữ liệu"
   ]
  },
  {
   "cell_type": "markdown",
   "id": "bf657a55",
   "metadata": {},
   "source": [
    "### Đọc dữ liệu từ file.csv vào DataFrame"
   ]
  },
  {
   "cell_type": "code",
   "execution_count": 2,
   "id": "b5e4a984",
   "metadata": {},
   "outputs": [
    {
     "data": {
      "text/html": [
       "<div>\n",
       "<style scoped>\n",
       "    .dataframe tbody tr th:only-of-type {\n",
       "        vertical-align: middle;\n",
       "    }\n",
       "\n",
       "    .dataframe tbody tr th {\n",
       "        vertical-align: top;\n",
       "    }\n",
       "\n",
       "    .dataframe thead th {\n",
       "        text-align: right;\n",
       "    }\n",
       "</style>\n",
       "<table border=\"1\" class=\"dataframe\">\n",
       "  <thead>\n",
       "    <tr style=\"text-align: right;\">\n",
       "      <th></th>\n",
       "      <th>Suburb</th>\n",
       "      <th>Address</th>\n",
       "      <th>Rooms</th>\n",
       "      <th>Type</th>\n",
       "      <th>Price</th>\n",
       "      <th>Method</th>\n",
       "      <th>SellerG</th>\n",
       "      <th>Date</th>\n",
       "      <th>Postcode</th>\n",
       "      <th>Regionname</th>\n",
       "      <th>Propertycount</th>\n",
       "      <th>Distance</th>\n",
       "      <th>CouncilArea</th>\n",
       "    </tr>\n",
       "  </thead>\n",
       "  <tbody>\n",
       "    <tr>\n",
       "      <th>23038</th>\n",
       "      <td>Berwick</td>\n",
       "      <td>20a Howitt Ct</td>\n",
       "      <td>3</td>\n",
       "      <td>h</td>\n",
       "      <td>395000.0</td>\n",
       "      <td>SP</td>\n",
       "      <td>Grant's</td>\n",
       "      <td>12/11/2016</td>\n",
       "      <td>3806</td>\n",
       "      <td>Eastern Victoria</td>\n",
       "      <td>17093</td>\n",
       "      <td>35.2</td>\n",
       "      <td>Casey City Council</td>\n",
       "    </tr>\n",
       "    <tr>\n",
       "      <th>29187</th>\n",
       "      <td>Clayton South</td>\n",
       "      <td>1/30 Bevan Av</td>\n",
       "      <td>4</td>\n",
       "      <td>t</td>\n",
       "      <td>599999.0</td>\n",
       "      <td>PI</td>\n",
       "      <td>Fletchers</td>\n",
       "      <td>16/04/2016</td>\n",
       "      <td>3169</td>\n",
       "      <td>South-Eastern Metropolitan</td>\n",
       "      <td>4734</td>\n",
       "      <td>17.5</td>\n",
       "      <td>Kingston City Council</td>\n",
       "    </tr>\n",
       "    <tr>\n",
       "      <th>50488</th>\n",
       "      <td>Essendon</td>\n",
       "      <td>31 Brewster St</td>\n",
       "      <td>5</td>\n",
       "      <td>h</td>\n",
       "      <td>NaN</td>\n",
       "      <td>S</td>\n",
       "      <td>Brad</td>\n",
       "      <td>25/02/2017</td>\n",
       "      <td>3040</td>\n",
       "      <td>Western Metropolitan</td>\n",
       "      <td>9264</td>\n",
       "      <td>7.5</td>\n",
       "      <td>Moonee Valley City Council</td>\n",
       "    </tr>\n",
       "    <tr>\n",
       "      <th>39432</th>\n",
       "      <td>Toorak</td>\n",
       "      <td>6 Woodside Cr</td>\n",
       "      <td>3</td>\n",
       "      <td>h</td>\n",
       "      <td>2800000.0</td>\n",
       "      <td>S</td>\n",
       "      <td>Jellis</td>\n",
       "      <td>19/11/2016</td>\n",
       "      <td>3142</td>\n",
       "      <td>Southern Metropolitan</td>\n",
       "      <td>7217</td>\n",
       "      <td>4.1</td>\n",
       "      <td>Stonnington City Council</td>\n",
       "    </tr>\n",
       "    <tr>\n",
       "      <th>5981</th>\n",
       "      <td>Blackburn South</td>\n",
       "      <td>20 Bindy St</td>\n",
       "      <td>4</td>\n",
       "      <td>h</td>\n",
       "      <td>NaN</td>\n",
       "      <td>SN</td>\n",
       "      <td>Woodards</td>\n",
       "      <td>4/03/2017</td>\n",
       "      <td>3130</td>\n",
       "      <td>Eastern Metropolitan</td>\n",
       "      <td>4387</td>\n",
       "      <td>13.4</td>\n",
       "      <td>Whitehorse City Council</td>\n",
       "    </tr>\n",
       "    <tr>\n",
       "      <th>14849</th>\n",
       "      <td>Coburg</td>\n",
       "      <td>5A Hardwick St</td>\n",
       "      <td>2</td>\n",
       "      <td>t</td>\n",
       "      <td>876000.0</td>\n",
       "      <td>S</td>\n",
       "      <td>Woodards</td>\n",
       "      <td>8/07/2017</td>\n",
       "      <td>3058</td>\n",
       "      <td>Northern Metropolitan</td>\n",
       "      <td>11204</td>\n",
       "      <td>6.7</td>\n",
       "      <td>Darebin City Council</td>\n",
       "    </tr>\n",
       "    <tr>\n",
       "      <th>38828</th>\n",
       "      <td>Brighton</td>\n",
       "      <td>823 Hampton St</td>\n",
       "      <td>4</td>\n",
       "      <td>h</td>\n",
       "      <td>2475000.0</td>\n",
       "      <td>VB</td>\n",
       "      <td>Marshall</td>\n",
       "      <td>19/11/2016</td>\n",
       "      <td>3186</td>\n",
       "      <td>Southern Metropolitan</td>\n",
       "      <td>10579</td>\n",
       "      <td>10.5</td>\n",
       "      <td>Bayside City Council</td>\n",
       "    </tr>\n",
       "    <tr>\n",
       "      <th>44865</th>\n",
       "      <td>Diamond Creek</td>\n",
       "      <td>27 Egan St</td>\n",
       "      <td>3</td>\n",
       "      <td>h</td>\n",
       "      <td>709000.0</td>\n",
       "      <td>S</td>\n",
       "      <td>Barry</td>\n",
       "      <td>23/06/2018</td>\n",
       "      <td>3089</td>\n",
       "      <td>Northern Victoria</td>\n",
       "      <td>4258</td>\n",
       "      <td>21.8</td>\n",
       "      <td>Nillumbik Shire Council</td>\n",
       "    </tr>\n",
       "    <tr>\n",
       "      <th>23993</th>\n",
       "      <td>Glenroy</td>\n",
       "      <td>92 Plumpton Av</td>\n",
       "      <td>2</td>\n",
       "      <td>t</td>\n",
       "      <td>512500.0</td>\n",
       "      <td>S</td>\n",
       "      <td>Eview</td>\n",
       "      <td>13/05/2017</td>\n",
       "      <td>3046</td>\n",
       "      <td>Northern Metropolitan</td>\n",
       "      <td>8870</td>\n",
       "      <td>11.2</td>\n",
       "      <td>Moreland City Council</td>\n",
       "    </tr>\n",
       "    <tr>\n",
       "      <th>13877</th>\n",
       "      <td>Thomastown</td>\n",
       "      <td>25 French St</td>\n",
       "      <td>3</td>\n",
       "      <td>h</td>\n",
       "      <td>860000.0</td>\n",
       "      <td>SP</td>\n",
       "      <td>Ray</td>\n",
       "      <td>8/01/2018</td>\n",
       "      <td>3074</td>\n",
       "      <td>Northern Metropolitan</td>\n",
       "      <td>7955</td>\n",
       "      <td>15.3</td>\n",
       "      <td>Whittlesea City Council</td>\n",
       "    </tr>\n",
       "  </tbody>\n",
       "</table>\n",
       "</div>"
      ],
      "text/plain": [
       "                Suburb         Address  Rooms Type      Price Method  \\\n",
       "23038          Berwick   20a Howitt Ct      3    h   395000.0     SP   \n",
       "29187    Clayton South   1/30 Bevan Av      4    t   599999.0     PI   \n",
       "50488         Essendon  31 Brewster St      5    h        NaN      S   \n",
       "39432           Toorak   6 Woodside Cr      3    h  2800000.0      S   \n",
       "5981   Blackburn South     20 Bindy St      4    h        NaN     SN   \n",
       "14849           Coburg  5A Hardwick St      2    t   876000.0      S   \n",
       "38828         Brighton  823 Hampton St      4    h  2475000.0     VB   \n",
       "44865    Diamond Creek      27 Egan St      3    h   709000.0      S   \n",
       "23993          Glenroy  92 Plumpton Av      2    t   512500.0      S   \n",
       "13877       Thomastown    25 French St      3    h   860000.0     SP   \n",
       "\n",
       "         SellerG        Date  Postcode                  Regionname  \\\n",
       "23038    Grant's  12/11/2016      3806            Eastern Victoria   \n",
       "29187  Fletchers  16/04/2016      3169  South-Eastern Metropolitan   \n",
       "50488       Brad  25/02/2017      3040        Western Metropolitan   \n",
       "39432     Jellis  19/11/2016      3142       Southern Metropolitan   \n",
       "5981    Woodards   4/03/2017      3130        Eastern Metropolitan   \n",
       "14849   Woodards   8/07/2017      3058       Northern Metropolitan   \n",
       "38828   Marshall  19/11/2016      3186       Southern Metropolitan   \n",
       "44865      Barry  23/06/2018      3089           Northern Victoria   \n",
       "23993      Eview  13/05/2017      3046       Northern Metropolitan   \n",
       "13877        Ray   8/01/2018      3074       Northern Metropolitan   \n",
       "\n",
       "       Propertycount  Distance                 CouncilArea  \n",
       "23038          17093      35.2          Casey City Council  \n",
       "29187           4734      17.5       Kingston City Council  \n",
       "50488           9264       7.5  Moonee Valley City Council  \n",
       "39432           7217       4.1    Stonnington City Council  \n",
       "5981            4387      13.4     Whitehorse City Council  \n",
       "14849          11204       6.7        Darebin City Council  \n",
       "38828          10579      10.5        Bayside City Council  \n",
       "44865           4258      21.8     Nillumbik Shire Council  \n",
       "23993           8870      11.2       Moreland City Council  \n",
       "13877           7955      15.3     Whittlesea City Council  "
      ]
     },
     "execution_count": 2,
     "metadata": {},
     "output_type": "execute_result"
    }
   ],
   "source": [
    "mhm_df = pd.read_csv('MELBOURNE_HOUSE_PRICES_LESS.csv')\n",
    "mhm_df.sample(10)"
   ]
  },
  {
   "cell_type": "markdown",
   "id": "bef88990",
   "metadata": {},
   "source": [
    "### Dữ liệu có bao nhiêu dòng và bao nhiêu cột?"
   ]
  },
  {
   "cell_type": "markdown",
   "id": "40fbf8e4-b0fd-4871-a8f1-d8f6ddb2f41b",
   "metadata": {},
   "source": [
    "Số dòng, số cột sẽ lần lượt lưu vào hai biến num_rows và num_cols"
   ]
  },
  {
   "cell_type": "code",
   "execution_count": 3,
   "id": "48d8cc0e",
   "metadata": {},
   "outputs": [
    {
     "name": "stdout",
     "output_type": "stream",
     "text": [
      "63023 13\n"
     ]
    }
   ],
   "source": [
    "num_rows, num_cols = mhm_df.shape\n",
    "print(num_rows, num_cols)"
   ]
  },
  {
   "cell_type": "markdown",
   "id": "2cccaece",
   "metadata": {},
   "source": [
    "### Mỗi dòng có ý nghĩa gì? Có vấn đề các dòng có ý nghĩa khác nhau hay không?"
   ]
  },
  {
   "cell_type": "markdown",
   "id": "27e5abee",
   "metadata": {},
   "source": [
    "Mỗi dòng cung cấp thông tin về một ngôi nhà ở Melbourne"
   ]
  },
  {
   "cell_type": "markdown",
   "id": "6428a2f8",
   "metadata": {},
   "source": [
    "### Dữ liệu có các dòng bị lặp không?"
   ]
  },
  {
   "cell_type": "code",
   "execution_count": 4,
   "id": "ab2552de",
   "metadata": {},
   "outputs": [
    {
     "data": {
      "text/plain": [
       "2"
      ]
     },
     "execution_count": 4,
     "metadata": {},
     "output_type": "execute_result"
    }
   ],
   "source": [
    "have_duplicated_rows = mhm_df.duplicated().sum()\n",
    "have_duplicated_rows"
   ]
  },
  {
   "cell_type": "code",
   "execution_count": 5,
   "id": "d4c0fa3d-8260-4ef1-b8b0-039ffc047776",
   "metadata": {},
   "outputs": [
    {
     "data": {
      "text/plain": [
       "(63021, 13)"
      ]
     },
     "execution_count": 5,
     "metadata": {},
     "output_type": "execute_result"
    }
   ],
   "source": [
    "mhm_df = mhm_df.drop_duplicates()\n",
    "mhm_df.shape"
   ]
  },
  {
   "cell_type": "markdown",
   "id": "a11efee3-526d-4d87-88a1-ea5d56217a97",
   "metadata": {},
   "source": [
    "Sau khi loại bỏ dòng lặp, thì mhm_df còn đúng 63021 dòng dữ liệu"
   ]
  },
  {
   "cell_type": "markdown",
   "id": "69c2aa91",
   "metadata": {},
   "source": [
    "### Mỗi cột có ý nghĩa gì?"
   ]
  },
  {
   "cell_type": "markdown",
   "id": "b3d728e6-d24c-46a6-b8ae-145a0c77ddc6",
   "metadata": {},
   "source": [
    "Dưới đây là phần mô tả của dữ liệu trên trang `Kaggle`\n",
    "- Suburb: ngoại ô\n",
    "- Address: địa chỉ cụ thể của ngôi nhà\n",
    "- Rooms: số phòng của ngôi nhà\n",
    "- Price: giá của ngôi nhà, tính bằng đô la Úc\n",
    "- Method:\n",
    "    - S - tài sản đã bán\n",
    "    - SP - tài sản đã bán trước đó\n",
    "    - PI - tài sản được chuyển vào\n",
    "    - PN - bán trước không được tiết lộ\n",
    "    - SN - bán không được tiết lộ\n",
    "    - NB - không có giá thầu\n",
    "    - VB - giá thầu của nhà cung cấp\n",
    "    - W - thu hồi trước khi đấu giá\n",
    "    - SA - bán sau khi đấu giá\n",
    "    - SS - giá bán sau đấu giá không được tiết lộ\n",
    "    - N / A - giá hoặc giá thầu cao nhất không có sẵn\n",
    "- Type:\n",
    "    - br - phòng ngủ\n",
    "    - h - nhà, biệt thự, sân thượng\n",
    "    - u - nhà đơn, nhà hai tầng\n",
    "    - t - nhà phố\n",
    "    - dev site - nhà có vị trí phát triển\n",
    "    - o res - khu dân cư khác\n",
    "- Postcode: mã bưu điện\n",
    "- SellerG: Đại lý bất động sản\n",
    "- Date: Ngày bán\n",
    "- Distance: Khoảng cách từ CBD tính bằng Kilômét\n",
    "- RegionName: Khu vực chung (Tây, Tây Bắc, Bắc, Đông Bắc… vv)\n",
    "- Propertycount: Số lượng thuộc tính tồn tại ở vùng ngoại ô\n",
    "- CouncilArea: Hội đồng quản lý khu vực"
   ]
  },
  {
   "cell_type": "markdown",
   "id": "e23ad3ca",
   "metadata": {},
   "source": [
    "### Mỗi cột hiện đang có kiểu dữ liệu gì? Có cột nào có kiểu dữ liệu chưa phù hợp để có thể xử lý tiếp không?"
   ]
  },
  {
   "cell_type": "code",
   "execution_count": 6,
   "id": "b0e13c77",
   "metadata": {},
   "outputs": [
    {
     "name": "stdout",
     "output_type": "stream",
     "text": [
      "<class 'pandas.core.frame.DataFrame'>\n",
      "Int64Index: 63021 entries, 0 to 63022\n",
      "Data columns (total 13 columns):\n",
      " #   Column         Non-Null Count  Dtype  \n",
      "---  ------         --------------  -----  \n",
      " 0   Suburb         63021 non-null  object \n",
      " 1   Address        63021 non-null  object \n",
      " 2   Rooms          63021 non-null  int64  \n",
      " 3   Type           63021 non-null  object \n",
      " 4   Price          48432 non-null  float64\n",
      " 5   Method         63021 non-null  object \n",
      " 6   SellerG        63021 non-null  object \n",
      " 7   Date           63021 non-null  object \n",
      " 8   Postcode       63021 non-null  int64  \n",
      " 9   Regionname     63021 non-null  object \n",
      " 10  Propertycount  63021 non-null  int64  \n",
      " 11  Distance       63021 non-null  float64\n",
      " 12  CouncilArea    63021 non-null  object \n",
      "dtypes: float64(2), int64(3), object(8)\n",
      "memory usage: 6.7+ MB\n"
     ]
    }
   ],
   "source": [
    "mhm_df.info()"
   ]
  },
  {
   "cell_type": "markdown",
   "id": "4df3004d-9d70-4236-9526-f7dc91d80109",
   "metadata": {},
   "source": [
    "Trong Pandas, kiểu dữ liệu `object` thường ám chỉ chuỗi, nhưng thật ra kiểu dữ liệu `object` có thể chứa một đối tượng bất kỳ trong Python (vì thật ra ở bên dưới kiểu dữ liệu `object` chứa địa chỉ). Nếu một cột trong dataframe có `dtype` là `object` thì có thể các phần tử trong cột này sẽ có kiểu dữ liệu khác nhau; để biết được kiểu dữ liệu thật sự của các phần tử trong cột này thì ta phải truy xuất vào từng phần tử và dùng câu lệnh `type` để xem kiểu dữ liệu. Do đó tiền hành code hàm open_object_dtype trả về tập các kiểu dữ liệu có ở trong các cột"
   ]
  },
  {
   "cell_type": "code",
   "execution_count": 7,
   "id": "89554c2b-6257-48c5-bf44-79b916b8f665",
   "metadata": {},
   "outputs": [],
   "source": [
    "def open_object_dtype(s):\n",
    "    dtypes = set(s.map(type))\n",
    "    return dtypes"
   ]
  },
  {
   "cell_type": "code",
   "execution_count": 8,
   "id": "893c5562-fa34-4691-ac6f-b5bc8909acf5",
   "metadata": {},
   "outputs": [
    {
     "name": "stdout",
     "output_type": "stream",
     "text": [
      "{<class 'str'>}\n",
      "{<class 'str'>}\n",
      "{<class 'str'>}\n",
      "{<class 'str'>}\n",
      "{<class 'str'>}\n",
      "{<class 'str'>}\n",
      "{<class 'str'>}\n",
      "{<class 'str'>}\n"
     ]
    }
   ],
   "source": [
    "l = ['Suburb', 'Address', 'Type', 'Method', 'SellerG', 'Date', 'Regionname', 'CouncilArea']\n",
    "for feature in l:\n",
    "    object_dtype = open_object_dtype(mhm_df[feature])\n",
    "    print(object_dtype)"
   ]
  },
  {
   "cell_type": "markdown",
   "id": "24b675d8-0455-4a5b-9e16-5b59056edc13",
   "metadata": {},
   "source": [
    "**Vấn đề cần tiền xử lí:**\n",
    "- Cột `Date` đang có kiểu dữ liệu là `str`, để khám phá thêm cột này ta sẽ phải chuyển nó về dạng `datetime`"
   ]
  },
  {
   "cell_type": "markdown",
   "id": "a8b395fd",
   "metadata": {},
   "source": [
    "## Tiền xử lý"
   ]
  },
  {
   "cell_type": "code",
   "execution_count": 9,
   "id": "393c3fd8",
   "metadata": {},
   "outputs": [
    {
     "data": {
      "text/plain": [
       "dtype('<M8[ns]')"
      ]
     },
     "execution_count": 9,
     "metadata": {},
     "output_type": "execute_result"
    }
   ],
   "source": [
    "mhm_df['Date'] = pd.to_datetime(mhm_df['Date'], format = '%d/%m/%Y')\n",
    "mhm_df['Date'].dtypes"
   ]
  },
  {
   "cell_type": "markdown",
   "id": "910bdcc4-513e-4a01-b6e2-9b8ab8da3c6b",
   "metadata": {},
   "source": [
    "## Khám phá dữ liệu (tiếp tục)"
   ]
  },
  {
   "cell_type": "markdown",
   "id": "6c984259-45ed-48a4-afaa-df31ee2c6c35",
   "metadata": {},
   "source": [
    "### Với mỗi cột dữ liệu numeric, các giá trị được phân bố như thế nào?"
   ]
  },
  {
   "cell_type": "markdown",
   "id": "41281b14-3d98-4049-bed5-36433e33ecc5",
   "metadata": {},
   "source": [
    "Chúng ta xếp cột `Date` vào cột dạng numeric. Như vậy có vẻ có tổng cộng 6 cột dạng numeric, đó là `Date` `Rooms`, `Price`, `Postcode`, `Propertycount` và `Distance`. Tuy nhiên cột `Postcode` thực chất là dạng categorical, vì mã bưu điện thì được đánh dưới dạng số. Vậy số cột numeric thực sự là `Date`, `Rooms`, `Price`, `Propertycount` và `Distance`  \n",
    "\n",
    "Với mỗi cột numeric, ta sẽ tính tỉ lệ phần trăm giá trị bị thiếu (từ 0 đến 100), min và max. Kết quả được lưu vào dataframe `nume-col_profiles_df`"
   ]
  },
  {
   "cell_type": "code",
   "execution_count": 10,
   "id": "68cd5dba-617c-4725-bd3e-9afa08f6f1fa",
   "metadata": {},
   "outputs": [
    {
     "data": {
      "text/html": [
       "<div>\n",
       "<style scoped>\n",
       "    .dataframe tbody tr th:only-of-type {\n",
       "        vertical-align: middle;\n",
       "    }\n",
       "\n",
       "    .dataframe tbody tr th {\n",
       "        vertical-align: top;\n",
       "    }\n",
       "\n",
       "    .dataframe thead th {\n",
       "        text-align: right;\n",
       "    }\n",
       "</style>\n",
       "<table border=\"1\" class=\"dataframe\">\n",
       "  <thead>\n",
       "    <tr style=\"text-align: right;\">\n",
       "      <th></th>\n",
       "      <th>Date</th>\n",
       "      <th>Rooms</th>\n",
       "      <th>Price</th>\n",
       "      <th>Propertycount</th>\n",
       "      <th>Distance</th>\n",
       "    </tr>\n",
       "  </thead>\n",
       "  <tbody>\n",
       "    <tr>\n",
       "      <th>missing_ratio</th>\n",
       "      <td>0</td>\n",
       "      <td>0</td>\n",
       "      <td>23</td>\n",
       "      <td>0</td>\n",
       "      <td>0</td>\n",
       "    </tr>\n",
       "    <tr>\n",
       "      <th>min</th>\n",
       "      <td>2016-01-28 00:00:00</td>\n",
       "      <td>1</td>\n",
       "      <td>85,000</td>\n",
       "      <td>39</td>\n",
       "      <td>0</td>\n",
       "    </tr>\n",
       "    <tr>\n",
       "      <th>max</th>\n",
       "      <td>2018-10-13 00:00:00</td>\n",
       "      <td>31</td>\n",
       "      <td>11,200,000</td>\n",
       "      <td>21,650</td>\n",
       "      <td>64</td>\n",
       "    </tr>\n",
       "  </tbody>\n",
       "</table>\n",
       "</div>"
      ],
      "text/plain": [
       "                              Date  Rooms      Price  Propertycount  Distance\n",
       "missing_ratio                    0      0         23              0         0\n",
       "min            2016-01-28 00:00:00      1     85,000             39         0\n",
       "max            2018-10-13 00:00:00     31 11,200,000         21,650        64"
      ]
     },
     "execution_count": 10,
     "metadata": {},
     "output_type": "execute_result"
    }
   ],
   "source": [
    "pd.options.display.float_format = '{:,.0f}'.format\n",
    "nume_cols = [\"Date\", \"Rooms\", \"Price\", \"Propertycount\", \"Distance\"]\n",
    "\n",
    "def missing_ratio(df):\n",
    "    return df.isnull().sum() * 100 / len(df)\n",
    "\n",
    "nume_col_profiles_df = mhm_df[nume_cols].agg([missing_ratio, 'min', 'max'])\n",
    "nume_col_profiles_df"
   ]
  },
  {
   "cell_type": "markdown",
   "id": "56a5d947-bb86-4435-bceb-68f716db9394",
   "metadata": {},
   "source": [
    "Cột `Price` có phần trăm giá trị bị thiếu là 23%, điều này không nằm ngoài dự tính bởi lẽ như trong file mô tả có nói, cột `Method` sẽ cho chúng ta biết được phương thức bán nhà, với các phương thức \"PN\", \"SN\", ... thì giá nhà sẽ không được công khai. Do đó với các giá trị thiếu này ta sẽ không loại bỏ chúng. Với các giá trị min có lẽ không có gì bất thường. Nhưng với giá trị max chúng ta có thể thấy ngôi nhà có số phòng nhiều nhất lên đến 31 phòng, ngôi nhà có giá cao nhất lên đến 11,200,000 đô Úc (tức là khoảng 160 tỉ VND), chúng ta sẽ thử tính toán và vẽ biểu đồ xem thử các giá trị này có thực sự bất thường hay không? "
   ]
  },
  {
   "cell_type": "code",
   "execution_count": 11,
   "id": "198941fd-672c-47e3-b0ad-93001bbf961d",
   "metadata": {},
   "outputs": [
    {
     "data": {
      "text/html": [
       "<div>\n",
       "<style scoped>\n",
       "    .dataframe tbody tr th:only-of-type {\n",
       "        vertical-align: middle;\n",
       "    }\n",
       "\n",
       "    .dataframe tbody tr th {\n",
       "        vertical-align: top;\n",
       "    }\n",
       "\n",
       "    .dataframe thead th {\n",
       "        text-align: right;\n",
       "    }\n",
       "</style>\n",
       "<table border=\"1\" class=\"dataframe\">\n",
       "  <thead>\n",
       "    <tr style=\"text-align: right;\">\n",
       "      <th></th>\n",
       "      <th>Num of houses</th>\n",
       "    </tr>\n",
       "  </thead>\n",
       "  <tbody>\n",
       "    <tr>\n",
       "      <th>3</th>\n",
       "      <td>27949</td>\n",
       "    </tr>\n",
       "    <tr>\n",
       "      <th>4</th>\n",
       "      <td>15747</td>\n",
       "    </tr>\n",
       "    <tr>\n",
       "      <th>2</th>\n",
       "      <td>13247</td>\n",
       "    </tr>\n",
       "    <tr>\n",
       "      <th>5</th>\n",
       "      <td>3434</td>\n",
       "    </tr>\n",
       "    <tr>\n",
       "      <th>1</th>\n",
       "      <td>2111</td>\n",
       "    </tr>\n",
       "    <tr>\n",
       "      <th>6</th>\n",
       "      <td>424</td>\n",
       "    </tr>\n",
       "    <tr>\n",
       "      <th>7</th>\n",
       "      <td>61</td>\n",
       "    </tr>\n",
       "    <tr>\n",
       "      <th>8</th>\n",
       "      <td>29</td>\n",
       "    </tr>\n",
       "    <tr>\n",
       "      <th>10</th>\n",
       "      <td>7</td>\n",
       "    </tr>\n",
       "    <tr>\n",
       "      <th>9</th>\n",
       "      <td>5</td>\n",
       "    </tr>\n",
       "    <tr>\n",
       "      <th>12</th>\n",
       "      <td>4</td>\n",
       "    </tr>\n",
       "    <tr>\n",
       "      <th>11</th>\n",
       "      <td>1</td>\n",
       "    </tr>\n",
       "    <tr>\n",
       "      <th>16</th>\n",
       "      <td>1</td>\n",
       "    </tr>\n",
       "    <tr>\n",
       "      <th>31</th>\n",
       "      <td>1</td>\n",
       "    </tr>\n",
       "  </tbody>\n",
       "</table>\n",
       "</div>"
      ],
      "text/plain": [
       "    Num of houses\n",
       "3           27949\n",
       "4           15747\n",
       "2           13247\n",
       "5            3434\n",
       "1            2111\n",
       "6             424\n",
       "7              61\n",
       "8              29\n",
       "10              7\n",
       "9               5\n",
       "12              4\n",
       "11              1\n",
       "16              1\n",
       "31              1"
      ]
     },
     "execution_count": 11,
     "metadata": {},
     "output_type": "execute_result"
    }
   ],
   "source": [
    "rooms_value_counts = pd.DataFrame(mhm_df['Rooms'].value_counts())\n",
    "rooms_value_counts.columns = ['Num of houses']\n",
    "rooms_value_counts"
   ]
  },
  {
   "cell_type": "code",
   "execution_count": 12,
   "id": "38b36bd3-38a2-4db5-aaec-d8d43dc15af5",
   "metadata": {},
   "outputs": [
    {
     "data": {
      "image/png": "[encoded data removed]",
      "text/plain": [
       "<Figure size 432x288 with 1 Axes>"
      ]
     },
     "metadata": {
      "needs_background": "light"
     },
     "output_type": "display_data"
    }
   ],
   "source": [
    "plt.bar(rooms_value_counts.index, rooms_value_counts['Num of houses']);"
   ]
  },
  {
   "cell_type": "markdown",
   "id": "37bd36d7-79c9-48d8-82b0-f1b3d60b35ac",
   "metadata": {},
   "source": [
    "Theo quan sát thì chúng ta có thể nhận thấy rằng những ngôi nhà có nhiều hơn 7 phòng đã là rất hiếm, vì thế ngôi nhà có 31 phòng thực sự là điều kì lạ. Chúng ta không thể khẳng định chắc chắn được là liệu có hay không căn nhà với 31 phòng, hay đây là sai sót trong quá trình nhập liệu, vì thế mà ta sẽ không bỏ đi chúng, chỉ tiến hành khám phá và coi nó như một giá trị ngoại lệ"
   ]
  },
  {
   "cell_type": "code",
   "execution_count": 13,
   "id": "0b74b1db-b7fe-4f99-8d9c-fb9d5f0f10f8",
   "metadata": {},
   "outputs": [
    {
     "data": {
      "image/png": "[encoded data removed]",
      "text/plain": [
       "<Figure size 432x288 with 1 Axes>"
      ]
     },
     "metadata": {
      "needs_background": "light"
     },
     "output_type": "display_data"
    }
   ],
   "source": [
    "plt.hist(mhm_df['Price'], edgecolor='black');"
   ]
  },
  {
   "cell_type": "code",
   "execution_count": 14,
   "id": "f2ea8a70-404d-4338-a19b-4e11fcbbcc6e",
   "metadata": {},
   "outputs": [
    {
     "data": {
      "text/plain": [
       "73"
      ]
     },
     "execution_count": 14,
     "metadata": {},
     "output_type": "execute_result"
    }
   ],
   "source": [
    "len(mhm_df[mhm_df['Price'] > 5000000])"
   ]
  },
  {
   "cell_type": "markdown",
   "id": "1e4e48e0-60ce-4cbd-9155-f79d2e9df28a",
   "metadata": {},
   "source": [
    "Theo quan sát, các ngôi nhà có giá trên 5,000,000 đô la Úc thực sự chiếm tỉ lệ rất ít, tuy nhiên chúng ta cũng không thể khẳng định được liệu căn nhà có giá 11,200,000 có thật hay không hay là do sai sót trong quá trình nhập liệu, thực tế thì vẫn có các siêu biệt thự dành cho giới nhà giàu. Do đó, ta sẽ giữ lại các giá trị này, chỉ tiến hành khám phá chúng và xem như những giá trị ngoại lệ hay giá trị đặc biệt"
   ]
  },
  {
   "cell_type": "markdown",
   "id": "eeae6456-1e1c-41c6-9f3e-011459dd2c93",
   "metadata": {},
   "source": [
    "### Với mỗi cột dữ liệu categorical, các giá trị được phân bố như thế nào?"
   ]
  },
  {
   "cell_type": "markdown",
   "id": "23754074-af7e-4dd3-a017-c47d71da4942",
   "metadata": {},
   "source": [
    "mhm_df có tổng cộng 8 cột dữ liệu dạng categorical là `Suburb`, `Address`, `Type`, `Method`, `SellerG`, `Regionname`, `CouncilArea`, `Postcode`  \n",
    "\n",
    "Với mỗi cột categorical, ta tiến hành tính phần trăm giá trị bị thiếu (từ 0 đến 100), tính số lượng giá trị khác nhau, list/array các giá trị khác nhau. Kết quả sẽ được lưu vào dataframe `cate_col_profiles_df`"
   ]
  },
  {
   "cell_type": "code",
   "execution_count": 15,
   "id": "e70ae2c4-ccdd-4c7a-93ea-360331ae1e85",
   "metadata": {},
   "outputs": [
    {
     "data": {
      "text/html": [
       "<div>\n",
       "<style scoped>\n",
       "    .dataframe tbody tr th:only-of-type {\n",
       "        vertical-align: middle;\n",
       "    }\n",
       "\n",
       "    .dataframe tbody tr th {\n",
       "        vertical-align: top;\n",
       "    }\n",
       "\n",
       "    .dataframe thead th {\n",
       "        text-align: right;\n",
       "    }\n",
       "</style>\n",
       "<table border=\"1\" class=\"dataframe\">\n",
       "  <thead>\n",
       "    <tr style=\"text-align: right;\">\n",
       "      <th></th>\n",
       "      <th>Suburb</th>\n",
       "      <th>Address</th>\n",
       "      <th>Type</th>\n",
       "      <th>Method</th>\n",
       "      <th>SellerG</th>\n",
       "      <th>Regionname</th>\n",
       "      <th>CouncilArea</th>\n",
       "      <th>Postcode</th>\n",
       "    </tr>\n",
       "  </thead>\n",
       "  <tbody>\n",
       "    <tr>\n",
       "      <th>missing_ratio</th>\n",
       "      <td>0</td>\n",
       "      <td>0</td>\n",
       "      <td>0</td>\n",
       "      <td>0</td>\n",
       "      <td>0</td>\n",
       "      <td>0</td>\n",
       "      <td>0</td>\n",
       "      <td>0</td>\n",
       "    </tr>\n",
       "    <tr>\n",
       "      <th>num_diff_vals</th>\n",
       "      <td>380</td>\n",
       "      <td>57754</td>\n",
       "      <td>3</td>\n",
       "      <td>9</td>\n",
       "      <td>476</td>\n",
       "      <td>8</td>\n",
       "      <td>34</td>\n",
       "      <td>225</td>\n",
       "    </tr>\n",
       "    <tr>\n",
       "      <th>diff_vals</th>\n",
       "      <td>[Abbotsford, Aberfeldie, Airport West, Albanva...</td>\n",
       "      <td>[49 Lithgow St, 59A Turner St, 119B Yarra St, ...</td>\n",
       "      <td>[h, t, u]</td>\n",
       "      <td>[S, SP, PI, SN, VB, PN, SA, W, SS]</td>\n",
       "      <td>[Jellis, Marshall, Nelson, Barry, hockingstuar...</td>\n",
       "      <td>[Northern Metropolitan, Western Metropolitan, ...</td>\n",
       "      <td>[Yarra City Council, Moonee Valley City Counci...</td>\n",
       "      <td>[3067, 3040, 3042, 3021, 3206, 3020, 3078, 301...</td>\n",
       "    </tr>\n",
       "  </tbody>\n",
       "</table>\n",
       "</div>"
      ],
      "text/plain": [
       "                                                          Suburb  \\\n",
       "missing_ratio                                                  0   \n",
       "num_diff_vals                                                380   \n",
       "diff_vals      [Abbotsford, Aberfeldie, Airport West, Albanva...   \n",
       "\n",
       "                                                         Address       Type  \\\n",
       "missing_ratio                                                  0          0   \n",
       "num_diff_vals                                              57754          3   \n",
       "diff_vals      [49 Lithgow St, 59A Turner St, 119B Yarra St, ...  [h, t, u]   \n",
       "\n",
       "                                           Method  \\\n",
       "missing_ratio                                   0   \n",
       "num_diff_vals                                   9   \n",
       "diff_vals      [S, SP, PI, SN, VB, PN, SA, W, SS]   \n",
       "\n",
       "                                                         SellerG  \\\n",
       "missing_ratio                                                  0   \n",
       "num_diff_vals                                                476   \n",
       "diff_vals      [Jellis, Marshall, Nelson, Barry, hockingstuar...   \n",
       "\n",
       "                                                      Regionname  \\\n",
       "missing_ratio                                                  0   \n",
       "num_diff_vals                                                  8   \n",
       "diff_vals      [Northern Metropolitan, Western Metropolitan, ...   \n",
       "\n",
       "                                                     CouncilArea  \\\n",
       "missing_ratio                                                  0   \n",
       "num_diff_vals                                                 34   \n",
       "diff_vals      [Yarra City Council, Moonee Valley City Counci...   \n",
       "\n",
       "                                                        Postcode  \n",
       "missing_ratio                                                  0  \n",
       "num_diff_vals                                                225  \n",
       "diff_vals      [3067, 3040, 3042, 3021, 3206, 3020, 3078, 301...  "
      ]
     },
     "execution_count": 15,
     "metadata": {},
     "output_type": "execute_result"
    }
   ],
   "source": [
    "cate_cols = ['Suburb', 'Address', 'Type', 'Method', 'SellerG', 'Regionname', 'CouncilArea', 'Postcode']\n",
    "def num_diff_vals(df):\n",
    "    return df.nunique()\n",
    "\n",
    "def diff_vals(df):\n",
    "    return df.unique()\n",
    "\n",
    "cate_col_profiles_df = mhm_df[cate_cols].agg([missing_ratio, num_diff_vals, diff_vals])\n",
    "\n",
    "cate_col_profiles_df"
   ]
  },
  {
   "cell_type": "markdown",
   "id": "9d9b9e62-6860-45dd-b9bf-041f45a095ed",
   "metadata": {},
   "source": [
    "### Làm rõ hơn ý nghĩa của cột `Suburb` và `CouncilArea`"
   ]
  },
  {
   "cell_type": "markdown",
   "id": "97351292-0963-49d5-bf47-92596a4dc0c5",
   "metadata": {},
   "source": [
    "Theo mô tả của file dữ liệu thì:\n",
    "- Suburb: mô tả ngoại ô, nơi mà ngôi nhà tọa lạc\n",
    "- CouncilArea: hội đồng quản lí của khu vực  \n",
    "\n",
    "Ở Úc, chính quyền địa phương là cấp hành chính thấp nhất, nằm dưới tiểu bang và liên bang. Cơ quan quyền lực nhà nước đóng trên địa phương được gọi là hội đồng. Khác với Việt Nam, mỗi phường, xã, thị trấn (đơn vị hành chính nhỏ nhất ở nước ta) đều tồn tại một Hội đồng Nhân dân, ở Úc lại không chia nhỏ ra như vậy, mỗi hội đồng bao gồm nhiều suburb,do đó mà ở Úc chỉ có 565 chính quyền địa phương mà thôi. Bây giờ trước tiên chúng ta sẽ cùng xem thử mỗi hội đồng ở trong dữ liệu này bao gồm những suburb nào"
   ]
  },
  {
   "cell_type": "code",
   "execution_count": 16,
   "id": "c8f10eab-4f05-4f58-b9eb-defbd3b7e47b",
   "metadata": {},
   "outputs": [
    {
     "data": {
      "text/html": [
       "<div>\n",
       "<style scoped>\n",
       "    .dataframe tbody tr th:only-of-type {\n",
       "        vertical-align: middle;\n",
       "    }\n",
       "\n",
       "    .dataframe tbody tr th {\n",
       "        vertical-align: top;\n",
       "    }\n",
       "\n",
       "    .dataframe thead th {\n",
       "        text-align: right;\n",
       "    }\n",
       "</style>\n",
       "<table border=\"1\" class=\"dataframe\">\n",
       "  <thead>\n",
       "    <tr style=\"text-align: right;\">\n",
       "      <th></th>\n",
       "      <th>Suburb</th>\n",
       "    </tr>\n",
       "    <tr>\n",
       "      <th>CouncilArea</th>\n",
       "      <th></th>\n",
       "    </tr>\n",
       "  </thead>\n",
       "  <tbody>\n",
       "    <tr>\n",
       "      <th>Banyule City Council</th>\n",
       "      <td>{Bundoora, MacLeod, Eltham North, Macleod, Eltham, Eaglemont, Heidelberg Heights, Bellfield, Ivanhoe, Heidelberg, Briar Hill, Montmorency, Lower Plenty, Viewbank, Rosanna, Ivanhoe East, Yallambie, viewbank, Watsonia, Heidelberg West, Greensborough, Watsonia North, St Helena}</td>\n",
       "    </tr>\n",
       "    <tr>\n",
       "      <th>Bayside City Council</th>\n",
       "      <td>{Brighton, Black Rock, Hampton, Brighton East, Sandringham, Highett, Hampton East, Beaumaris, Cheltenham}</td>\n",
       "    </tr>\n",
       "    <tr>\n",
       "      <th>Boroondara City Council</th>\n",
       "      <td>{Mont Albert, Hawthorn East, Camberwell, Canterbury, Balwyn, Glen Iris, Balwyn North, Hawthorn, Surrey Hills, Deepdene, Kew East, Kew, Ashburton}</td>\n",
       "    </tr>\n",
       "    <tr>\n",
       "      <th>Brimbank City Council</th>\n",
       "      <td>{Keilor Park, Tullamarine, Ardeer, Sunshine West, Keilor, Taylors Lakes, Sydenham, Brooklyn, Deer Park, Albanvale, Keilor East, Sunshine, Kings Park, St Albans, Albion, Delahey, Kealba, Keilor Lodge, Sunshine North, Derrimut, Cairnlea, Hillside, Keilor Downs}</td>\n",
       "    </tr>\n",
       "    <tr>\n",
       "      <th>Cardinia Shire Council</th>\n",
       "      <td>{Beaconsfield Upper, Avonsleigh, Officer, Beaconsfield, Pakenham, Emerald, Cockatoo, Guys Hill, Menzies Creek, Gembrook}</td>\n",
       "    </tr>\n",
       "  </tbody>\n",
       "</table>\n",
       "</div>"
      ],
      "text/plain": [
       "                                                                                                                                                                                                                                                                                                      Suburb\n",
       "CouncilArea                                                                                                                                                                                                                                                                                                 \n",
       "Banyule City Council     {Bundoora, MacLeod, Eltham North, Macleod, Eltham, Eaglemont, Heidelberg Heights, Bellfield, Ivanhoe, Heidelberg, Briar Hill, Montmorency, Lower Plenty, Viewbank, Rosanna, Ivanhoe East, Yallambie, viewbank, Watsonia, Heidelberg West, Greensborough, Watsonia North, St Helena}\n",
       "Bayside City Council                                                                                                                                                                               {Brighton, Black Rock, Hampton, Brighton East, Sandringham, Highett, Hampton East, Beaumaris, Cheltenham}\n",
       "Boroondara City Council                                                                                                                                    {Mont Albert, Hawthorn East, Camberwell, Canterbury, Balwyn, Glen Iris, Balwyn North, Hawthorn, Surrey Hills, Deepdene, Kew East, Kew, Ashburton}\n",
       "Brimbank City Council                    {Keilor Park, Tullamarine, Ardeer, Sunshine West, Keilor, Taylors Lakes, Sydenham, Brooklyn, Deer Park, Albanvale, Keilor East, Sunshine, Kings Park, St Albans, Albion, Delahey, Kealba, Keilor Lodge, Sunshine North, Derrimut, Cairnlea, Hillside, Keilor Downs}\n",
       "Cardinia Shire Council                                                                                                                                                              {Beaconsfield Upper, Avonsleigh, Officer, Beaconsfield, Pakenham, Emerald, Cockatoo, Guys Hill, Menzies Creek, Gembrook}"
      ]
     },
     "execution_count": 16,
     "metadata": {},
     "output_type": "execute_result"
    }
   ],
   "source": [
    "pd.set_option(\"display.max_colwidth\", 1000)\n",
    "su_in_ca_df = mhm_df[['Suburb', 'CouncilArea']]\n",
    "su_in_ca_df = su_in_ca_df.groupby(['CouncilArea'])['Suburb'].apply(set)\n",
    "su_in_ca_df = pd.DataFrame(su_in_ca_df)\n",
    "su_in_ca_df.head()"
   ]
  },
  {
   "cell_type": "markdown",
   "id": "287152e1-7baa-4165-b410-3c1c9223e273",
   "metadata": {},
   "source": [
    "Theo [wikipedia](https://vi.wikipedia.org/wiki/Ch%C3%ADnh_quy%E1%BB%81n_%C4%91%E1%BB%8Ba_ph%C6%B0%C6%A1ng_%E1%BB%9F_%C3%9Ac) mặc dù chính quyền địa phương ở Úc được phân chia khá đơn giản, nhưng một vài khu vực địa lý khá rộng và có ít dân lại không trực thuộc cấp chính quyền cơ sở nào cả. Nhiệm vụ của chính quyền địa phương ở những khu vực này thường do các tổ chức, cơ quan đặc trách ngoài chính quyền đảm nhận (như các khu nghỉ mát trên núi ở bang Victoria), hoặc do nhà chức trách tiểu bang cai quản toàn bộ. Như vậy chúng ta thử kiểm tra xem liệu có sự đụng độ suburb nào ở các chính quyền địa phương hay không "
   ]
  },
  {
   "cell_type": "code",
   "execution_count": 17,
   "id": "4b5c92ef-f63e-47ec-9833-869664617575",
   "metadata": {},
   "outputs": [
    {
     "data": {
      "text/plain": [
       "0"
      ]
     },
     "execution_count": 17,
     "metadata": {},
     "output_type": "execute_result"
    }
   ],
   "source": [
    "su_in_ca_df = su_in_ca_df.explode('Suburb')\n",
    "su_in_ca_df.duplicated().sum()"
   ]
  },
  {
   "cell_type": "markdown",
   "id": "32a10f38-3650-459d-9323-4e941fb3e78f",
   "metadata": {},
   "source": [
    "Như chúng ta quan sát, đã không có sự nhập nhằng nào trong việc quản lí, như vậy người dùng dễ dàng hơn trong việc làm giấy tờ nhà hay đơn giản hơn là việc đặt hàng online chẳng hạn (có thể có, vì KTX B ĐHQG là một ví dụ trong sự nhập nhằng địa chỉ 😉, nhập nhằng ở đây là theo cách hiểu của người nhập liệu, người dân, hiển nhiên trên giấy tờ quốc gia, một vùng vẫn luôn được thống nhất)"
   ]
  },
  {
   "cell_type": "markdown",
   "id": "6ef9b1dd",
   "metadata": {},
   "source": [
    "## Đưa ra câu hỏi cần trả lời"
   ]
  },
  {
   "cell_type": "code",
   "execution_count": null,
   "id": "d74012f7-e90c-49fe-a94c-be43022b9ef8",
   "metadata": {},
   "outputs": [],
   "source": []
  },
  {
   "cell_type": "code",
   "execution_count": null,
   "id": "620955a5",
   "metadata": {},
   "outputs": [],
   "source": []
  },
  {
   "cell_type": "code",
   "execution_count": null,
   "id": "c6df9fbf-f217-4ba1-819e-a51c41ed7bd4",
   "metadata": {},
   "outputs": [],
   "source": []
  }
 ],
 "metadata": {
  "kernelspec": {
   "display_name": "Python 3",
   "language": "python",
   "name": "python3"
  },
  "language_info": {
   "codemirror_mode": {
    "name": "ipython",
    "version": 3
   },
   "file_extension": ".py",
   "mimetype": "text/x-python",
   "name": "python",
   "nbconvert_exporter": "python",
   "pygments_lexer": "ipython3",
   "version": "3.8.8"
  }
 },
 "nbformat": 4,
 "nbformat_minor": 5
}
