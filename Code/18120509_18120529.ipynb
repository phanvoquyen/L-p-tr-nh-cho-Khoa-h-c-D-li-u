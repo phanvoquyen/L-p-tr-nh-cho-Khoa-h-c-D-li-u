{
 "cells": [
  {
   "cell_type": "markdown",
   "id": "e6980918",
   "metadata": {},
   "source": [
    "# PROJECT: MELBOURNE HOUSING MARKET\n",
    "**GIẢNG VIÊN HƯỚNG DẪN: THẦY TRẦN TRUNG KIÊN**  \n",
    "\n",
    "**THÔNG TIN NHÓM 1:**\n",
    "1. CAO VĂN PHÚC - 18120509\n",
    "2. PHAN VĂN VÕ QUYỀN - 18120529"
   ]
  },
  {
   "cell_type": "markdown",
   "id": "a1ebff93",
   "metadata": {},
   "source": [
    "## Import các thư viện cần thiết"
   ]
  },
  {
   "cell_type": "code",
   "execution_count": 1,
   "id": "4cf80896",
   "metadata": {},
   "outputs": [],
   "source": [
    "import pandas as pd\n",
    "import matplotlib.pyplot as plt\n",
    "import numpy as np"
   ]
  },
  {
   "cell_type": "markdown",
   "id": "62f3ddbc",
   "metadata": {},
   "source": [
    "## Thu thập dữ liệu"
   ]
  },
  {
   "cell_type": "markdown",
   "id": "21ff53b5",
   "metadata": {},
   "source": [
    "- Tập dữ liệu mà nhóm lựa chọn là `Melbource housing market`, tập dữ liệu này thu thập thông tin về dữ liệu nhà đất tại thành phố Melbource xinh đẹp của nước Úc, nó bao gồm các thuộc tính Address, Type of Real estate, Suburb, Method of Selling, Rooms, Price, Real Estate Agent, Date of Sale và distance từ C.B.D. Tập dữ liệu này được lấy từ trang `Kaggle` tại link sau [đây](https://www.kaggle.com/anthonypino/melbourne-housing-market), license của dữ liệu tại [đây](https://creativecommons.org/licenses/by-nc-sa/4.0/)  \n",
    "- Vì đây là dữ liệu trên `Kaggle` nên chúng ta chỉ cần đăng nhập là có thể lấy được dữ liệu này về một cách dễ dàng  \n",
    "- Tập dữ liệu này được người ta thu thập bằng các kết quả có sẵn công khai hằng tuần từ trang `Domain.com.au`\n",
    "- Trong đồ án này, nhóm xin được phép chỉ sử dụng file `MELBOURNE_HOUSE_PRICES_LESS.csv`"
   ]
  },
  {
   "cell_type": "markdown",
   "id": "2059c6a9",
   "metadata": {},
   "source": [
    "## Khám phá dữ liệu"
   ]
  },
  {
   "cell_type": "markdown",
   "id": "4e78ea9d",
   "metadata": {},
   "source": [
    "### Đọc dữ liệu từ file.csv vào DataFrame"
   ]
  },
  {
   "cell_type": "code",
   "execution_count": 2,
   "id": "617f838d",
   "metadata": {},
   "outputs": [
    {
     "data": {
      "text/html": [
       "<div>\n",
       "<style scoped>\n",
       "    .dataframe tbody tr th:only-of-type {\n",
       "        vertical-align: middle;\n",
       "    }\n",
       "\n",
       "    .dataframe tbody tr th {\n",
       "        vertical-align: top;\n",
       "    }\n",
       "\n",
       "    .dataframe thead th {\n",
       "        text-align: right;\n",
       "    }\n",
       "</style>\n",
       "<table border=\"1\" class=\"dataframe\">\n",
       "  <thead>\n",
       "    <tr style=\"text-align: right;\">\n",
       "      <th></th>\n",
       "      <th>Suburb</th>\n",
       "      <th>Address</th>\n",
       "      <th>Rooms</th>\n",
       "      <th>Type</th>\n",
       "      <th>Price</th>\n",
       "      <th>Method</th>\n",
       "      <th>SellerG</th>\n",
       "      <th>Date</th>\n",
       "      <th>Postcode</th>\n",
       "      <th>Regionname</th>\n",
       "      <th>Propertycount</th>\n",
       "      <th>Distance</th>\n",
       "      <th>CouncilArea</th>\n",
       "    </tr>\n",
       "  </thead>\n",
       "  <tbody>\n",
       "    <tr>\n",
       "      <th>60565</th>\n",
       "      <td>Mordialloc</td>\n",
       "      <td>447 Main St</td>\n",
       "      <td>4</td>\n",
       "      <td>h</td>\n",
       "      <td>1400000.0</td>\n",
       "      <td>PI</td>\n",
       "      <td>Barry</td>\n",
       "      <td>29/04/2017</td>\n",
       "      <td>3195</td>\n",
       "      <td>South-Eastern Metropolitan</td>\n",
       "      <td>3650</td>\n",
       "      <td>21.5</td>\n",
       "      <td>Kingston City Council</td>\n",
       "    </tr>\n",
       "    <tr>\n",
       "      <th>36704</th>\n",
       "      <td>Thornbury</td>\n",
       "      <td>2/57 Pender St</td>\n",
       "      <td>1</td>\n",
       "      <td>u</td>\n",
       "      <td>408000.0</td>\n",
       "      <td>S</td>\n",
       "      <td>Love</td>\n",
       "      <td>18/08/2018</td>\n",
       "      <td>3071</td>\n",
       "      <td>Northern Metropolitan</td>\n",
       "      <td>8870</td>\n",
       "      <td>7.0</td>\n",
       "      <td>Darebin City Council</td>\n",
       "    </tr>\n",
       "    <tr>\n",
       "      <th>22434</th>\n",
       "      <td>Ashburton</td>\n",
       "      <td>19 Ward St</td>\n",
       "      <td>3</td>\n",
       "      <td>h</td>\n",
       "      <td>2299500.0</td>\n",
       "      <td>S</td>\n",
       "      <td>Jellis</td>\n",
       "      <td>12/08/2017</td>\n",
       "      <td>3147</td>\n",
       "      <td>Southern Metropolitan</td>\n",
       "      <td>3052</td>\n",
       "      <td>10.2</td>\n",
       "      <td>Boroondara City Council</td>\n",
       "    </tr>\n",
       "    <tr>\n",
       "      <th>11941</th>\n",
       "      <td>Spotswood</td>\n",
       "      <td>51A Hick St</td>\n",
       "      <td>4</td>\n",
       "      <td>t</td>\n",
       "      <td>1200000.0</td>\n",
       "      <td>VB</td>\n",
       "      <td>McGrath</td>\n",
       "      <td>7/07/2018</td>\n",
       "      <td>3015</td>\n",
       "      <td>Western Metropolitan</td>\n",
       "      <td>1223</td>\n",
       "      <td>6.2</td>\n",
       "      <td>Hobsons Bay City Council</td>\n",
       "    </tr>\n",
       "    <tr>\n",
       "      <th>1688</th>\n",
       "      <td>Blackburn</td>\n",
       "      <td>41 Alandale Rd</td>\n",
       "      <td>4</td>\n",
       "      <td>h</td>\n",
       "      <td>1250000.0</td>\n",
       "      <td>VB</td>\n",
       "      <td>Jellis</td>\n",
       "      <td>2/06/2018</td>\n",
       "      <td>3130</td>\n",
       "      <td>Eastern Metropolitan</td>\n",
       "      <td>5713</td>\n",
       "      <td>13.4</td>\n",
       "      <td>Whitehorse City Council</td>\n",
       "    </tr>\n",
       "    <tr>\n",
       "      <th>16307</th>\n",
       "      <td>South Morang</td>\n",
       "      <td>123 Hawkstowe Pde</td>\n",
       "      <td>4</td>\n",
       "      <td>h</td>\n",
       "      <td>674000.0</td>\n",
       "      <td>S</td>\n",
       "      <td>Ray</td>\n",
       "      <td>8/10/2016</td>\n",
       "      <td>3752</td>\n",
       "      <td>Northern Metropolitan</td>\n",
       "      <td>7969</td>\n",
       "      <td>20.5</td>\n",
       "      <td>Whittlesea City Council</td>\n",
       "    </tr>\n",
       "    <tr>\n",
       "      <th>44349</th>\n",
       "      <td>Wheelers Hill</td>\n",
       "      <td>6 Leatherwood Cr</td>\n",
       "      <td>3</td>\n",
       "      <td>h</td>\n",
       "      <td>875000.0</td>\n",
       "      <td>PI</td>\n",
       "      <td>Harcourts</td>\n",
       "      <td>22/09/2018</td>\n",
       "      <td>3150</td>\n",
       "      <td>South-Eastern Metropolitan</td>\n",
       "      <td>7392</td>\n",
       "      <td>16.7</td>\n",
       "      <td>Monash City Council</td>\n",
       "    </tr>\n",
       "    <tr>\n",
       "      <th>36583</th>\n",
       "      <td>Mulgrave</td>\n",
       "      <td>16 Iris Cl</td>\n",
       "      <td>5</td>\n",
       "      <td>h</td>\n",
       "      <td>1258000.0</td>\n",
       "      <td>S</td>\n",
       "      <td>Ray</td>\n",
       "      <td>18/08/2018</td>\n",
       "      <td>3170</td>\n",
       "      <td>South-Eastern Metropolitan</td>\n",
       "      <td>7113</td>\n",
       "      <td>18.8</td>\n",
       "      <td>Monash City Council</td>\n",
       "    </tr>\n",
       "    <tr>\n",
       "      <th>60151</th>\n",
       "      <td>Armadale</td>\n",
       "      <td>6/581 Orrong Rd</td>\n",
       "      <td>1</td>\n",
       "      <td>u</td>\n",
       "      <td>405000.0</td>\n",
       "      <td>S</td>\n",
       "      <td>Marshall</td>\n",
       "      <td>29/04/2017</td>\n",
       "      <td>3143</td>\n",
       "      <td>Southern Metropolitan</td>\n",
       "      <td>4836</td>\n",
       "      <td>6.3</td>\n",
       "      <td>Stonnington City Council</td>\n",
       "    </tr>\n",
       "    <tr>\n",
       "      <th>53798</th>\n",
       "      <td>Kilsyth</td>\n",
       "      <td>17 Birkenhead Dr</td>\n",
       "      <td>3</td>\n",
       "      <td>h</td>\n",
       "      <td>803000.0</td>\n",
       "      <td>S</td>\n",
       "      <td>Max</td>\n",
       "      <td>26/08/2017</td>\n",
       "      <td>3137</td>\n",
       "      <td>Eastern Metropolitan</td>\n",
       "      <td>4654</td>\n",
       "      <td>26.0</td>\n",
       "      <td>Maroondah City Council</td>\n",
       "    </tr>\n",
       "  </tbody>\n",
       "</table>\n",
       "</div>"
      ],
      "text/plain": [
       "              Suburb            Address  Rooms Type      Price Method  \\\n",
       "60565     Mordialloc        447 Main St      4    h  1400000.0     PI   \n",
       "36704      Thornbury     2/57 Pender St      1    u   408000.0      S   \n",
       "22434      Ashburton         19 Ward St      3    h  2299500.0      S   \n",
       "11941      Spotswood        51A Hick St      4    t  1200000.0     VB   \n",
       "1688       Blackburn     41 Alandale Rd      4    h  1250000.0     VB   \n",
       "16307   South Morang  123 Hawkstowe Pde      4    h   674000.0      S   \n",
       "44349  Wheelers Hill   6 Leatherwood Cr      3    h   875000.0     PI   \n",
       "36583       Mulgrave         16 Iris Cl      5    h  1258000.0      S   \n",
       "60151       Armadale    6/581 Orrong Rd      1    u   405000.0      S   \n",
       "53798        Kilsyth   17 Birkenhead Dr      3    h   803000.0      S   \n",
       "\n",
       "         SellerG        Date  Postcode                  Regionname  \\\n",
       "60565      Barry  29/04/2017      3195  South-Eastern Metropolitan   \n",
       "36704       Love  18/08/2018      3071       Northern Metropolitan   \n",
       "22434     Jellis  12/08/2017      3147       Southern Metropolitan   \n",
       "11941    McGrath   7/07/2018      3015        Western Metropolitan   \n",
       "1688      Jellis   2/06/2018      3130        Eastern Metropolitan   \n",
       "16307        Ray   8/10/2016      3752       Northern Metropolitan   \n",
       "44349  Harcourts  22/09/2018      3150  South-Eastern Metropolitan   \n",
       "36583        Ray  18/08/2018      3170  South-Eastern Metropolitan   \n",
       "60151   Marshall  29/04/2017      3143       Southern Metropolitan   \n",
       "53798        Max  26/08/2017      3137        Eastern Metropolitan   \n",
       "\n",
       "       Propertycount  Distance               CouncilArea  \n",
       "60565           3650      21.5     Kingston City Council  \n",
       "36704           8870       7.0      Darebin City Council  \n",
       "22434           3052      10.2   Boroondara City Council  \n",
       "11941           1223       6.2  Hobsons Bay City Council  \n",
       "1688            5713      13.4   Whitehorse City Council  \n",
       "16307           7969      20.5   Whittlesea City Council  \n",
       "44349           7392      16.7       Monash City Council  \n",
       "36583           7113      18.8       Monash City Council  \n",
       "60151           4836       6.3  Stonnington City Council  \n",
       "53798           4654      26.0    Maroondah City Council  "
      ]
     },
     "execution_count": 2,
     "metadata": {},
     "output_type": "execute_result"
    }
   ],
   "source": [
    "mhm_df = pd.read_csv('MELBOURNE_HOUSE_PRICES_LESS.csv')\n",
    "mhm_df.sample(10)"
   ]
  },
  {
   "cell_type": "markdown",
   "id": "fc42a3a1",
   "metadata": {},
   "source": [
    "### Dữ liệu có bao nhiêu dòng và bao nhiêu cột?"
   ]
  },
  {
   "cell_type": "markdown",
   "id": "18b1ae00",
   "metadata": {},
   "source": [
    "Số dòng, số cột sẽ lần lượt lưu vào hai biến num_rows và num_cols"
   ]
  },
  {
   "cell_type": "code",
   "execution_count": 3,
   "id": "adb77b33",
   "metadata": {},
   "outputs": [
    {
     "name": "stdout",
     "output_type": "stream",
     "text": [
      "63023 13\n"
     ]
    }
   ],
   "source": [
    "num_rows, num_cols = mhm_df.shape\n",
    "print(num_rows, num_cols)"
   ]
  },
  {
   "cell_type": "markdown",
   "id": "86f8274e",
   "metadata": {},
   "source": [
    "### Mỗi dòng có ý nghĩa gì? Có vấn đề các dòng có ý nghĩa khác nhau hay không?"
   ]
  },
  {
   "cell_type": "markdown",
   "id": "5185c065",
   "metadata": {},
   "source": [
    "Mỗi dòng cung cấp thông tin về một ngôi nhà ở Melbourne"
   ]
  },
  {
   "cell_type": "markdown",
   "id": "5d78b921",
   "metadata": {},
   "source": [
    "### Dữ liệu có các dòng bị lặp không?"
   ]
  },
  {
   "cell_type": "code",
   "execution_count": 4,
   "id": "02e43a1a",
   "metadata": {},
   "outputs": [
    {
     "data": {
      "text/plain": [
       "2"
      ]
     },
     "execution_count": 4,
     "metadata": {},
     "output_type": "execute_result"
    }
   ],
   "source": [
    "have_duplicated_rows = mhm_df.duplicated().sum()\n",
    "have_duplicated_rows"
   ]
  },
  {
   "cell_type": "markdown",
   "id": "1c77a8b2",
   "metadata": {},
   "source": [
    "### Vấn đề cần xử lý\n",
    "- Có dòng bị lặp, cần loại bỏ các dòng đó"
   ]
  },
  {
   "cell_type": "markdown",
   "id": "b5c8bf99",
   "metadata": {},
   "source": [
    "## Tiền xử lý"
   ]
  },
  {
   "cell_type": "markdown",
   "id": "8373e4de",
   "metadata": {},
   "source": [
    "### Loại bỏ dòng dữ liệu bị lặp"
   ]
  },
  {
   "cell_type": "code",
   "execution_count": 5,
   "id": "3a66a838",
   "metadata": {},
   "outputs": [
    {
     "data": {
      "text/plain": [
       "(63021, 13)"
      ]
     },
     "execution_count": 5,
     "metadata": {},
     "output_type": "execute_result"
    }
   ],
   "source": [
    "mhm_df = mhm_df.drop_duplicates()\n",
    "mhm_df.shape"
   ]
  },
  {
   "cell_type": "markdown",
   "id": "889cb463",
   "metadata": {},
   "source": [
    "Sau khi loại bỏ dòng lặp, thì mhm_df còn đúng 63021 dòng dữ liệu"
   ]
  },
  {
   "cell_type": "markdown",
   "id": "9e3bbd56",
   "metadata": {},
   "source": [
    "## Khám phá dữ liệu (tiếp tục)"
   ]
  },
  {
   "cell_type": "markdown",
   "id": "cd751a7e",
   "metadata": {},
   "source": [
    "### Mỗi cột có ý nghĩa gì?"
   ]
  },
  {
   "cell_type": "markdown",
   "id": "b25c5e79",
   "metadata": {},
   "source": [
    "Dưới đây là phần mô tả của dữ liệu trên trang `Kaggle`\n",
    "- Suburb: ngoại ô\n",
    "- Address: địa chỉ cụ thể của ngôi nhà\n",
    "- Rooms: số phòng của ngôi nhà\n",
    "- Price: giá của ngôi nhà, tính bằng đô la Úc\n",
    "- Method:\n",
    "    - S - tài sản đã bán\n",
    "    - SP - tài sản đã bán trước đó\n",
    "    - PI - tài sản được chuyển vào\n",
    "    - PN - bán trước không được tiết lộ\n",
    "    - SN - bán không được tiết lộ\n",
    "    - NB - không có giá thầu\n",
    "    - VB - giá thầu của nhà cung cấp\n",
    "    - W - thu hồi trước khi đấu giá\n",
    "    - SA - bán sau khi đấu giá\n",
    "    - SS - giá bán sau đấu giá không được tiết lộ\n",
    "    - N / A - giá hoặc giá thầu cao nhất không có sẵn\n",
    "- Type:\n",
    "    - br - phòng ngủ\n",
    "    - h - nhà, biệt thự, sân thượng\n",
    "    - u - nhà đơn, nhà hai tầng\n",
    "    - t - nhà phố\n",
    "    - dev site - nhà có vị trí phát triển\n",
    "    - o res - khu dân cư khác\n",
    "- Postcode: mã bưu điện\n",
    "- SellerG: Đại lý bất động sản\n",
    "- Date: Ngày bán\n",
    "- Distance: Khoảng cách từ CBD tính bằng Kilômét\n",
    "- RegionName: Khu vực chung (Tây, Tây Bắc, Bắc, Đông Bắc… vv)\n",
    "- Propertycount: Số lượng thuộc tính tồn tại ở vùng ngoại ô\n",
    "- CouncilArea: Hội đồng quản lý khu vực"
   ]
  },
  {
   "cell_type": "markdown",
   "id": "e0a4b933",
   "metadata": {},
   "source": [
    "### Mỗi cột hiện đang có kiểu dữ liệu gì? Có cột nào có kiểu dữ liệu chưa phù hợp để có thể xử lý tiếp không?"
   ]
  },
  {
   "cell_type": "code",
   "execution_count": 6,
   "id": "041be52b",
   "metadata": {},
   "outputs": [
    {
     "name": "stdout",
     "output_type": "stream",
     "text": [
      "<class 'pandas.core.frame.DataFrame'>\n",
      "Int64Index: 63021 entries, 0 to 63022\n",
      "Data columns (total 13 columns):\n",
      " #   Column         Non-Null Count  Dtype  \n",
      "---  ------         --------------  -----  \n",
      " 0   Suburb         63021 non-null  object \n",
      " 1   Address        63021 non-null  object \n",
      " 2   Rooms          63021 non-null  int64  \n",
      " 3   Type           63021 non-null  object \n",
      " 4   Price          48432 non-null  float64\n",
      " 5   Method         63021 non-null  object \n",
      " 6   SellerG        63021 non-null  object \n",
      " 7   Date           63021 non-null  object \n",
      " 8   Postcode       63021 non-null  int64  \n",
      " 9   Regionname     63021 non-null  object \n",
      " 10  Propertycount  63021 non-null  int64  \n",
      " 11  Distance       63021 non-null  float64\n",
      " 12  CouncilArea    63021 non-null  object \n",
      "dtypes: float64(2), int64(3), object(8)\n",
      "memory usage: 6.7+ MB\n"
     ]
    }
   ],
   "source": [
    "mhm_df.info()"
   ]
  },
  {
   "cell_type": "markdown",
   "id": "ed3f0b4a",
   "metadata": {},
   "source": [
    "Trong Pandas, kiểu dữ liệu `object` thường ám chỉ chuỗi, nhưng thật ra kiểu dữ liệu `object` có thể chứa một đối tượng bất kỳ trong Python (vì thật ra ở bên dưới kiểu dữ liệu `object` chứa địa chỉ). Nếu một cột trong dataframe có `dtype` là `object` thì có thể các phần tử trong cột này sẽ có kiểu dữ liệu khác nhau; để biết được kiểu dữ liệu thật sự của các phần tử trong cột này thì ta phải truy xuất vào từng phần tử và dùng câu lệnh `type` để xem kiểu dữ liệu. Do đó tiền hành code hàm open_object_dtype trả về tập các kiểu dữ liệu có ở trong các cột"
   ]
  },
  {
   "cell_type": "code",
   "execution_count": 7,
   "id": "37d206fa",
   "metadata": {},
   "outputs": [],
   "source": [
    "def open_object_dtype(s):\n",
    "    dtypes = set(s.map(type))\n",
    "    return dtypes"
   ]
  },
  {
   "cell_type": "code",
   "execution_count": 8,
   "id": "2f1f95c4",
   "metadata": {},
   "outputs": [
    {
     "data": {
      "text/plain": [
       "Suburb         {<class 'str'>}\n",
       "Address        {<class 'str'>}\n",
       "Type           {<class 'str'>}\n",
       "Method         {<class 'str'>}\n",
       "SellerG        {<class 'str'>}\n",
       "Date           {<class 'str'>}\n",
       "Regionname     {<class 'str'>}\n",
       "CouncilArea    {<class 'str'>}\n",
       "dtype: object"
      ]
     },
     "execution_count": 8,
     "metadata": {},
     "output_type": "execute_result"
    }
   ],
   "source": [
    "obj_cols = mhm_df.select_dtypes([\"object\"]).columns\n",
    "data = obj_cols.map(lambda x: open_object_dtype(mhm_df[x]))\n",
    "pd.Series(data=data, index = obj_cols)"
   ]
  },
  {
   "cell_type": "markdown",
   "id": "de15206f",
   "metadata": {},
   "source": [
    "**Vấn đề cần tiền xử lí:**\n",
    "- Cột `Date` đang có kiểu dữ liệu là `str`, để khám phá thêm cột này ta sẽ phải chuyển nó về dạng `datetime`"
   ]
  },
  {
   "cell_type": "markdown",
   "id": "db47efbe",
   "metadata": {},
   "source": [
    "## Tiền xử lý"
   ]
  },
  {
   "cell_type": "code",
   "execution_count": 9,
   "id": "a34dd85b",
   "metadata": {},
   "outputs": [
    {
     "data": {
      "text/plain": [
       "dtype('<M8[ns]')"
      ]
     },
     "execution_count": 9,
     "metadata": {},
     "output_type": "execute_result"
    }
   ],
   "source": [
    "mhm_df['Date'] = pd.to_datetime(mhm_df['Date'], format = '%d/%m/%Y')\n",
    "mhm_df['Date'].dtypes"
   ]
  },
  {
   "cell_type": "markdown",
   "id": "df9b6dae",
   "metadata": {},
   "source": [
    "## Khám phá dữ liệu (tiếp tục)"
   ]
  },
  {
   "cell_type": "markdown",
   "id": "b32e25db",
   "metadata": {},
   "source": [
    "### Với mỗi cột dữ liệu numeric, các giá trị được phân bố như thế nào?"
   ]
  },
  {
   "cell_type": "markdown",
   "id": "12d607cb",
   "metadata": {},
   "source": [
    "Chúng ta xếp cột `Date` vào cột dạng numeric. Như vậy có vẻ có tổng cộng 6 cột dạng numeric, đó là `Date` `Rooms`, `Price`, `Postcode`, `Propertycount` và `Distance`. Tuy nhiên cột `Postcode` thực chất là dạng categorical, vì mã bưu điện thì được đánh dưới dạng số. Vậy số cột numeric thực sự là `Date`, `Rooms`, `Price`, `Propertycount` và `Distance`  \n",
    "\n",
    "Với mỗi cột numeric, ta sẽ tính tỉ lệ phần trăm giá trị bị thiếu (từ 0 đến 100), min và max. Kết quả được lưu vào dataframe `nume-col_profiles_df`"
   ]
  },
  {
   "cell_type": "code",
   "execution_count": 10,
   "id": "9790e3cd",
   "metadata": {},
   "outputs": [
    {
     "data": {
      "text/html": [
       "<div>\n",
       "<style scoped>\n",
       "    .dataframe tbody tr th:only-of-type {\n",
       "        vertical-align: middle;\n",
       "    }\n",
       "\n",
       "    .dataframe tbody tr th {\n",
       "        vertical-align: top;\n",
       "    }\n",
       "\n",
       "    .dataframe thead th {\n",
       "        text-align: right;\n",
       "    }\n",
       "</style>\n",
       "<table border=\"1\" class=\"dataframe\">\n",
       "  <thead>\n",
       "    <tr style=\"text-align: right;\">\n",
       "      <th></th>\n",
       "      <th>Date</th>\n",
       "      <th>Rooms</th>\n",
       "      <th>Price</th>\n",
       "      <th>Propertycount</th>\n",
       "      <th>Distance</th>\n",
       "    </tr>\n",
       "  </thead>\n",
       "  <tbody>\n",
       "    <tr>\n",
       "      <th>missing_ratio</th>\n",
       "      <td>0</td>\n",
       "      <td>0</td>\n",
       "      <td>23</td>\n",
       "      <td>0</td>\n",
       "      <td>0</td>\n",
       "    </tr>\n",
       "    <tr>\n",
       "      <th>min</th>\n",
       "      <td>2016-01-28 00:00:00</td>\n",
       "      <td>1</td>\n",
       "      <td>85,000</td>\n",
       "      <td>39</td>\n",
       "      <td>0</td>\n",
       "    </tr>\n",
       "    <tr>\n",
       "      <th>max</th>\n",
       "      <td>2018-10-13 00:00:00</td>\n",
       "      <td>31</td>\n",
       "      <td>11,200,000</td>\n",
       "      <td>21,650</td>\n",
       "      <td>64</td>\n",
       "    </tr>\n",
       "  </tbody>\n",
       "</table>\n",
       "</div>"
      ],
      "text/plain": [
       "                              Date  Rooms      Price  Propertycount  Distance\n",
       "missing_ratio                    0      0         23              0         0\n",
       "min            2016-01-28 00:00:00      1     85,000             39         0\n",
       "max            2018-10-13 00:00:00     31 11,200,000         21,650        64"
      ]
     },
     "execution_count": 10,
     "metadata": {},
     "output_type": "execute_result"
    }
   ],
   "source": [
    "pd.options.display.float_format = '{:,.0f}'.format\n",
    "nume_cols = [\"Date\", \"Rooms\", \"Price\", \"Propertycount\", \"Distance\"]\n",
    "\n",
    "def missing_ratio(s):\n",
    "    return s.isnull().mean() * 100\n",
    "\n",
    "nume_col_profiles_df = mhm_df[nume_cols].agg([missing_ratio, 'min', 'max'])\n",
    "nume_col_profiles_df"
   ]
  },
  {
   "cell_type": "markdown",
   "id": "e8e3c514",
   "metadata": {},
   "source": [
    "Cột `Price` có phần trăm giá trị bị thiếu là 23%, điều này không nằm ngoài dự tính bởi lẽ như trong file mô tả có nói, cột `Method` sẽ cho chúng ta biết được phương thức bán nhà, với các phương thức \"PN\", \"SN\", ... thì giá nhà sẽ không được công khai. Do đó với các giá trị thiếu này ta sẽ không loại bỏ chúng. Với các giá trị min có lẽ không có gì bất thường. Nhưng với giá trị max chúng ta có thể thấy ngôi nhà có số phòng nhiều nhất lên đến 31 phòng, ngôi nhà có giá cao nhất lên đến 11,200,000 đô Úc (tức là khoảng 160 tỉ VND), chúng ta sẽ thử tính toán và vẽ biểu đồ xem thử các giá trị này có thực sự bất thường hay không? "
   ]
  },
  {
   "cell_type": "code",
   "execution_count": 11,
   "id": "ddbbf475",
   "metadata": {},
   "outputs": [
    {
     "data": {
      "text/html": [
       "<div>\n",
       "<style scoped>\n",
       "    .dataframe tbody tr th:only-of-type {\n",
       "        vertical-align: middle;\n",
       "    }\n",
       "\n",
       "    .dataframe tbody tr th {\n",
       "        vertical-align: top;\n",
       "    }\n",
       "\n",
       "    .dataframe thead th {\n",
       "        text-align: right;\n",
       "    }\n",
       "</style>\n",
       "<table border=\"1\" class=\"dataframe\">\n",
       "  <thead>\n",
       "    <tr style=\"text-align: right;\">\n",
       "      <th></th>\n",
       "      <th>Num of houses</th>\n",
       "    </tr>\n",
       "  </thead>\n",
       "  <tbody>\n",
       "    <tr>\n",
       "      <th>3</th>\n",
       "      <td>27949</td>\n",
       "    </tr>\n",
       "    <tr>\n",
       "      <th>4</th>\n",
       "      <td>15747</td>\n",
       "    </tr>\n",
       "    <tr>\n",
       "      <th>2</th>\n",
       "      <td>13247</td>\n",
       "    </tr>\n",
       "    <tr>\n",
       "      <th>5</th>\n",
       "      <td>3434</td>\n",
       "    </tr>\n",
       "    <tr>\n",
       "      <th>1</th>\n",
       "      <td>2111</td>\n",
       "    </tr>\n",
       "    <tr>\n",
       "      <th>6</th>\n",
       "      <td>424</td>\n",
       "    </tr>\n",
       "    <tr>\n",
       "      <th>7</th>\n",
       "      <td>61</td>\n",
       "    </tr>\n",
       "    <tr>\n",
       "      <th>8</th>\n",
       "      <td>29</td>\n",
       "    </tr>\n",
       "    <tr>\n",
       "      <th>10</th>\n",
       "      <td>7</td>\n",
       "    </tr>\n",
       "    <tr>\n",
       "      <th>9</th>\n",
       "      <td>5</td>\n",
       "    </tr>\n",
       "    <tr>\n",
       "      <th>12</th>\n",
       "      <td>4</td>\n",
       "    </tr>\n",
       "    <tr>\n",
       "      <th>11</th>\n",
       "      <td>1</td>\n",
       "    </tr>\n",
       "    <tr>\n",
       "      <th>16</th>\n",
       "      <td>1</td>\n",
       "    </tr>\n",
       "    <tr>\n",
       "      <th>31</th>\n",
       "      <td>1</td>\n",
       "    </tr>\n",
       "  </tbody>\n",
       "</table>\n",
       "</div>"
      ],
      "text/plain": [
       "    Num of houses\n",
       "3           27949\n",
       "4           15747\n",
       "2           13247\n",
       "5            3434\n",
       "1            2111\n",
       "6             424\n",
       "7              61\n",
       "8              29\n",
       "10              7\n",
       "9               5\n",
       "12              4\n",
       "11              1\n",
       "16              1\n",
       "31              1"
      ]
     },
     "execution_count": 11,
     "metadata": {},
     "output_type": "execute_result"
    }
   ],
   "source": [
    "rooms_value_counts = pd.DataFrame(mhm_df['Rooms'].value_counts())\n",
    "rooms_value_counts.columns = ['Num of houses']\n",
    "rooms_value_counts"
   ]
  },
  {
   "cell_type": "code",
   "execution_count": 12,
   "id": "e32be8d2",
   "metadata": {},
   "outputs": [
    {
     "data": {
      "image/png": "[encoded data removed]",
      "text/plain": [
       "<Figure size 432x288 with 1 Axes>"
      ]
     },
     "metadata": {
      "needs_background": "light"
     },
     "output_type": "display_data"
    }
   ],
   "source": [
    "plt.bar(rooms_value_counts.index, rooms_value_counts['Num of houses']);"
   ]
  },
  {
   "cell_type": "markdown",
   "id": "45fa8720",
   "metadata": {},
   "source": [
    "Theo quan sát thì chúng ta có thể nhận thấy rằng những ngôi nhà có nhiều hơn 7 phòng đã là rất hiếm, vì thế ngôi nhà có 31 phòng thực sự là điều kì lạ. Chúng ta không thể khẳng định chắc chắn được là liệu có hay không căn nhà với 31 phòng, hay đây là sai sót trong quá trình nhập liệu, vì thế mà ta sẽ không bỏ đi chúng, chỉ tiến hành khám phá và coi nó như một giá trị ngoại lệ"
   ]
  },
  {
   "cell_type": "code",
   "execution_count": 13,
   "id": "9d999e09",
   "metadata": {},
   "outputs": [
    {
     "data": {
      "image/png": "[encoded data removed]",
      "text/plain": [
       "<Figure size 432x288 with 1 Axes>"
      ]
     },
     "metadata": {
      "needs_background": "light"
     },
     "output_type": "display_data"
    }
   ],
   "source": [
    "plt.hist(mhm_df['Price'], edgecolor='black');"
   ]
  },
  {
   "cell_type": "code",
   "execution_count": 14,
   "id": "9a60d0a4",
   "metadata": {},
   "outputs": [
    {
     "data": {
      "text/plain": [
       "73"
      ]
     },
     "execution_count": 14,
     "metadata": {},
     "output_type": "execute_result"
    }
   ],
   "source": [
    "len(mhm_df[mhm_df['Price'] > 5000000])"
   ]
  },
  {
   "cell_type": "markdown",
   "id": "3f79c65d",
   "metadata": {},
   "source": [
    "Theo quan sát, các ngôi nhà có giá trên 5,000,000 đô la Úc thực sự chiếm tỉ lệ rất ít, tuy nhiên chúng ta cũng không thể khẳng định được liệu căn nhà có giá 11,200,000 có thật hay không hay là do sai sót trong quá trình nhập liệu, thực tế thì vẫn có các siêu biệt thự dành cho giới nhà giàu. Do đó, ta sẽ giữ lại các giá trị này, chỉ tiến hành khám phá chúng và xem như những giá trị ngoại lệ hay giá trị đặc biệt"
   ]
  },
  {
   "cell_type": "markdown",
   "id": "8dc75c72",
   "metadata": {},
   "source": [
    "### Với mỗi cột dữ liệu categorical, các giá trị được phân bố như thế nào?"
   ]
  },
  {
   "cell_type": "markdown",
   "id": "9871309d",
   "metadata": {},
   "source": [
    "mhm_df có tổng cộng 8 cột dữ liệu dạng categorical là `Suburb`, `Address`, `Type`, `Method`, `SellerG`, `Regionname`, `CouncilArea`, `Postcode`  \n",
    "\n",
    "Với mỗi cột categorical, ta tiến hành tính phần trăm giá trị bị thiếu (từ 0 đến 100), tính số lượng giá trị khác nhau, list/array các giá trị khác nhau. Kết quả sẽ được lưu vào dataframe `cate_col_profiles_df`"
   ]
  },
  {
   "cell_type": "code",
   "execution_count": 15,
   "id": "39ad0fff",
   "metadata": {},
   "outputs": [
    {
     "data": {
      "text/html": [
       "<div>\n",
       "<style scoped>\n",
       "    .dataframe tbody tr th:only-of-type {\n",
       "        vertical-align: middle;\n",
       "    }\n",
       "\n",
       "    .dataframe tbody tr th {\n",
       "        vertical-align: top;\n",
       "    }\n",
       "\n",
       "    .dataframe thead th {\n",
       "        text-align: right;\n",
       "    }\n",
       "</style>\n",
       "<table border=\"1\" class=\"dataframe\">\n",
       "  <thead>\n",
       "    <tr style=\"text-align: right;\">\n",
       "      <th></th>\n",
       "      <th>Suburb</th>\n",
       "      <th>Address</th>\n",
       "      <th>Type</th>\n",
       "      <th>Method</th>\n",
       "      <th>SellerG</th>\n",
       "      <th>Regionname</th>\n",
       "      <th>CouncilArea</th>\n",
       "      <th>Postcode</th>\n",
       "    </tr>\n",
       "  </thead>\n",
       "  <tbody>\n",
       "    <tr>\n",
       "      <th>missing_ratio</th>\n",
       "      <td>0</td>\n",
       "      <td>0</td>\n",
       "      <td>0</td>\n",
       "      <td>0</td>\n",
       "      <td>0</td>\n",
       "      <td>0</td>\n",
       "      <td>0</td>\n",
       "      <td>0</td>\n",
       "    </tr>\n",
       "    <tr>\n",
       "      <th>num_diff_vals</th>\n",
       "      <td>380</td>\n",
       "      <td>57754</td>\n",
       "      <td>3</td>\n",
       "      <td>9</td>\n",
       "      <td>476</td>\n",
       "      <td>8</td>\n",
       "      <td>34</td>\n",
       "      <td>225</td>\n",
       "    </tr>\n",
       "    <tr>\n",
       "      <th>diff_vals</th>\n",
       "      <td>[Abbotsford, Aberfeldie, Airport West, Albanva...</td>\n",
       "      <td>[49 Lithgow St, 59A Turner St, 119B Yarra St, ...</td>\n",
       "      <td>[h, t, u]</td>\n",
       "      <td>[S, SP, PI, SN, VB, PN, SA, W, SS]</td>\n",
       "      <td>[Jellis, Marshall, Nelson, Barry, hockingstuar...</td>\n",
       "      <td>[Northern Metropolitan, Western Metropolitan, ...</td>\n",
       "      <td>[Yarra City Council, Moonee Valley City Counci...</td>\n",
       "      <td>[3067, 3040, 3042, 3021, 3206, 3020, 3078, 301...</td>\n",
       "    </tr>\n",
       "  </tbody>\n",
       "</table>\n",
       "</div>"
      ],
      "text/plain": [
       "                                                          Suburb  \\\n",
       "missing_ratio                                                  0   \n",
       "num_diff_vals                                                380   \n",
       "diff_vals      [Abbotsford, Aberfeldie, Airport West, Albanva...   \n",
       "\n",
       "                                                         Address       Type  \\\n",
       "missing_ratio                                                  0          0   \n",
       "num_diff_vals                                              57754          3   \n",
       "diff_vals      [49 Lithgow St, 59A Turner St, 119B Yarra St, ...  [h, t, u]   \n",
       "\n",
       "                                           Method  \\\n",
       "missing_ratio                                   0   \n",
       "num_diff_vals                                   9   \n",
       "diff_vals      [S, SP, PI, SN, VB, PN, SA, W, SS]   \n",
       "\n",
       "                                                         SellerG  \\\n",
       "missing_ratio                                                  0   \n",
       "num_diff_vals                                                476   \n",
       "diff_vals      [Jellis, Marshall, Nelson, Barry, hockingstuar...   \n",
       "\n",
       "                                                      Regionname  \\\n",
       "missing_ratio                                                  0   \n",
       "num_diff_vals                                                  8   \n",
       "diff_vals      [Northern Metropolitan, Western Metropolitan, ...   \n",
       "\n",
       "                                                     CouncilArea  \\\n",
       "missing_ratio                                                  0   \n",
       "num_diff_vals                                                 34   \n",
       "diff_vals      [Yarra City Council, Moonee Valley City Counci...   \n",
       "\n",
       "                                                        Postcode  \n",
       "missing_ratio                                                  0  \n",
       "num_diff_vals                                                225  \n",
       "diff_vals      [3067, 3040, 3042, 3021, 3206, 3020, 3078, 301...  "
      ]
     },
     "execution_count": 15,
     "metadata": {},
     "output_type": "execute_result"
    }
   ],
   "source": [
    "cate_cols = ['Suburb', 'Address', 'Type', 'Method', 'SellerG', 'Regionname', 'CouncilArea', 'Postcode']\n",
    "def num_diff_vals(s):\n",
    "    return s.nunique()\n",
    "\n",
    "def diff_vals(s):\n",
    "    return s.unique()\n",
    "\n",
    "cate_col_profiles_df = mhm_df[cate_cols].agg([missing_ratio, num_diff_vals, diff_vals])\n",
    "\n",
    "cate_col_profiles_df"
   ]
  },
  {
   "cell_type": "markdown",
   "id": "ceacb7be",
   "metadata": {},
   "source": [
    "### Làm rõ hơn ý nghĩa của cột `Suburb` và `CouncilArea`"
   ]
  },
  {
   "cell_type": "markdown",
   "id": "8066882b",
   "metadata": {},
   "source": [
    "Theo mô tả của file dữ liệu thì:\n",
    "- Suburb: mô tả ngoại ô, nơi mà ngôi nhà tọa lạc\n",
    "- CouncilArea: hội đồng quản lí của khu vực  \n",
    "\n",
    "Ở Úc, chính quyền địa phương là cấp hành chính thấp nhất, nằm dưới tiểu bang và liên bang. Cơ quan quyền lực nhà nước đóng trên địa phương được gọi là hội đồng. Khác với Việt Nam, mỗi phường, xã, thị trấn (đơn vị hành chính nhỏ nhất ở nước ta) đều tồn tại một Hội đồng Nhân dân, ở Úc lại không chia nhỏ ra như vậy, mỗi hội đồng bao gồm nhiều suburb,do đó mà ở Úc chỉ có 565 chính quyền địa phương mà thôi. Bây giờ trước tiên chúng ta sẽ cùng xem thử mỗi hội đồng ở trong dữ liệu này bao gồm những suburb nào"
   ]
  },
  {
   "cell_type": "code",
   "execution_count": 16,
   "id": "8fbb62ef",
   "metadata": {},
   "outputs": [
    {
     "data": {
      "text/html": [
       "<div>\n",
       "<style scoped>\n",
       "    .dataframe tbody tr th:only-of-type {\n",
       "        vertical-align: middle;\n",
       "    }\n",
       "\n",
       "    .dataframe tbody tr th {\n",
       "        vertical-align: top;\n",
       "    }\n",
       "\n",
       "    .dataframe thead th {\n",
       "        text-align: right;\n",
       "    }\n",
       "</style>\n",
       "<table border=\"1\" class=\"dataframe\">\n",
       "  <thead>\n",
       "    <tr style=\"text-align: right;\">\n",
       "      <th></th>\n",
       "      <th>Suburb</th>\n",
       "    </tr>\n",
       "    <tr>\n",
       "      <th>CouncilArea</th>\n",
       "      <th></th>\n",
       "    </tr>\n",
       "  </thead>\n",
       "  <tbody>\n",
       "    <tr>\n",
       "      <th>Banyule City Council</th>\n",
       "      <td>{Heidelberg, Macleod, St Helena, Heidelberg Heights, Watsonia, Yallambie, Bundoora, Viewbank, Greensborough, Briar Hill, Eaglemont, Eltham, Lower Plenty, Bellfield, Rosanna, Heidelberg West, Ivanhoe, viewbank, Watsonia North, Montmorency, MacLeod, Ivanhoe East, Eltham North}</td>\n",
       "    </tr>\n",
       "    <tr>\n",
       "      <th>Bayside City Council</th>\n",
       "      <td>{Brighton, Cheltenham, Beaumaris, Sandringham, Hampton, Brighton East, Highett, Black Rock, Hampton East}</td>\n",
       "    </tr>\n",
       "    <tr>\n",
       "      <th>Boroondara City Council</th>\n",
       "      <td>{Deepdene, Glen Iris, Camberwell, Hawthorn, Hawthorn East, Balwyn North, Kew, Balwyn, Surrey Hills, Kew East, Ashburton, Mont Albert, Canterbury}</td>\n",
       "    </tr>\n",
       "    <tr>\n",
       "      <th>Brimbank City Council</th>\n",
       "      <td>{Brooklyn, Albanvale, Sunshine North, Tullamarine, Taylors Lakes, Sunshine West, Sydenham, Ardeer, Albion, Keilor, Cairnlea, Hillside, Keilor Downs, Deer Park, St Albans, Keilor East, Keilor Park, Keilor Lodge, Kings Park, Kealba, Derrimut, Delahey, Sunshine}</td>\n",
       "    </tr>\n",
       "    <tr>\n",
       "      <th>Cardinia Shire Council</th>\n",
       "      <td>{Officer, Beaconsfield, Pakenham, Emerald, Beaconsfield Upper, Avonsleigh, Gembrook, Menzies Creek, Cockatoo, Guys Hill}</td>\n",
       "    </tr>\n",
       "  </tbody>\n",
       "</table>\n",
       "</div>"
      ],
      "text/plain": [
       "                                                                                                                                                                                                                                                                                                      Suburb\n",
       "CouncilArea                                                                                                                                                                                                                                                                                                 \n",
       "Banyule City Council     {Heidelberg, Macleod, St Helena, Heidelberg Heights, Watsonia, Yallambie, Bundoora, Viewbank, Greensborough, Briar Hill, Eaglemont, Eltham, Lower Plenty, Bellfield, Rosanna, Heidelberg West, Ivanhoe, viewbank, Watsonia North, Montmorency, MacLeod, Ivanhoe East, Eltham North}\n",
       "Bayside City Council                                                                                                                                                                               {Brighton, Cheltenham, Beaumaris, Sandringham, Hampton, Brighton East, Highett, Black Rock, Hampton East}\n",
       "Boroondara City Council                                                                                                                                    {Deepdene, Glen Iris, Camberwell, Hawthorn, Hawthorn East, Balwyn North, Kew, Balwyn, Surrey Hills, Kew East, Ashburton, Mont Albert, Canterbury}\n",
       "Brimbank City Council                    {Brooklyn, Albanvale, Sunshine North, Tullamarine, Taylors Lakes, Sunshine West, Sydenham, Ardeer, Albion, Keilor, Cairnlea, Hillside, Keilor Downs, Deer Park, St Albans, Keilor East, Keilor Park, Keilor Lodge, Kings Park, Kealba, Derrimut, Delahey, Sunshine}\n",
       "Cardinia Shire Council                                                                                                                                                              {Officer, Beaconsfield, Pakenham, Emerald, Beaconsfield Upper, Avonsleigh, Gembrook, Menzies Creek, Cockatoo, Guys Hill}"
      ]
     },
     "execution_count": 16,
     "metadata": {},
     "output_type": "execute_result"
    }
   ],
   "source": [
    "pd.set_option(\"display.max_colwidth\", 1000)\n",
    "su_in_ca_df = mhm_df[['Suburb', 'CouncilArea']]\n",
    "su_in_ca_df = su_in_ca_df.groupby(['CouncilArea'])['Suburb'].apply(set)\n",
    "su_in_ca_df = pd.DataFrame(su_in_ca_df)\n",
    "su_in_ca_df.head()"
   ]
  },
  {
   "cell_type": "markdown",
   "id": "5b4effab",
   "metadata": {},
   "source": [
    "Theo [wikipedia](https://vi.wikipedia.org/wiki/Ch%C3%ADnh_quy%E1%BB%81n_%C4%91%E1%BB%8Ba_ph%C6%B0%C6%A1ng_%E1%BB%9F_%C3%9Ac) mặc dù chính quyền địa phương ở Úc được phân chia khá đơn giản, nhưng một vài khu vực địa lý khá rộng và có ít dân lại không trực thuộc cấp chính quyền cơ sở nào cả. Nhiệm vụ của chính quyền địa phương ở những khu vực này thường do các tổ chức, cơ quan đặc trách ngoài chính quyền đảm nhận (như các khu nghỉ mát trên núi ở bang Victoria), hoặc do nhà chức trách tiểu bang cai quản toàn bộ. Như vậy chúng ta thử kiểm tra xem liệu có sự đụng độ suburb nào ở các chính quyền địa phương hay không "
   ]
  },
  {
   "cell_type": "code",
   "execution_count": 17,
   "id": "9ccc647e",
   "metadata": {
    "scrolled": true
   },
   "outputs": [
    {
     "data": {
      "text/plain": [
       "0"
      ]
     },
     "execution_count": 17,
     "metadata": {},
     "output_type": "execute_result"
    }
   ],
   "source": [
    "su_in_ca_df = su_in_ca_df.explode('Suburb')\n",
    "su_in_ca_df.duplicated().sum()"
   ]
  },
  {
   "cell_type": "markdown",
   "id": "7873120b",
   "metadata": {},
   "source": [
    "Như chúng ta quan sát, đã không có sự nhập nhằng nào trong việc quản lí, như vậy người dùng dễ dàng hơn trong việc làm giấy tờ nhà hay đơn giản hơn là việc đặt hàng online chẳng hạn (có thể có, vì KTX B ĐHQG là một ví dụ trong sự nhập nhằng địa chỉ 😉, nhập nhằng ở đây là theo cách hiểu của người nhập liệu, người dân, hiển nhiên trên giấy tờ quốc gia, một vùng vẫn luôn được thống nhất)"
   ]
  },
  {
   "cell_type": "markdown",
   "id": "2ef2c3e6",
   "metadata": {},
   "source": [
    "## Đưa ra câu hỏi cần trả lời"
   ]
  },
  {
   "cell_type": "code",
   "execution_count": null,
   "id": "59560eb0",
   "metadata": {},
   "outputs": [],
   "source": []
  }
 ],
 "metadata": {
  "kernelspec": {
   "display_name": "Python 3 (ipykernel)",
   "language": "python",
   "name": "python3"
  },
  "language_info": {
   "codemirror_mode": {
    "name": "ipython",
    "version": 3
   },
   "file_extension": ".py",
   "mimetype": "text/x-python",
   "name": "python",
   "nbconvert_exporter": "python",
   "pygments_lexer": "ipython3",
   "version": "3.8.8"
  }
 },
 "nbformat": 4,
 "nbformat_minor": 5
}
