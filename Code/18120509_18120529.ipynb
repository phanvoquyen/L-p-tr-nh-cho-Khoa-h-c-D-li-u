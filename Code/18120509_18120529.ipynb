{
 "cells": [
  {
   "cell_type": "markdown",
   "id": "a37b4354",
   "metadata": {},
   "source": [
    "# PROJECT: MELBOURNE HOUSING MARKET\n",
    "**GIẢNG VIÊN HƯỚNG DẪN: THẦY TRẦN TRUNG KIÊN**  \n",
    "\n",
    "**THÔNG TIN NHÓM 1:**\n",
    "1. CAO VĂN PHÚC - 18120509\n",
    "2. PHAN VĂN VÕ QUYỀN - 18120529"
   ]
  },
  {
   "cell_type": "markdown",
   "id": "d80b289f",
   "metadata": {},
   "source": [
    "## Import các thư viện cần thiết"
   ]
  },
  {
   "cell_type": "code",
   "execution_count": 1,
   "id": "b7ce67d8",
   "metadata": {},
   "outputs": [],
   "source": [
    "import pandas as pd\n",
    "import matplotlib.pyplot as plt\n",
    "import numpy as np\n",
    "import warnings\n",
    "warnings.filterwarnings('ignore')"
   ]
  },
  {
   "cell_type": "markdown",
   "id": "aae8072a",
   "metadata": {},
   "source": [
    "## Thu thập dữ liệu"
   ]
  },
  {
   "cell_type": "markdown",
   "id": "3cae4ee8",
   "metadata": {},
   "source": [
    "- Tập dữ liệu mà nhóm lựa chọn là `Melbource housing market`, tập dữ liệu này thu thập thông tin về dữ liệu nhà đất tại thành phố Melbource xinh đẹp của nước Úc, nó bao gồm các thuộc tính Address, Type of Real estate, Suburb, Method of Selling, Rooms, Price, Real Estate Agent, Date of Sale và distance từ C.B.D. Tập dữ liệu này được lấy từ trang `Kaggle` tại link sau [đây](https://www.kaggle.com/anthonypino/melbourne-housing-market), license của dữ liệu tại [đây](https://creativecommons.org/licenses/by-nc-sa/4.0/)  \n",
    "- Vì đây là dữ liệu trên `Kaggle` nên chúng ta chỉ cần đăng nhập là có thể lấy được dữ liệu này về một cách dễ dàng  \n",
    "- Tập dữ liệu này được người ta thu thập bằng các kết quả có sẵn công khai hằng tuần từ trang `Domain.com.au`\n",
    "- Trong đồ án này, nhóm xin được phép chỉ sử dụng file `MELBOURNE_HOUSE_PRICES_LESS.csv`"
   ]
  },
  {
   "cell_type": "markdown",
   "id": "1c83a261",
   "metadata": {},
   "source": [
    "## Khám phá dữ liệu"
   ]
  },
  {
   "cell_type": "markdown",
   "id": "d26785bd",
   "metadata": {},
   "source": [
    "### Đọc dữ liệu từ file.csv vào DataFrame"
   ]
  },
  {
   "cell_type": "code",
   "execution_count": 2,
   "id": "bbb253a3",
   "metadata": {},
   "outputs": [
    {
     "data": {
      "text/html": [
       "<div>\n",
       "<style scoped>\n",
       "    .dataframe tbody tr th:only-of-type {\n",
       "        vertical-align: middle;\n",
       "    }\n",
       "\n",
       "    .dataframe tbody tr th {\n",
       "        vertical-align: top;\n",
       "    }\n",
       "\n",
       "    .dataframe thead th {\n",
       "        text-align: right;\n",
       "    }\n",
       "</style>\n",
       "<table border=\"1\" class=\"dataframe\">\n",
       "  <thead>\n",
       "    <tr style=\"text-align: right;\">\n",
       "      <th></th>\n",
       "      <th>Suburb</th>\n",
       "      <th>Address</th>\n",
       "      <th>Rooms</th>\n",
       "      <th>Type</th>\n",
       "      <th>Price</th>\n",
       "      <th>Method</th>\n",
       "      <th>SellerG</th>\n",
       "      <th>Date</th>\n",
       "      <th>Postcode</th>\n",
       "      <th>Regionname</th>\n",
       "      <th>Propertycount</th>\n",
       "      <th>Distance</th>\n",
       "      <th>CouncilArea</th>\n",
       "    </tr>\n",
       "  </thead>\n",
       "  <tbody>\n",
       "    <tr>\n",
       "      <th>55057</th>\n",
       "      <td>Doncaster East</td>\n",
       "      <td>7 Currajong St</td>\n",
       "      <td>4</td>\n",
       "      <td>h</td>\n",
       "      <td>1160000.0</td>\n",
       "      <td>S</td>\n",
       "      <td>Jellis</td>\n",
       "      <td>27/06/2016</td>\n",
       "      <td>3109</td>\n",
       "      <td>Eastern Metropolitan</td>\n",
       "      <td>10999</td>\n",
       "      <td>14.3</td>\n",
       "      <td>Manningham City Council</td>\n",
       "    </tr>\n",
       "    <tr>\n",
       "      <th>17262</th>\n",
       "      <td>Brighton East</td>\n",
       "      <td>135 Union St</td>\n",
       "      <td>3</td>\n",
       "      <td>t</td>\n",
       "      <td>NaN</td>\n",
       "      <td>PN</td>\n",
       "      <td>Gary</td>\n",
       "      <td>9/12/2017</td>\n",
       "      <td>3187</td>\n",
       "      <td>Southern Metropolitan</td>\n",
       "      <td>6938</td>\n",
       "      <td>10.3</td>\n",
       "      <td>Bayside City Council</td>\n",
       "    </tr>\n",
       "    <tr>\n",
       "      <th>38764</th>\n",
       "      <td>Ashburton</td>\n",
       "      <td>2/17 Ashburn Gr</td>\n",
       "      <td>3</td>\n",
       "      <td>t</td>\n",
       "      <td>900000.0</td>\n",
       "      <td>S</td>\n",
       "      <td>Jellis</td>\n",
       "      <td>19/11/2016</td>\n",
       "      <td>3147</td>\n",
       "      <td>Southern Metropolitan</td>\n",
       "      <td>3052</td>\n",
       "      <td>10.2</td>\n",
       "      <td>Boroondara City Council</td>\n",
       "    </tr>\n",
       "    <tr>\n",
       "      <th>51720</th>\n",
       "      <td>Bulleen</td>\n",
       "      <td>18 Gisborne St</td>\n",
       "      <td>4</td>\n",
       "      <td>h</td>\n",
       "      <td>NaN</td>\n",
       "      <td>SP</td>\n",
       "      <td>Fletchers</td>\n",
       "      <td>25/11/2017</td>\n",
       "      <td>3105</td>\n",
       "      <td>Eastern Metropolitan</td>\n",
       "      <td>4480</td>\n",
       "      <td>10.8</td>\n",
       "      <td>Manningham City Council</td>\n",
       "    </tr>\n",
       "    <tr>\n",
       "      <th>38192</th>\n",
       "      <td>Westmeadows</td>\n",
       "      <td>6 Thornleigh Pl</td>\n",
       "      <td>4</td>\n",
       "      <td>h</td>\n",
       "      <td>712000.0</td>\n",
       "      <td>S</td>\n",
       "      <td>Ray</td>\n",
       "      <td>19/05/2018</td>\n",
       "      <td>3049</td>\n",
       "      <td>Northern Metropolitan</td>\n",
       "      <td>2474</td>\n",
       "      <td>16.5</td>\n",
       "      <td>Hume City Council</td>\n",
       "    </tr>\n",
       "    <tr>\n",
       "      <th>17164</th>\n",
       "      <td>Ardeer</td>\n",
       "      <td>126 Suspension St</td>\n",
       "      <td>3</td>\n",
       "      <td>h</td>\n",
       "      <td>615000.0</td>\n",
       "      <td>S</td>\n",
       "      <td>RW</td>\n",
       "      <td>9/12/2017</td>\n",
       "      <td>3022</td>\n",
       "      <td>Western Metropolitan</td>\n",
       "      <td>1281</td>\n",
       "      <td>12.8</td>\n",
       "      <td>Brimbank City Council</td>\n",
       "    </tr>\n",
       "    <tr>\n",
       "      <th>27947</th>\n",
       "      <td>Elwood</td>\n",
       "      <td>3/24 Tennyson St</td>\n",
       "      <td>2</td>\n",
       "      <td>u</td>\n",
       "      <td>NaN</td>\n",
       "      <td>SP</td>\n",
       "      <td>Greg</td>\n",
       "      <td>15/09/2018</td>\n",
       "      <td>3184</td>\n",
       "      <td>Southern Metropolitan</td>\n",
       "      <td>8989</td>\n",
       "      <td>7.2</td>\n",
       "      <td>Port Phillip City Council</td>\n",
       "    </tr>\n",
       "    <tr>\n",
       "      <th>28599</th>\n",
       "      <td>Flemington</td>\n",
       "      <td>3/121 Wellington St</td>\n",
       "      <td>2</td>\n",
       "      <td>u</td>\n",
       "      <td>476000.0</td>\n",
       "      <td>S</td>\n",
       "      <td>Alexkarbon</td>\n",
       "      <td>15/10/2016</td>\n",
       "      <td>3031</td>\n",
       "      <td>Northern Metropolitan</td>\n",
       "      <td>3593</td>\n",
       "      <td>3.4</td>\n",
       "      <td>Melbourne City Council</td>\n",
       "    </tr>\n",
       "    <tr>\n",
       "      <th>54162</th>\n",
       "      <td>Bentleigh East</td>\n",
       "      <td>8 Anderson Av</td>\n",
       "      <td>3</td>\n",
       "      <td>h</td>\n",
       "      <td>1767000.0</td>\n",
       "      <td>S</td>\n",
       "      <td>Woodards</td>\n",
       "      <td>27/05/2017</td>\n",
       "      <td>3165</td>\n",
       "      <td>Southern Metropolitan</td>\n",
       "      <td>10969</td>\n",
       "      <td>13.8</td>\n",
       "      <td>Glen Eira City Council</td>\n",
       "    </tr>\n",
       "    <tr>\n",
       "      <th>998</th>\n",
       "      <td>Ormond</td>\n",
       "      <td>2/21 Lillimur Rd</td>\n",
       "      <td>1</td>\n",
       "      <td>u</td>\n",
       "      <td>454000.0</td>\n",
       "      <td>S</td>\n",
       "      <td>Ray</td>\n",
       "      <td>1/07/2017</td>\n",
       "      <td>3204</td>\n",
       "      <td>Southern Metropolitan</td>\n",
       "      <td>3578</td>\n",
       "      <td>11.4</td>\n",
       "      <td>Glen Eira City Council</td>\n",
       "    </tr>\n",
       "  </tbody>\n",
       "</table>\n",
       "</div>"
      ],
      "text/plain": [
       "               Suburb              Address  Rooms Type      Price Method  \\\n",
       "55057  Doncaster East       7 Currajong St      4    h  1160000.0      S   \n",
       "17262   Brighton East         135 Union St      3    t        NaN     PN   \n",
       "38764       Ashburton      2/17 Ashburn Gr      3    t   900000.0      S   \n",
       "51720         Bulleen       18 Gisborne St      4    h        NaN     SP   \n",
       "38192     Westmeadows      6 Thornleigh Pl      4    h   712000.0      S   \n",
       "17164          Ardeer    126 Suspension St      3    h   615000.0      S   \n",
       "27947          Elwood     3/24 Tennyson St      2    u        NaN     SP   \n",
       "28599      Flemington  3/121 Wellington St      2    u   476000.0      S   \n",
       "54162  Bentleigh East        8 Anderson Av      3    h  1767000.0      S   \n",
       "998            Ormond     2/21 Lillimur Rd      1    u   454000.0      S   \n",
       "\n",
       "          SellerG        Date  Postcode             Regionname  Propertycount  \\\n",
       "55057      Jellis  27/06/2016      3109   Eastern Metropolitan          10999   \n",
       "17262        Gary   9/12/2017      3187  Southern Metropolitan           6938   \n",
       "38764      Jellis  19/11/2016      3147  Southern Metropolitan           3052   \n",
       "51720   Fletchers  25/11/2017      3105   Eastern Metropolitan           4480   \n",
       "38192         Ray  19/05/2018      3049  Northern Metropolitan           2474   \n",
       "17164          RW   9/12/2017      3022   Western Metropolitan           1281   \n",
       "27947        Greg  15/09/2018      3184  Southern Metropolitan           8989   \n",
       "28599  Alexkarbon  15/10/2016      3031  Northern Metropolitan           3593   \n",
       "54162    Woodards  27/05/2017      3165  Southern Metropolitan          10969   \n",
       "998           Ray   1/07/2017      3204  Southern Metropolitan           3578   \n",
       "\n",
       "       Distance                CouncilArea  \n",
       "55057      14.3    Manningham City Council  \n",
       "17262      10.3       Bayside City Council  \n",
       "38764      10.2    Boroondara City Council  \n",
       "51720      10.8    Manningham City Council  \n",
       "38192      16.5          Hume City Council  \n",
       "17164      12.8      Brimbank City Council  \n",
       "27947       7.2  Port Phillip City Council  \n",
       "28599       3.4     Melbourne City Council  \n",
       "54162      13.8     Glen Eira City Council  \n",
       "998        11.4     Glen Eira City Council  "
      ]
     },
     "execution_count": 2,
     "metadata": {},
     "output_type": "execute_result"
    }
   ],
   "source": [
    "mhm_df = pd.read_csv('MELBOURNE_HOUSE_PRICES_LESS.csv')\n",
    "mhm_df.sample(10)"
   ]
  },
  {
   "cell_type": "markdown",
   "id": "3bc2fb48",
   "metadata": {},
   "source": [
    "### Dữ liệu có bao nhiêu dòng và bao nhiêu cột?"
   ]
  },
  {
   "cell_type": "markdown",
   "id": "23248047",
   "metadata": {},
   "source": [
    "Số dòng, số cột sẽ lần lượt lưu vào hai biến num_rows và num_cols"
   ]
  },
  {
   "cell_type": "code",
   "execution_count": 3,
   "id": "cf8f6dd2",
   "metadata": {},
   "outputs": [
    {
     "name": "stdout",
     "output_type": "stream",
     "text": [
      "63023 13\n"
     ]
    }
   ],
   "source": [
    "num_rows, num_cols = mhm_df.shape\n",
    "print(num_rows, num_cols)"
   ]
  },
  {
   "cell_type": "markdown",
   "id": "6f1d142d",
   "metadata": {},
   "source": [
    "### Mỗi dòng có ý nghĩa gì? Có vấn đề các dòng có ý nghĩa khác nhau hay không?"
   ]
  },
  {
   "cell_type": "markdown",
   "id": "0f15a5e1",
   "metadata": {},
   "source": [
    "Mỗi dòng cung cấp thông tin về một ngôi nhà ở Melbourne"
   ]
  },
  {
   "cell_type": "markdown",
   "id": "c5b9aaf5",
   "metadata": {},
   "source": [
    "### Dữ liệu có các dòng bị lặp không?"
   ]
  },
  {
   "cell_type": "code",
   "execution_count": 4,
   "id": "7d269d51",
   "metadata": {},
   "outputs": [
    {
     "data": {
      "text/plain": [
       "2"
      ]
     },
     "execution_count": 4,
     "metadata": {},
     "output_type": "execute_result"
    }
   ],
   "source": [
    "have_duplicated_rows = mhm_df.duplicated().sum()\n",
    "have_duplicated_rows"
   ]
  },
  {
   "cell_type": "markdown",
   "id": "374b0cd2",
   "metadata": {},
   "source": [
    "### Vấn đề cần xử lý\n",
    "- Có dòng bị lặp, cần loại bỏ các dòng đó"
   ]
  },
  {
   "cell_type": "markdown",
   "id": "a874f3a6",
   "metadata": {},
   "source": [
    "## Tiền xử lý"
   ]
  },
  {
   "cell_type": "markdown",
   "id": "42d23fc6",
   "metadata": {},
   "source": [
    "### Loại bỏ dòng dữ liệu bị lặp"
   ]
  },
  {
   "cell_type": "code",
   "execution_count": 5,
   "id": "ff639ef7",
   "metadata": {},
   "outputs": [
    {
     "data": {
      "text/plain": [
       "(63021, 13)"
      ]
     },
     "execution_count": 5,
     "metadata": {},
     "output_type": "execute_result"
    }
   ],
   "source": [
    "mhm_df = mhm_df.drop_duplicates()\n",
    "mhm_df.shape"
   ]
  },
  {
   "cell_type": "markdown",
   "id": "2fa1e434",
   "metadata": {},
   "source": [
    "Sau khi loại bỏ dòng lặp, thì mhm_df còn đúng 63021 dòng dữ liệu"
   ]
  },
  {
   "cell_type": "markdown",
   "id": "51354efc",
   "metadata": {},
   "source": [
    "## Khám phá dữ liệu (tiếp tục)"
   ]
  },
  {
   "cell_type": "markdown",
   "id": "25c4b80e",
   "metadata": {},
   "source": [
    "### Mỗi cột có ý nghĩa gì?"
   ]
  },
  {
   "cell_type": "markdown",
   "id": "2d8ae750",
   "metadata": {},
   "source": [
    "Dưới đây là phần mô tả của dữ liệu trên trang `Kaggle`\n",
    "- Suburb: ngoại ô\n",
    "- Address: địa chỉ cụ thể của ngôi nhà\n",
    "- Rooms: số phòng của ngôi nhà\n",
    "- Price: giá của ngôi nhà, tính bằng đô la Úc\n",
    "- Method:\n",
    "    - S - tài sản đã bán\n",
    "    - SP - tài sản đã bán trước đó\n",
    "    - PI - tài sản được chuyển vào\n",
    "    - PN - bán trước không được tiết lộ\n",
    "    - SN - bán không được tiết lộ\n",
    "    - NB - không có giá thầu\n",
    "    - VB - giá thầu của nhà cung cấp\n",
    "    - W - thu hồi trước khi đấu giá\n",
    "    - SA - bán sau khi đấu giá\n",
    "    - SS - giá bán sau đấu giá không được tiết lộ\n",
    "    - N / A - giá hoặc giá thầu cao nhất không có sẵn\n",
    "- Type:\n",
    "    - br - phòng ngủ\n",
    "    - h - nhà, biệt thự, sân thượng\n",
    "    - u - nhà đơn, nhà hai tầng\n",
    "    - t - nhà phố\n",
    "    - dev site - nhà có vị trí phát triển\n",
    "    - o res - khu dân cư khác\n",
    "- Postcode: mã bưu điện\n",
    "- SellerG: Đại lý bất động sản\n",
    "- Date: Ngày bán\n",
    "- Distance: Khoảng cách từ CBD tính bằng Kilômét\n",
    "- RegionName: Khu vực chung (Tây, Tây Bắc, Bắc, Đông Bắc… vv)\n",
    "- Propertycount: Số lượng thuộc tính tồn tại ở vùng ngoại ô\n",
    "- CouncilArea: Hội đồng quản lý khu vực"
   ]
  },
  {
   "cell_type": "markdown",
   "id": "7f263ea8",
   "metadata": {},
   "source": [
    "### Mỗi cột hiện đang có kiểu dữ liệu gì? Có cột nào có kiểu dữ liệu chưa phù hợp để có thể xử lý tiếp không?"
   ]
  },
  {
   "cell_type": "code",
   "execution_count": 6,
   "id": "6aa9f1cf",
   "metadata": {},
   "outputs": [
    {
     "name": "stdout",
     "output_type": "stream",
     "text": [
      "<class 'pandas.core.frame.DataFrame'>\n",
      "Int64Index: 63021 entries, 0 to 63022\n",
      "Data columns (total 13 columns):\n",
      " #   Column         Non-Null Count  Dtype  \n",
      "---  ------         --------------  -----  \n",
      " 0   Suburb         63021 non-null  object \n",
      " 1   Address        63021 non-null  object \n",
      " 2   Rooms          63021 non-null  int64  \n",
      " 3   Type           63021 non-null  object \n",
      " 4   Price          48432 non-null  float64\n",
      " 5   Method         63021 non-null  object \n",
      " 6   SellerG        63021 non-null  object \n",
      " 7   Date           63021 non-null  object \n",
      " 8   Postcode       63021 non-null  int64  \n",
      " 9   Regionname     63021 non-null  object \n",
      " 10  Propertycount  63021 non-null  int64  \n",
      " 11  Distance       63021 non-null  float64\n",
      " 12  CouncilArea    63021 non-null  object \n",
      "dtypes: float64(2), int64(3), object(8)\n",
      "memory usage: 6.7+ MB\n"
     ]
    }
   ],
   "source": [
    "mhm_df.info()"
   ]
  },
  {
   "cell_type": "markdown",
   "id": "5ad7b0f4",
   "metadata": {},
   "source": [
    "Trong Pandas, kiểu dữ liệu `object` thường ám chỉ chuỗi, nhưng thật ra kiểu dữ liệu `object` có thể chứa một đối tượng bất kỳ trong Python (vì thật ra ở bên dưới kiểu dữ liệu `object` chứa địa chỉ). Nếu một cột trong dataframe có `dtype` là `object` thì có thể các phần tử trong cột này sẽ có kiểu dữ liệu khác nhau; để biết được kiểu dữ liệu thật sự của các phần tử trong cột này thì ta phải truy xuất vào từng phần tử và dùng câu lệnh `type` để xem kiểu dữ liệu. Do đó tiền hành code hàm open_object_dtype trả về tập các kiểu dữ liệu có ở trong các cột"
   ]
  },
  {
   "cell_type": "code",
   "execution_count": 7,
   "id": "eb1446ca",
   "metadata": {},
   "outputs": [],
   "source": [
    "def open_object_dtype(s):\n",
    "    dtypes = set(s.map(type))\n",
    "    return dtypes"
   ]
  },
  {
   "cell_type": "code",
   "execution_count": 8,
   "id": "51082a46",
   "metadata": {},
   "outputs": [
    {
     "data": {
      "text/plain": [
       "Suburb         {<class 'str'>}\n",
       "Address        {<class 'str'>}\n",
       "Type           {<class 'str'>}\n",
       "Method         {<class 'str'>}\n",
       "SellerG        {<class 'str'>}\n",
       "Date           {<class 'str'>}\n",
       "Regionname     {<class 'str'>}\n",
       "CouncilArea    {<class 'str'>}\n",
       "dtype: object"
      ]
     },
     "execution_count": 8,
     "metadata": {},
     "output_type": "execute_result"
    }
   ],
   "source": [
    "obj_cols = mhm_df.select_dtypes([\"object\"]).columns\n",
    "data = obj_cols.map(lambda x: open_object_dtype(mhm_df[x]))\n",
    "pd.Series(data=data, index = obj_cols)"
   ]
  },
  {
   "cell_type": "markdown",
   "id": "9bc5aa50",
   "metadata": {},
   "source": [
    "**Vấn đề cần tiền xử lí:**\n",
    "- Cột `Date` đang có kiểu dữ liệu là `str`, để khám phá thêm cột này ta sẽ phải chuyển nó về dạng `datetime`"
   ]
  },
  {
   "cell_type": "markdown",
   "id": "fec8309f",
   "metadata": {},
   "source": [
    "## Tiền xử lý"
   ]
  },
  {
   "cell_type": "code",
   "execution_count": 9,
   "id": "20242903",
   "metadata": {},
   "outputs": [
    {
     "data": {
      "text/plain": [
       "dtype('<M8[ns]')"
      ]
     },
     "execution_count": 9,
     "metadata": {},
     "output_type": "execute_result"
    }
   ],
   "source": [
    "mhm_df['Date'] = pd.to_datetime(mhm_df['Date'], format = '%d/%m/%Y')\n",
    "mhm_df['Date'].dtypes"
   ]
  },
  {
   "cell_type": "markdown",
   "id": "79bb3f9d",
   "metadata": {},
   "source": [
    "## Khám phá dữ liệu (tiếp tục)"
   ]
  },
  {
   "cell_type": "markdown",
   "id": "ca237379",
   "metadata": {},
   "source": [
    "### Với mỗi cột dữ liệu numeric, các giá trị được phân bố như thế nào?"
   ]
  },
  {
   "cell_type": "markdown",
   "id": "591fe4cd",
   "metadata": {},
   "source": [
    "Chúng ta xếp cột `Date` vào cột dạng numeric. Như vậy có vẻ có tổng cộng 6 cột dạng numeric, đó là `Date` `Rooms`, `Price`, `Postcode`, `Propertycount` và `Distance`. Tuy nhiên cột `Postcode` thực chất là dạng categorical, vì mã bưu điện thì được đánh dưới dạng số. Vậy số cột numeric thực sự là `Date`, `Rooms`, `Price`, `Propertycount` và `Distance`  \n",
    "\n",
    "Với mỗi cột numeric, ta sẽ tính tỉ lệ phần trăm giá trị bị thiếu (từ 0 đến 100), min và max. Kết quả được lưu vào dataframe `nume-col_profiles_df`"
   ]
  },
  {
   "cell_type": "code",
   "execution_count": 10,
   "id": "cb77d5bc",
   "metadata": {},
   "outputs": [
    {
     "data": {
      "text/html": [
       "<div>\n",
       "<style scoped>\n",
       "    .dataframe tbody tr th:only-of-type {\n",
       "        vertical-align: middle;\n",
       "    }\n",
       "\n",
       "    .dataframe tbody tr th {\n",
       "        vertical-align: top;\n",
       "    }\n",
       "\n",
       "    .dataframe thead th {\n",
       "        text-align: right;\n",
       "    }\n",
       "</style>\n",
       "<table border=\"1\" class=\"dataframe\">\n",
       "  <thead>\n",
       "    <tr style=\"text-align: right;\">\n",
       "      <th></th>\n",
       "      <th>Date</th>\n",
       "      <th>Rooms</th>\n",
       "      <th>Price</th>\n",
       "      <th>Propertycount</th>\n",
       "      <th>Distance</th>\n",
       "    </tr>\n",
       "  </thead>\n",
       "  <tbody>\n",
       "    <tr>\n",
       "      <th>missing_ratio</th>\n",
       "      <td>0</td>\n",
       "      <td>0</td>\n",
       "      <td>23</td>\n",
       "      <td>0</td>\n",
       "      <td>0</td>\n",
       "    </tr>\n",
       "    <tr>\n",
       "      <th>min</th>\n",
       "      <td>2016-01-28 00:00:00</td>\n",
       "      <td>1</td>\n",
       "      <td>85,000</td>\n",
       "      <td>39</td>\n",
       "      <td>0</td>\n",
       "    </tr>\n",
       "    <tr>\n",
       "      <th>max</th>\n",
       "      <td>2018-10-13 00:00:00</td>\n",
       "      <td>31</td>\n",
       "      <td>11,200,000</td>\n",
       "      <td>21,650</td>\n",
       "      <td>64</td>\n",
       "    </tr>\n",
       "  </tbody>\n",
       "</table>\n",
       "</div>"
      ],
      "text/plain": [
       "                              Date  Rooms      Price  Propertycount  Distance\n",
       "missing_ratio                    0      0         23              0         0\n",
       "min            2016-01-28 00:00:00      1     85,000             39         0\n",
       "max            2018-10-13 00:00:00     31 11,200,000         21,650        64"
      ]
     },
     "execution_count": 10,
     "metadata": {},
     "output_type": "execute_result"
    }
   ],
   "source": [
    "pd.options.display.float_format = '{:,.0f}'.format\n",
    "nume_cols = [\"Date\", \"Rooms\", \"Price\", \"Propertycount\", \"Distance\"]\n",
    "\n",
    "def missing_ratio(s):\n",
    "    return s.isnull().mean() * 100\n",
    "\n",
    "nume_col_profiles_df = mhm_df[nume_cols].agg([missing_ratio, 'min', 'max'])\n",
    "nume_col_profiles_df"
   ]
  },
  {
   "cell_type": "markdown",
   "id": "89b045a5",
   "metadata": {},
   "source": [
    "Cột `Price` có phần trăm giá trị bị thiếu là 23%, điều này không nằm ngoài dự tính bởi lẽ như trong file mô tả có nói, cột `Method` sẽ cho chúng ta biết được phương thức bán nhà, với các phương thức \"PN\", \"SN\", ... thì giá nhà sẽ không được công khai. Do đó với các giá trị thiếu này ta sẽ không loại bỏ chúng. Với các giá trị min có lẽ không có gì bất thường. Nhưng với giá trị max chúng ta có thể thấy ngôi nhà có số phòng nhiều nhất lên đến 31 phòng, ngôi nhà có giá cao nhất lên đến 11,200,000 đô Úc (tức là khoảng 160 tỉ VND), chúng ta sẽ thử tính toán và vẽ biểu đồ xem thử các giá trị này có thực sự bất thường hay không? "
   ]
  },
  {
   "cell_type": "code",
   "execution_count": 11,
   "id": "ed067c77",
   "metadata": {},
   "outputs": [
    {
     "data": {
      "text/html": [
       "<div>\n",
       "<style scoped>\n",
       "    .dataframe tbody tr th:only-of-type {\n",
       "        vertical-align: middle;\n",
       "    }\n",
       "\n",
       "    .dataframe tbody tr th {\n",
       "        vertical-align: top;\n",
       "    }\n",
       "\n",
       "    .dataframe thead th {\n",
       "        text-align: right;\n",
       "    }\n",
       "</style>\n",
       "<table border=\"1\" class=\"dataframe\">\n",
       "  <thead>\n",
       "    <tr style=\"text-align: right;\">\n",
       "      <th></th>\n",
       "      <th>Num of houses</th>\n",
       "    </tr>\n",
       "  </thead>\n",
       "  <tbody>\n",
       "    <tr>\n",
       "      <th>3</th>\n",
       "      <td>27949</td>\n",
       "    </tr>\n",
       "    <tr>\n",
       "      <th>4</th>\n",
       "      <td>15747</td>\n",
       "    </tr>\n",
       "    <tr>\n",
       "      <th>2</th>\n",
       "      <td>13247</td>\n",
       "    </tr>\n",
       "    <tr>\n",
       "      <th>5</th>\n",
       "      <td>3434</td>\n",
       "    </tr>\n",
       "    <tr>\n",
       "      <th>1</th>\n",
       "      <td>2111</td>\n",
       "    </tr>\n",
       "    <tr>\n",
       "      <th>6</th>\n",
       "      <td>424</td>\n",
       "    </tr>\n",
       "    <tr>\n",
       "      <th>7</th>\n",
       "      <td>61</td>\n",
       "    </tr>\n",
       "    <tr>\n",
       "      <th>8</th>\n",
       "      <td>29</td>\n",
       "    </tr>\n",
       "    <tr>\n",
       "      <th>10</th>\n",
       "      <td>7</td>\n",
       "    </tr>\n",
       "    <tr>\n",
       "      <th>9</th>\n",
       "      <td>5</td>\n",
       "    </tr>\n",
       "    <tr>\n",
       "      <th>12</th>\n",
       "      <td>4</td>\n",
       "    </tr>\n",
       "    <tr>\n",
       "      <th>11</th>\n",
       "      <td>1</td>\n",
       "    </tr>\n",
       "    <tr>\n",
       "      <th>16</th>\n",
       "      <td>1</td>\n",
       "    </tr>\n",
       "    <tr>\n",
       "      <th>31</th>\n",
       "      <td>1</td>\n",
       "    </tr>\n",
       "  </tbody>\n",
       "</table>\n",
       "</div>"
      ],
      "text/plain": [
       "    Num of houses\n",
       "3           27949\n",
       "4           15747\n",
       "2           13247\n",
       "5            3434\n",
       "1            2111\n",
       "6             424\n",
       "7              61\n",
       "8              29\n",
       "10              7\n",
       "9               5\n",
       "12              4\n",
       "11              1\n",
       "16              1\n",
       "31              1"
      ]
     },
     "execution_count": 11,
     "metadata": {},
     "output_type": "execute_result"
    }
   ],
   "source": [
    "rooms_value_counts = pd.DataFrame(mhm_df['Rooms'].value_counts())\n",
    "rooms_value_counts.columns = ['Num of houses']\n",
    "rooms_value_counts"
   ]
  },
  {
   "cell_type": "code",
   "execution_count": 12,
   "id": "910e8371",
   "metadata": {},
   "outputs": [
    {
     "data": {
      "image/png": "[encoded data removed]",
      "text/plain": [
       "<Figure size 432x288 with 1 Axes>"
      ]
     },
     "metadata": {
      "needs_background": "light"
     },
     "output_type": "display_data"
    }
   ],
   "source": [
    "plt.bar(rooms_value_counts.index, rooms_value_counts['Num of houses']);"
   ]
  },
  {
   "cell_type": "markdown",
   "id": "dab0c007",
   "metadata": {},
   "source": [
    "Theo quan sát thì chúng ta có thể nhận thấy rằng những ngôi nhà có nhiều hơn 7 phòng đã là rất hiếm, vì thế ngôi nhà có 31 phòng thực sự là điều kì lạ. Chúng ta không thể khẳng định chắc chắn được là liệu có hay không căn nhà với 31 phòng, hay đây là sai sót trong quá trình nhập liệu, vì thế mà ta sẽ không bỏ đi chúng, chỉ tiến hành khám phá và coi nó như một giá trị ngoại lệ"
   ]
  },
  {
   "cell_type": "code",
   "execution_count": 13,
   "id": "b77e3d0e",
   "metadata": {},
   "outputs": [
    {
     "data": {
      "image/png": "[encoded data removed]",
      "text/plain": [
       "<Figure size 432x288 with 1 Axes>"
      ]
     },
     "metadata": {
      "needs_background": "light"
     },
     "output_type": "display_data"
    }
   ],
   "source": [
    "plt.hist(mhm_df['Price'], edgecolor='black');"
   ]
  },
  {
   "cell_type": "code",
   "execution_count": 14,
   "id": "3f4132f4",
   "metadata": {},
   "outputs": [
    {
     "data": {
      "text/plain": [
       "73"
      ]
     },
     "execution_count": 14,
     "metadata": {},
     "output_type": "execute_result"
    }
   ],
   "source": [
    "len(mhm_df[mhm_df['Price'] > 5000000])"
   ]
  },
  {
   "cell_type": "markdown",
   "id": "8c353364",
   "metadata": {},
   "source": [
    "Theo quan sát, các ngôi nhà có giá trên 5,000,000 đô la Úc thực sự chiếm tỉ lệ rất ít, tuy nhiên chúng ta cũng không thể khẳng định được liệu căn nhà có giá 11,200,000 có thật hay không hay là do sai sót trong quá trình nhập liệu, thực tế thì vẫn có các siêu biệt thự dành cho giới nhà giàu. Do đó, ta sẽ giữ lại các giá trị này, chỉ tiến hành khám phá chúng và xem như những giá trị ngoại lệ hay giá trị đặc biệt"
   ]
  },
  {
   "cell_type": "markdown",
   "id": "4d96139c",
   "metadata": {},
   "source": [
    "### Với mỗi cột dữ liệu categorical, các giá trị được phân bố như thế nào?"
   ]
  },
  {
   "cell_type": "markdown",
   "id": "eeddaa1a",
   "metadata": {},
   "source": [
    "mhm_df có tổng cộng 8 cột dữ liệu dạng categorical là `Suburb`, `Address`, `Type`, `Method`, `SellerG`, `Regionname`, `CouncilArea`, `Postcode`  \n",
    "\n",
    "Với mỗi cột categorical, ta tiến hành tính phần trăm giá trị bị thiếu (từ 0 đến 100), tính số lượng giá trị khác nhau, list/array các giá trị khác nhau. Kết quả sẽ được lưu vào dataframe `cate_col_profiles_df`"
   ]
  },
  {
   "cell_type": "code",
   "execution_count": 15,
   "id": "55122bd0",
   "metadata": {},
   "outputs": [
    {
     "data": {
      "text/html": [
       "<div>\n",
       "<style scoped>\n",
       "    .dataframe tbody tr th:only-of-type {\n",
       "        vertical-align: middle;\n",
       "    }\n",
       "\n",
       "    .dataframe tbody tr th {\n",
       "        vertical-align: top;\n",
       "    }\n",
       "\n",
       "    .dataframe thead th {\n",
       "        text-align: right;\n",
       "    }\n",
       "</style>\n",
       "<table border=\"1\" class=\"dataframe\">\n",
       "  <thead>\n",
       "    <tr style=\"text-align: right;\">\n",
       "      <th></th>\n",
       "      <th>Suburb</th>\n",
       "      <th>Address</th>\n",
       "      <th>Type</th>\n",
       "      <th>Method</th>\n",
       "      <th>SellerG</th>\n",
       "      <th>Regionname</th>\n",
       "      <th>CouncilArea</th>\n",
       "      <th>Postcode</th>\n",
       "    </tr>\n",
       "  </thead>\n",
       "  <tbody>\n",
       "    <tr>\n",
       "      <th>missing_ratio</th>\n",
       "      <td>0</td>\n",
       "      <td>0</td>\n",
       "      <td>0</td>\n",
       "      <td>0</td>\n",
       "      <td>0</td>\n",
       "      <td>0</td>\n",
       "      <td>0</td>\n",
       "      <td>0</td>\n",
       "    </tr>\n",
       "    <tr>\n",
       "      <th>num_diff_vals</th>\n",
       "      <td>380</td>\n",
       "      <td>57754</td>\n",
       "      <td>3</td>\n",
       "      <td>9</td>\n",
       "      <td>476</td>\n",
       "      <td>8</td>\n",
       "      <td>34</td>\n",
       "      <td>225</td>\n",
       "    </tr>\n",
       "    <tr>\n",
       "      <th>diff_vals</th>\n",
       "      <td>[Abbotsford, Aberfeldie, Airport West, Albanva...</td>\n",
       "      <td>[49 Lithgow St, 59A Turner St, 119B Yarra St, ...</td>\n",
       "      <td>[h, t, u]</td>\n",
       "      <td>[S, SP, PI, SN, VB, PN, SA, W, SS]</td>\n",
       "      <td>[Jellis, Marshall, Nelson, Barry, hockingstuar...</td>\n",
       "      <td>[Northern Metropolitan, Western Metropolitan, ...</td>\n",
       "      <td>[Yarra City Council, Moonee Valley City Counci...</td>\n",
       "      <td>[3067, 3040, 3042, 3021, 3206, 3020, 3078, 301...</td>\n",
       "    </tr>\n",
       "  </tbody>\n",
       "</table>\n",
       "</div>"
      ],
      "text/plain": [
       "                                                          Suburb  \\\n",
       "missing_ratio                                                  0   \n",
       "num_diff_vals                                                380   \n",
       "diff_vals      [Abbotsford, Aberfeldie, Airport West, Albanva...   \n",
       "\n",
       "                                                         Address       Type  \\\n",
       "missing_ratio                                                  0          0   \n",
       "num_diff_vals                                              57754          3   \n",
       "diff_vals      [49 Lithgow St, 59A Turner St, 119B Yarra St, ...  [h, t, u]   \n",
       "\n",
       "                                           Method  \\\n",
       "missing_ratio                                   0   \n",
       "num_diff_vals                                   9   \n",
       "diff_vals      [S, SP, PI, SN, VB, PN, SA, W, SS]   \n",
       "\n",
       "                                                         SellerG  \\\n",
       "missing_ratio                                                  0   \n",
       "num_diff_vals                                                476   \n",
       "diff_vals      [Jellis, Marshall, Nelson, Barry, hockingstuar...   \n",
       "\n",
       "                                                      Regionname  \\\n",
       "missing_ratio                                                  0   \n",
       "num_diff_vals                                                  8   \n",
       "diff_vals      [Northern Metropolitan, Western Metropolitan, ...   \n",
       "\n",
       "                                                     CouncilArea  \\\n",
       "missing_ratio                                                  0   \n",
       "num_diff_vals                                                 34   \n",
       "diff_vals      [Yarra City Council, Moonee Valley City Counci...   \n",
       "\n",
       "                                                        Postcode  \n",
       "missing_ratio                                                  0  \n",
       "num_diff_vals                                                225  \n",
       "diff_vals      [3067, 3040, 3042, 3021, 3206, 3020, 3078, 301...  "
      ]
     },
     "execution_count": 15,
     "metadata": {},
     "output_type": "execute_result"
    }
   ],
   "source": [
    "cate_cols = ['Suburb', 'Address', 'Type', 'Method', 'SellerG', 'Regionname', 'CouncilArea', 'Postcode']\n",
    "def num_diff_vals(s):\n",
    "    return s.nunique()\n",
    "\n",
    "def diff_vals(s):\n",
    "    return s.unique()\n",
    "\n",
    "cate_col_profiles_df = mhm_df[cate_cols].agg([missing_ratio, num_diff_vals, diff_vals])\n",
    "\n",
    "cate_col_profiles_df"
   ]
  },
  {
   "cell_type": "markdown",
   "id": "3ead4012",
   "metadata": {},
   "source": [
    "### Làm rõ hơn ý nghĩa của cột `Suburb` và `CouncilArea`"
   ]
  },
  {
   "cell_type": "markdown",
   "id": "ccfea31d",
   "metadata": {},
   "source": [
    "Theo mô tả của file dữ liệu thì:\n",
    "- Suburb: mô tả ngoại ô, nơi mà ngôi nhà tọa lạc\n",
    "- CouncilArea: hội đồng quản lí của khu vực  \n",
    "\n",
    "Ở Úc, chính quyền địa phương là cấp hành chính thấp nhất, nằm dưới tiểu bang và liên bang. Cơ quan quyền lực nhà nước đóng trên địa phương được gọi là hội đồng. Khác với Việt Nam, mỗi phường, xã, thị trấn (đơn vị hành chính nhỏ nhất ở nước ta) đều tồn tại một Hội đồng Nhân dân, ở Úc lại không chia nhỏ ra như vậy, mỗi hội đồng bao gồm nhiều suburb,do đó mà ở Úc chỉ có 565 chính quyền địa phương mà thôi. Bây giờ trước tiên chúng ta sẽ cùng xem thử mỗi hội đồng ở trong dữ liệu này bao gồm những suburb nào"
   ]
  },
  {
   "cell_type": "code",
   "execution_count": 16,
   "id": "618ff6f5",
   "metadata": {},
   "outputs": [
    {
     "data": {
      "text/html": [
       "<div>\n",
       "<style scoped>\n",
       "    .dataframe tbody tr th:only-of-type {\n",
       "        vertical-align: middle;\n",
       "    }\n",
       "\n",
       "    .dataframe tbody tr th {\n",
       "        vertical-align: top;\n",
       "    }\n",
       "\n",
       "    .dataframe thead th {\n",
       "        text-align: right;\n",
       "    }\n",
       "</style>\n",
       "<table border=\"1\" class=\"dataframe\">\n",
       "  <thead>\n",
       "    <tr style=\"text-align: right;\">\n",
       "      <th></th>\n",
       "      <th>Suburb</th>\n",
       "    </tr>\n",
       "    <tr>\n",
       "      <th>CouncilArea</th>\n",
       "      <th></th>\n",
       "    </tr>\n",
       "  </thead>\n",
       "  <tbody>\n",
       "    <tr>\n",
       "      <th>Banyule City Council</th>\n",
       "      <td>{Briar Hill, Lower Plenty, Bellfield, Watsonia North, Ivanhoe, Viewbank, Greensborough, Heidelberg West, St Helena, viewbank, Watsonia, Macleod, Eaglemont, Heidelberg Heights, Montmorency, Ivanhoe East, Yallambie, Heidelberg, MacLeod, Bundoora, Eltham North, Eltham, Rosanna}</td>\n",
       "    </tr>\n",
       "    <tr>\n",
       "      <th>Bayside City Council</th>\n",
       "      <td>{Black Rock, Beaumaris, Hampton East, Cheltenham, Highett, Sandringham, Brighton East, Brighton, Hampton}</td>\n",
       "    </tr>\n",
       "    <tr>\n",
       "      <th>Boroondara City Council</th>\n",
       "      <td>{Hawthorn East, Ashburton, Canterbury, Camberwell, Deepdene, Surrey Hills, Mont Albert, Kew East, Kew, Hawthorn, Balwyn, Glen Iris, Balwyn North}</td>\n",
       "    </tr>\n",
       "    <tr>\n",
       "      <th>Brimbank City Council</th>\n",
       "      <td>{Derrimut, Sunshine, Sydenham, Keilor East, Hillside, Tullamarine, Sunshine North, Deer Park, St Albans, Brooklyn, Kealba, Albanvale, Ardeer, Albion, Keilor Lodge, Kings Park, Taylors Lakes, Keilor, Keilor Downs, Sunshine West, Keilor Park, Delahey, Cairnlea}</td>\n",
       "    </tr>\n",
       "    <tr>\n",
       "      <th>Cardinia Shire Council</th>\n",
       "      <td>{Beaconsfield, Beaconsfield Upper, Gembrook, Menzies Creek, Officer, Cockatoo, Pakenham, Guys Hill, Avonsleigh, Emerald}</td>\n",
       "    </tr>\n",
       "  </tbody>\n",
       "</table>\n",
       "</div>"
      ],
      "text/plain": [
       "                                                                                                                                                                                                                                                                                                      Suburb\n",
       "CouncilArea                                                                                                                                                                                                                                                                                                 \n",
       "Banyule City Council     {Briar Hill, Lower Plenty, Bellfield, Watsonia North, Ivanhoe, Viewbank, Greensborough, Heidelberg West, St Helena, viewbank, Watsonia, Macleod, Eaglemont, Heidelberg Heights, Montmorency, Ivanhoe East, Yallambie, Heidelberg, MacLeod, Bundoora, Eltham North, Eltham, Rosanna}\n",
       "Bayside City Council                                                                                                                                                                               {Black Rock, Beaumaris, Hampton East, Cheltenham, Highett, Sandringham, Brighton East, Brighton, Hampton}\n",
       "Boroondara City Council                                                                                                                                    {Hawthorn East, Ashburton, Canterbury, Camberwell, Deepdene, Surrey Hills, Mont Albert, Kew East, Kew, Hawthorn, Balwyn, Glen Iris, Balwyn North}\n",
       "Brimbank City Council                    {Derrimut, Sunshine, Sydenham, Keilor East, Hillside, Tullamarine, Sunshine North, Deer Park, St Albans, Brooklyn, Kealba, Albanvale, Ardeer, Albion, Keilor Lodge, Kings Park, Taylors Lakes, Keilor, Keilor Downs, Sunshine West, Keilor Park, Delahey, Cairnlea}\n",
       "Cardinia Shire Council                                                                                                                                                              {Beaconsfield, Beaconsfield Upper, Gembrook, Menzies Creek, Officer, Cockatoo, Pakenham, Guys Hill, Avonsleigh, Emerald}"
      ]
     },
     "execution_count": 16,
     "metadata": {},
     "output_type": "execute_result"
    }
   ],
   "source": [
    "pd.set_option(\"display.max_colwidth\", 1000)\n",
    "su_in_ca_df = mhm_df[['Suburb', 'CouncilArea']]\n",
    "su_in_ca_df = su_in_ca_df.groupby(['CouncilArea'])['Suburb'].apply(set)\n",
    "su_in_ca_df = pd.DataFrame(su_in_ca_df)\n",
    "su_in_ca_df.head()"
   ]
  },
  {
   "cell_type": "markdown",
   "id": "3798a87f",
   "metadata": {},
   "source": [
    "Theo [wikipedia](https://vi.wikipedia.org/wiki/Ch%C3%ADnh_quy%E1%BB%81n_%C4%91%E1%BB%8Ba_ph%C6%B0%C6%A1ng_%E1%BB%9F_%C3%9Ac) mặc dù chính quyền địa phương ở Úc được phân chia khá đơn giản, nhưng một vài khu vực địa lý khá rộng và có ít dân lại không trực thuộc cấp chính quyền cơ sở nào cả. Nhiệm vụ của chính quyền địa phương ở những khu vực này thường do các tổ chức, cơ quan đặc trách ngoài chính quyền đảm nhận (như các khu nghỉ mát trên núi ở bang Victoria), hoặc do nhà chức trách tiểu bang cai quản toàn bộ. Như vậy chúng ta thử kiểm tra xem liệu có sự đụng độ suburb nào ở các chính quyền địa phương hay không "
   ]
  },
  {
   "cell_type": "code",
   "execution_count": 17,
   "id": "f6e2343c",
   "metadata": {
    "scrolled": true
   },
   "outputs": [
    {
     "data": {
      "text/plain": [
       "0"
      ]
     },
     "execution_count": 17,
     "metadata": {},
     "output_type": "execute_result"
    }
   ],
   "source": [
    "su_in_ca_df = su_in_ca_df.explode('Suburb')\n",
    "su_in_ca_df.duplicated().sum()"
   ]
  },
  {
   "cell_type": "markdown",
   "id": "e2a0b9aa",
   "metadata": {},
   "source": [
    "Như chúng ta quan sát, đã không có sự nhập nhằng nào trong việc quản lí, như vậy người dùng dễ dàng hơn trong việc làm giấy tờ nhà hay đơn giản hơn là việc đặt hàng online chẳng hạn (có thể có, vì KTX B ĐHQG là một ví dụ trong sự nhập nhằng địa chỉ 😉, nhập nhằng ở đây là theo cách hiểu của người nhập liệu, người dân, hiển nhiên trên giấy tờ quốc gia, một vùng vẫn luôn được thống nhất)"
   ]
  },
  {
   "cell_type": "markdown",
   "id": "8a757161",
   "metadata": {},
   "source": [
    "## Đưa ra câu hỏi cần trả lời"
   ]
  },
  {
   "cell_type": "markdown",
   "id": "ec0ca184",
   "metadata": {},
   "source": [
    "Sau khi khám phá và hiểu hơn về dữ liệu, ta thấy có một số câu hỏi có thể trả lời được bằng dữ liệu:\n",
    "- **Câu 1: Giá nhà (`Price`) thay đổi như thế nào nếu khoảng cách (`Distance`) thay đổi?**\n",
    "    - Trả lời được câu hỏi này sẽ giúp cho người mua biết được khoảng cách chi phối như thế nào đến giá nhà, từ đó lựa chọn mua cho hợp lí, có thể chấp nhận được mức khoảng cách nào để tối thiểu được giá nhà\n",
    "    \n",
    "    \n",
    "- **Câu 2: Đâu là top 5 nhân viên seller (`SellerG`) rao bán được nhiều nhà nhất trong mỗi năm?**\n",
    "    - Thường thì con người ta sẽ có niềm tin vào số đông nhiều hơn, do vậy mà họ cũng sẽ khá là tin rằng nhân viên nào rao bán được nhiều nhà hơn thì sẽ uy tín hơn, do đó mà việc thống kê top 5 nhân viên mỗi năm sẽ giúp cho người mua có lựa chọn phù hợp với bản thân\n",
    "    \n",
    "    \n",
    "- **Câu 3: Giá nhà trung bình của mỗi loại nhà (`Type`) tại các vùng (`Regionname`) là bao nhiêu?**\n",
    "    - Trả lời được câu hỏi này sẽ giúp người mua nhà biết được giá mỗi loại nhà ở từng vùng là bao nhiêu, từ đó có sự lựa chọn hợp lí giữa hai yếu tố vùng và loại nhà, chẳng hạn như nếu bắt buộc phải ở vùng Northern Metropolitan nhưng kinh tế eo hẹp, người mua có thể suy nghĩ về việc đổi một loại nhà rẻ hơn\n",
    "    \n",
    "    \n",
    "- **Câu 4: Trong ba năm thu thập dữ liệu, trung bình giá nhà có sự thay đổi như thế nào qua các tháng?**\n",
    "    - Trả lời được câu hỏi này sẽ giúp cho người mua biết được xu hướng thay đổi giá nhà để lựa chọn thời điểm mua cho thật hợp lí và phù hợp với giá tiền, vì trong thực tế có một số thời điểm trong năm giá nhà sẽ bị thổi lên như bong bóng và tăng rất cao"
   ]
  },
  {
   "cell_type": "markdown",
   "id": "cbe75252",
   "metadata": {},
   "source": [
    "## Tiền xử lý"
   ]
  },
  {
   "cell_type": "markdown",
   "id": "8f3f3f8b",
   "metadata": {},
   "source": [
    "Đầu tiên, thêm cột thuộc tính `Month` và `Year` vào dataframe mhm_df"
   ]
  },
  {
   "cell_type": "code",
   "execution_count": 18,
   "id": "70e88b39",
   "metadata": {},
   "outputs": [
    {
     "data": {
      "text/html": [
       "<div>\n",
       "<style scoped>\n",
       "    .dataframe tbody tr th:only-of-type {\n",
       "        vertical-align: middle;\n",
       "    }\n",
       "\n",
       "    .dataframe tbody tr th {\n",
       "        vertical-align: top;\n",
       "    }\n",
       "\n",
       "    .dataframe thead th {\n",
       "        text-align: right;\n",
       "    }\n",
       "</style>\n",
       "<table border=\"1\" class=\"dataframe\">\n",
       "  <thead>\n",
       "    <tr style=\"text-align: right;\">\n",
       "      <th></th>\n",
       "      <th>Suburb</th>\n",
       "      <th>Address</th>\n",
       "      <th>Rooms</th>\n",
       "      <th>Type</th>\n",
       "      <th>Price</th>\n",
       "      <th>Method</th>\n",
       "      <th>SellerG</th>\n",
       "      <th>Date</th>\n",
       "      <th>Postcode</th>\n",
       "      <th>Regionname</th>\n",
       "      <th>Propertycount</th>\n",
       "      <th>Distance</th>\n",
       "      <th>CouncilArea</th>\n",
       "      <th>Month</th>\n",
       "      <th>Year</th>\n",
       "    </tr>\n",
       "  </thead>\n",
       "  <tbody>\n",
       "    <tr>\n",
       "      <th>0</th>\n",
       "      <td>Abbotsford</td>\n",
       "      <td>49 Lithgow St</td>\n",
       "      <td>3</td>\n",
       "      <td>h</td>\n",
       "      <td>1,490,000</td>\n",
       "      <td>S</td>\n",
       "      <td>Jellis</td>\n",
       "      <td>2017-04-01</td>\n",
       "      <td>3067</td>\n",
       "      <td>Northern Metropolitan</td>\n",
       "      <td>4019</td>\n",
       "      <td>3</td>\n",
       "      <td>Yarra City Council</td>\n",
       "      <td>4</td>\n",
       "      <td>2017</td>\n",
       "    </tr>\n",
       "    <tr>\n",
       "      <th>1</th>\n",
       "      <td>Abbotsford</td>\n",
       "      <td>59A Turner St</td>\n",
       "      <td>3</td>\n",
       "      <td>h</td>\n",
       "      <td>1,220,000</td>\n",
       "      <td>S</td>\n",
       "      <td>Marshall</td>\n",
       "      <td>2017-04-01</td>\n",
       "      <td>3067</td>\n",
       "      <td>Northern Metropolitan</td>\n",
       "      <td>4019</td>\n",
       "      <td>3</td>\n",
       "      <td>Yarra City Council</td>\n",
       "      <td>4</td>\n",
       "      <td>2017</td>\n",
       "    </tr>\n",
       "    <tr>\n",
       "      <th>2</th>\n",
       "      <td>Abbotsford</td>\n",
       "      <td>119B Yarra St</td>\n",
       "      <td>3</td>\n",
       "      <td>h</td>\n",
       "      <td>1,420,000</td>\n",
       "      <td>S</td>\n",
       "      <td>Nelson</td>\n",
       "      <td>2017-04-01</td>\n",
       "      <td>3067</td>\n",
       "      <td>Northern Metropolitan</td>\n",
       "      <td>4019</td>\n",
       "      <td>3</td>\n",
       "      <td>Yarra City Council</td>\n",
       "      <td>4</td>\n",
       "      <td>2017</td>\n",
       "    </tr>\n",
       "    <tr>\n",
       "      <th>3</th>\n",
       "      <td>Aberfeldie</td>\n",
       "      <td>68 Vida St</td>\n",
       "      <td>3</td>\n",
       "      <td>h</td>\n",
       "      <td>1,515,000</td>\n",
       "      <td>S</td>\n",
       "      <td>Barry</td>\n",
       "      <td>2017-04-01</td>\n",
       "      <td>3040</td>\n",
       "      <td>Western Metropolitan</td>\n",
       "      <td>1543</td>\n",
       "      <td>8</td>\n",
       "      <td>Moonee Valley City Council</td>\n",
       "      <td>4</td>\n",
       "      <td>2017</td>\n",
       "    </tr>\n",
       "    <tr>\n",
       "      <th>4</th>\n",
       "      <td>Airport West</td>\n",
       "      <td>92 Clydesdale Rd</td>\n",
       "      <td>2</td>\n",
       "      <td>h</td>\n",
       "      <td>670,000</td>\n",
       "      <td>S</td>\n",
       "      <td>Nelson</td>\n",
       "      <td>2017-04-01</td>\n",
       "      <td>3042</td>\n",
       "      <td>Western Metropolitan</td>\n",
       "      <td>3464</td>\n",
       "      <td>10</td>\n",
       "      <td>Moonee Valley City Council</td>\n",
       "      <td>4</td>\n",
       "      <td>2017</td>\n",
       "    </tr>\n",
       "  </tbody>\n",
       "</table>\n",
       "</div>"
      ],
      "text/plain": [
       "         Suburb           Address  Rooms Type     Price Method   SellerG  \\\n",
       "0    Abbotsford     49 Lithgow St      3    h 1,490,000      S    Jellis   \n",
       "1    Abbotsford     59A Turner St      3    h 1,220,000      S  Marshall   \n",
       "2    Abbotsford     119B Yarra St      3    h 1,420,000      S    Nelson   \n",
       "3    Aberfeldie        68 Vida St      3    h 1,515,000      S     Barry   \n",
       "4  Airport West  92 Clydesdale Rd      2    h   670,000      S    Nelson   \n",
       "\n",
       "        Date  Postcode             Regionname  Propertycount  Distance  \\\n",
       "0 2017-04-01      3067  Northern Metropolitan           4019         3   \n",
       "1 2017-04-01      3067  Northern Metropolitan           4019         3   \n",
       "2 2017-04-01      3067  Northern Metropolitan           4019         3   \n",
       "3 2017-04-01      3040   Western Metropolitan           1543         8   \n",
       "4 2017-04-01      3042   Western Metropolitan           3464        10   \n",
       "\n",
       "                  CouncilArea  Month  Year  \n",
       "0          Yarra City Council      4  2017  \n",
       "1          Yarra City Council      4  2017  \n",
       "2          Yarra City Council      4  2017  \n",
       "3  Moonee Valley City Council      4  2017  \n",
       "4  Moonee Valley City Council      4  2017  "
      ]
     },
     "execution_count": 18,
     "metadata": {},
     "output_type": "execute_result"
    }
   ],
   "source": [
    "mhm_df['Month'] = mhm_df['Date'].dt.month\n",
    "mhm_df['Year'] = mhm_df['Date'].dt.year\n",
    "mhm_df.head()"
   ]
  },
  {
   "cell_type": "markdown",
   "id": "a9fb3d10",
   "metadata": {},
   "source": [
    "## Phân tích dữ liệu để trả lời câu hỏi"
   ]
  },
  {
   "cell_type": "markdown",
   "id": "a36db248",
   "metadata": {},
   "source": [
    "### Câu 1: Giá nhà thay đổi như thế nào khi khoảng cách thay đổi?"
   ]
  },
  {
   "cell_type": "markdown",
   "id": "71c7bc39",
   "metadata": {},
   "source": [
    "Để trả lời được câu hỏi này chúng ta cần thực hiện như sau:\n",
    "- Tạo dataframe distance_price_df từ mhm_df với hai cột `Price` và `Distance`\n",
    "- Vì khoảng cách có tới 180 giá trị riêng biệt, đồng thời nhiều khoảng cách lại mang ý nghĩa khá tương đồng nhau, chẳng hạn 10 km với 10,1 km sẽ không có gì thay đổi nhiều trong suy nghĩ của người mua nhà, do đó chúng ta tiến hành chia bin cho khoảng cách, với độ rộng mỗi bin là 3 (3 là ngưỡng mà nhóm đặt ra, xem như là ngưỡng có thể chấp nhận được khi khoảng cách thay đổi), dùng hàm cut trong pandas để phân đoạn và xếp từng giá trị `Price` vào cột mới `Bins`\n",
    "- Tính trung bình giá nhà theo từng `Bins`\n",
    "- Để vẽ được biểu đồ ta cần thêm cột `Bins_average` là giá trị trung bình của biên trái và biên phải của mỗi bin, nhằm đại diện cho bin đó, vì cột `Bins` hiện tại đang ở dạng categorical\n",
    "- Vẽ biểu đồ đường để xem sự thay đổi của giá nhà khi khoảng cách thay đổi, trục hoành là giá trị trong `Bins_average` đặt tên lại là 'Distance', trục tung là `Price`"
   ]
  },
  {
   "cell_type": "code",
   "execution_count": 19,
   "id": "eaf41a16",
   "metadata": {},
   "outputs": [
    {
     "data": {
      "text/html": [
       "<div>\n",
       "<style scoped>\n",
       "    .dataframe tbody tr th:only-of-type {\n",
       "        vertical-align: middle;\n",
       "    }\n",
       "\n",
       "    .dataframe tbody tr th {\n",
       "        vertical-align: top;\n",
       "    }\n",
       "\n",
       "    .dataframe thead th {\n",
       "        text-align: right;\n",
       "    }\n",
       "</style>\n",
       "<table border=\"1\" class=\"dataframe\">\n",
       "  <thead>\n",
       "    <tr style=\"text-align: right;\">\n",
       "      <th></th>\n",
       "      <th>Price</th>\n",
       "      <th>Distance</th>\n",
       "    </tr>\n",
       "  </thead>\n",
       "  <tbody>\n",
       "    <tr>\n",
       "      <th>0</th>\n",
       "      <td>1,490,000</td>\n",
       "      <td>3</td>\n",
       "    </tr>\n",
       "    <tr>\n",
       "      <th>1</th>\n",
       "      <td>1,220,000</td>\n",
       "      <td>3</td>\n",
       "    </tr>\n",
       "    <tr>\n",
       "      <th>2</th>\n",
       "      <td>1,420,000</td>\n",
       "      <td>3</td>\n",
       "    </tr>\n",
       "    <tr>\n",
       "      <th>3</th>\n",
       "      <td>1,515,000</td>\n",
       "      <td>8</td>\n",
       "    </tr>\n",
       "    <tr>\n",
       "      <th>4</th>\n",
       "      <td>670,000</td>\n",
       "      <td>10</td>\n",
       "    </tr>\n",
       "  </tbody>\n",
       "</table>\n",
       "</div>"
      ],
      "text/plain": [
       "      Price  Distance\n",
       "0 1,490,000         3\n",
       "1 1,220,000         3\n",
       "2 1,420,000         3\n",
       "3 1,515,000         8\n",
       "4   670,000        10"
      ]
     },
     "execution_count": 19,
     "metadata": {},
     "output_type": "execute_result"
    }
   ],
   "source": [
    "distance_price_df = mhm_df[['Price', 'Distance']]\n",
    "distance_price_df.head()"
   ]
  },
  {
   "cell_type": "code",
   "execution_count": 20,
   "id": "39fc6a58",
   "metadata": {},
   "outputs": [
    {
     "data": {
      "text/plain": [
       "array([ 0.,  3.,  6.,  9., 12., 15., 18., 21., 24., 27., 30., 33., 36.,\n",
       "       39., 42., 45., 48., 51., 54., 57., 60., 63., 66.])"
      ]
     },
     "execution_count": 20,
     "metadata": {},
     "output_type": "execute_result"
    }
   ],
   "source": [
    "bins = np.arange(0, distance_price_df['Distance'].max() + 3, 3)\n",
    "bins"
   ]
  },
  {
   "cell_type": "code",
   "execution_count": 21,
   "id": "d6fd22ed",
   "metadata": {},
   "outputs": [
    {
     "data": {
      "text/html": [
       "<div>\n",
       "<style scoped>\n",
       "    .dataframe tbody tr th:only-of-type {\n",
       "        vertical-align: middle;\n",
       "    }\n",
       "\n",
       "    .dataframe tbody tr th {\n",
       "        vertical-align: top;\n",
       "    }\n",
       "\n",
       "    .dataframe thead th {\n",
       "        text-align: right;\n",
       "    }\n",
       "</style>\n",
       "<table border=\"1\" class=\"dataframe\">\n",
       "  <thead>\n",
       "    <tr style=\"text-align: right;\">\n",
       "      <th></th>\n",
       "      <th>Price</th>\n",
       "      <th>Distance</th>\n",
       "      <th>Bins</th>\n",
       "    </tr>\n",
       "  </thead>\n",
       "  <tbody>\n",
       "    <tr>\n",
       "      <th>0</th>\n",
       "      <td>1,490,000</td>\n",
       "      <td>3</td>\n",
       "      <td>(0.0, 3.0]</td>\n",
       "    </tr>\n",
       "    <tr>\n",
       "      <th>1</th>\n",
       "      <td>1,220,000</td>\n",
       "      <td>3</td>\n",
       "      <td>(0.0, 3.0]</td>\n",
       "    </tr>\n",
       "    <tr>\n",
       "      <th>2</th>\n",
       "      <td>1,420,000</td>\n",
       "      <td>3</td>\n",
       "      <td>(0.0, 3.0]</td>\n",
       "    </tr>\n",
       "    <tr>\n",
       "      <th>3</th>\n",
       "      <td>1,515,000</td>\n",
       "      <td>8</td>\n",
       "      <td>(6.0, 9.0]</td>\n",
       "    </tr>\n",
       "    <tr>\n",
       "      <th>4</th>\n",
       "      <td>670,000</td>\n",
       "      <td>10</td>\n",
       "      <td>(9.0, 12.0]</td>\n",
       "    </tr>\n",
       "  </tbody>\n",
       "</table>\n",
       "</div>"
      ],
      "text/plain": [
       "      Price  Distance         Bins\n",
       "0 1,490,000         3   (0.0, 3.0]\n",
       "1 1,220,000         3   (0.0, 3.0]\n",
       "2 1,420,000         3   (0.0, 3.0]\n",
       "3 1,515,000         8   (6.0, 9.0]\n",
       "4   670,000        10  (9.0, 12.0]"
      ]
     },
     "execution_count": 21,
     "metadata": {},
     "output_type": "execute_result"
    }
   ],
   "source": [
    "distance_price_df['Bins'] = pd.cut(distance_price_df['Distance'], bins)\n",
    "distance_price_df.head()"
   ]
  },
  {
   "cell_type": "code",
   "execution_count": 22,
   "id": "4f8897c3",
   "metadata": {},
   "outputs": [
    {
     "data": {
      "text/html": [
       "<div>\n",
       "<style scoped>\n",
       "    .dataframe tbody tr th:only-of-type {\n",
       "        vertical-align: middle;\n",
       "    }\n",
       "\n",
       "    .dataframe tbody tr th {\n",
       "        vertical-align: top;\n",
       "    }\n",
       "\n",
       "    .dataframe thead th {\n",
       "        text-align: right;\n",
       "    }\n",
       "</style>\n",
       "<table border=\"1\" class=\"dataframe\">\n",
       "  <thead>\n",
       "    <tr style=\"text-align: right;\">\n",
       "      <th></th>\n",
       "      <th>Price</th>\n",
       "    </tr>\n",
       "    <tr>\n",
       "      <th>Bins</th>\n",
       "      <th></th>\n",
       "    </tr>\n",
       "  </thead>\n",
       "  <tbody>\n",
       "    <tr>\n",
       "      <th>(0.0, 3.0]</th>\n",
       "      <td>1,167,598</td>\n",
       "    </tr>\n",
       "    <tr>\n",
       "      <th>(3.0, 6.0]</th>\n",
       "      <td>1,151,683</td>\n",
       "    </tr>\n",
       "    <tr>\n",
       "      <th>(6.0, 9.0]</th>\n",
       "      <td>1,153,413</td>\n",
       "    </tr>\n",
       "    <tr>\n",
       "      <th>(9.0, 12.0]</th>\n",
       "      <td>1,069,961</td>\n",
       "    </tr>\n",
       "    <tr>\n",
       "      <th>(12.0, 15.0]</th>\n",
       "      <td>942,017</td>\n",
       "    </tr>\n",
       "  </tbody>\n",
       "</table>\n",
       "</div>"
      ],
      "text/plain": [
       "                 Price\n",
       "Bins                  \n",
       "(0.0, 3.0]   1,167,598\n",
       "(3.0, 6.0]   1,151,683\n",
       "(6.0, 9.0]   1,153,413\n",
       "(9.0, 12.0]  1,069,961\n",
       "(12.0, 15.0]   942,017"
      ]
     },
     "execution_count": 22,
     "metadata": {},
     "output_type": "execute_result"
    }
   ],
   "source": [
    "distance_price_df = pd.DataFrame(distance_price_df.groupby(['Bins'])['Price'].mean())\n",
    "distance_price_df.head()"
   ]
  },
  {
   "cell_type": "code",
   "execution_count": 23,
   "id": "21c3b0aa",
   "metadata": {},
   "outputs": [
    {
     "data": {
      "text/html": [
       "<div>\n",
       "<style scoped>\n",
       "    .dataframe tbody tr th:only-of-type {\n",
       "        vertical-align: middle;\n",
       "    }\n",
       "\n",
       "    .dataframe tbody tr th {\n",
       "        vertical-align: top;\n",
       "    }\n",
       "\n",
       "    .dataframe thead th {\n",
       "        text-align: right;\n",
       "    }\n",
       "</style>\n",
       "<table border=\"1\" class=\"dataframe\">\n",
       "  <thead>\n",
       "    <tr style=\"text-align: right;\">\n",
       "      <th></th>\n",
       "      <th>Price</th>\n",
       "      <th>Bins_average</th>\n",
       "    </tr>\n",
       "    <tr>\n",
       "      <th>Bins</th>\n",
       "      <th></th>\n",
       "      <th></th>\n",
       "    </tr>\n",
       "  </thead>\n",
       "  <tbody>\n",
       "    <tr>\n",
       "      <th>(0.0, 3.0]</th>\n",
       "      <td>1,167,598.32</td>\n",
       "      <td>1.50</td>\n",
       "    </tr>\n",
       "    <tr>\n",
       "      <th>(3.0, 6.0]</th>\n",
       "      <td>1,151,683.35</td>\n",
       "      <td>4.50</td>\n",
       "    </tr>\n",
       "    <tr>\n",
       "      <th>(6.0, 9.0]</th>\n",
       "      <td>1,153,412.62</td>\n",
       "      <td>7.50</td>\n",
       "    </tr>\n",
       "    <tr>\n",
       "      <th>(9.0, 12.0]</th>\n",
       "      <td>1,069,961.42</td>\n",
       "      <td>10.50</td>\n",
       "    </tr>\n",
       "    <tr>\n",
       "      <th>(12.0, 15.0]</th>\n",
       "      <td>942,016.53</td>\n",
       "      <td>13.50</td>\n",
       "    </tr>\n",
       "  </tbody>\n",
       "</table>\n",
       "</div>"
      ],
      "text/plain": [
       "                    Price  Bins_average\n",
       "Bins                                   \n",
       "(0.0, 3.0]   1,167,598.32          1.50\n",
       "(3.0, 6.0]   1,151,683.35          4.50\n",
       "(6.0, 9.0]   1,153,412.62          7.50\n",
       "(9.0, 12.0]  1,069,961.42         10.50\n",
       "(12.0, 15.0]   942,016.53         13.50"
      ]
     },
     "execution_count": 23,
     "metadata": {},
     "output_type": "execute_result"
    }
   ],
   "source": [
    "pd.options.display.float_format = '{:,.2f}'.format\n",
    "distance_price_df['Bins_average'] = np.arange(1.5, 66, step=3.0)\n",
    "distance_price_df.head()"
   ]
  },
  {
   "cell_type": "code",
   "execution_count": 24,
   "id": "7a7b78dd",
   "metadata": {},
   "outputs": [
    {
     "data": {
      "text/html": [
       "<div>\n",
       "<style scoped>\n",
       "    .dataframe tbody tr th:only-of-type {\n",
       "        vertical-align: middle;\n",
       "    }\n",
       "\n",
       "    .dataframe tbody tr th {\n",
       "        vertical-align: top;\n",
       "    }\n",
       "\n",
       "    .dataframe thead th {\n",
       "        text-align: right;\n",
       "    }\n",
       "</style>\n",
       "<table border=\"1\" class=\"dataframe\">\n",
       "  <thead>\n",
       "    <tr style=\"text-align: right;\">\n",
       "      <th></th>\n",
       "      <th>Price</th>\n",
       "    </tr>\n",
       "    <tr>\n",
       "      <th>Bins_average</th>\n",
       "      <th></th>\n",
       "    </tr>\n",
       "  </thead>\n",
       "  <tbody>\n",
       "    <tr>\n",
       "      <th>1.50</th>\n",
       "      <td>1,167,598.32</td>\n",
       "    </tr>\n",
       "    <tr>\n",
       "      <th>4.50</th>\n",
       "      <td>1,151,683.35</td>\n",
       "    </tr>\n",
       "    <tr>\n",
       "      <th>7.50</th>\n",
       "      <td>1,153,412.62</td>\n",
       "    </tr>\n",
       "    <tr>\n",
       "      <th>10.50</th>\n",
       "      <td>1,069,961.42</td>\n",
       "    </tr>\n",
       "    <tr>\n",
       "      <th>13.50</th>\n",
       "      <td>942,016.53</td>\n",
       "    </tr>\n",
       "    <tr>\n",
       "      <th>16.50</th>\n",
       "      <td>944,713.42</td>\n",
       "    </tr>\n",
       "    <tr>\n",
       "      <th>19.50</th>\n",
       "      <td>680,408.95</td>\n",
       "    </tr>\n",
       "    <tr>\n",
       "      <th>22.50</th>\n",
       "      <td>878,982.81</td>\n",
       "    </tr>\n",
       "    <tr>\n",
       "      <th>25.50</th>\n",
       "      <td>705,164.78</td>\n",
       "    </tr>\n",
       "    <tr>\n",
       "      <th>28.50</th>\n",
       "      <td>520,098.19</td>\n",
       "    </tr>\n",
       "    <tr>\n",
       "      <th>31.50</th>\n",
       "      <td>555,342.76</td>\n",
       "    </tr>\n",
       "    <tr>\n",
       "      <th>34.50</th>\n",
       "      <td>649,532.26</td>\n",
       "    </tr>\n",
       "    <tr>\n",
       "      <th>37.50</th>\n",
       "      <td>693,155.25</td>\n",
       "    </tr>\n",
       "    <tr>\n",
       "      <th>40.50</th>\n",
       "      <td>591,279.41</td>\n",
       "    </tr>\n",
       "    <tr>\n",
       "      <th>43.50</th>\n",
       "      <td>541,076.92</td>\n",
       "    </tr>\n",
       "    <tr>\n",
       "      <th>46.50</th>\n",
       "      <td>692,276.09</td>\n",
       "    </tr>\n",
       "    <tr>\n",
       "      <th>49.50</th>\n",
       "      <td>712,321.43</td>\n",
       "    </tr>\n",
       "    <tr>\n",
       "      <th>52.50</th>\n",
       "      <td>NaN</td>\n",
       "    </tr>\n",
       "    <tr>\n",
       "      <th>55.50</th>\n",
       "      <td>450,000.00</td>\n",
       "    </tr>\n",
       "    <tr>\n",
       "      <th>58.50</th>\n",
       "      <td>NaN</td>\n",
       "    </tr>\n",
       "    <tr>\n",
       "      <th>61.50</th>\n",
       "      <td>NaN</td>\n",
       "    </tr>\n",
       "    <tr>\n",
       "      <th>64.50</th>\n",
       "      <td>NaN</td>\n",
       "    </tr>\n",
       "  </tbody>\n",
       "</table>\n",
       "</div>"
      ],
      "text/plain": [
       "                    Price\n",
       "Bins_average             \n",
       "1.50         1,167,598.32\n",
       "4.50         1,151,683.35\n",
       "7.50         1,153,412.62\n",
       "10.50        1,069,961.42\n",
       "13.50          942,016.53\n",
       "16.50          944,713.42\n",
       "19.50          680,408.95\n",
       "22.50          878,982.81\n",
       "25.50          705,164.78\n",
       "28.50          520,098.19\n",
       "31.50          555,342.76\n",
       "34.50          649,532.26\n",
       "37.50          693,155.25\n",
       "40.50          591,279.41\n",
       "43.50          541,076.92\n",
       "46.50          692,276.09\n",
       "49.50          712,321.43\n",
       "52.50                 NaN\n",
       "55.50          450,000.00\n",
       "58.50                 NaN\n",
       "61.50                 NaN\n",
       "64.50                 NaN"
      ]
     },
     "execution_count": 24,
     "metadata": {},
     "output_type": "execute_result"
    }
   ],
   "source": [
    "tmp = distance_price_df[['Bins_average', 'Price']]\n",
    "tmp = tmp.set_index('Bins_average')\n",
    "tmp"
   ]
  },
  {
   "cell_type": "code",
   "execution_count": 25,
   "id": "fa90e4cf",
   "metadata": {},
   "outputs": [
    {
     "data": {
      "image/png": "[encoded data removed]",
      "text/plain": [
       "<Figure size 432x288 with 1 Axes>"
      ]
     },
     "metadata": {
      "needs_background": "light"
     },
     "output_type": "display_data"
    }
   ],
   "source": [
    "plt.plot(tmp, marker='o')\n",
    "plt.xlabel('Distance')\n",
    "plt.ylabel('Price');"
   ]
  },
  {
   "cell_type": "markdown",
   "id": "0f94afb7",
   "metadata": {},
   "source": [
    "Như vậy nhìn qua biểu đồ chúng ta có thể nhận thấy một xu hướng chung đó là khoảng cách càng xa thì giá nhà càng giảm, một số ngoại lệ thì có lẽ do nhiều yếu tố khác chi phối. Biểu đồ sẽ tồn tại những điểm không có đoạn nối đó là do khi chia bin có một số khoảng cách không có, hoặc là do theo như file mô tả khoảng cách trong bin đó thì giá nhà không được công khai"
   ]
  },
  {
   "cell_type": "markdown",
   "id": "38816295",
   "metadata": {},
   "source": [
    "### Câu 2: Đâu là top 5 nhân viên seller rao bán được nhiều nhà nhất trong mỗi năm?"
   ]
  },
  {
   "cell_type": "markdown",
   "id": "317ec6b4",
   "metadata": {},
   "source": [
    "Để trả lời được câu hỏi này, chúng ta cần thực hiện như sau:\n",
    "- Tạo dataframe seller_df với ba cột `Year`, `SellerG` và `Count`, trong đó cột `Count` là số lượng nhà được rao bán của mỗi nhân viên trong mỗi năm\n",
    "- Tạo dataframe top5_seller_df lấy top 5 nhân viên rao bán được nhiều nhà nhất trong mỗi năm"
   ]
  },
  {
   "cell_type": "code",
   "execution_count": 26,
   "id": "4415ef21",
   "metadata": {},
   "outputs": [
    {
     "data": {
      "text/html": [
       "<div>\n",
       "<style scoped>\n",
       "    .dataframe tbody tr th:only-of-type {\n",
       "        vertical-align: middle;\n",
       "    }\n",
       "\n",
       "    .dataframe tbody tr th {\n",
       "        vertical-align: top;\n",
       "    }\n",
       "\n",
       "    .dataframe thead th {\n",
       "        text-align: right;\n",
       "    }\n",
       "</style>\n",
       "<table border=\"1\" class=\"dataframe\">\n",
       "  <thead>\n",
       "    <tr style=\"text-align: right;\">\n",
       "      <th></th>\n",
       "      <th></th>\n",
       "      <th>Count</th>\n",
       "    </tr>\n",
       "    <tr>\n",
       "      <th>Year</th>\n",
       "      <th>SellerG</th>\n",
       "      <th></th>\n",
       "    </tr>\n",
       "  </thead>\n",
       "  <tbody>\n",
       "    <tr>\n",
       "      <th rowspan=\"5\" valign=\"top\">2016</th>\n",
       "      <th>@Realty</th>\n",
       "      <td>3</td>\n",
       "    </tr>\n",
       "    <tr>\n",
       "      <th>ASL</th>\n",
       "      <td>6</td>\n",
       "    </tr>\n",
       "    <tr>\n",
       "      <th>Abercromby's</th>\n",
       "      <td>19</td>\n",
       "    </tr>\n",
       "    <tr>\n",
       "      <th>Abley</th>\n",
       "      <td>3</td>\n",
       "    </tr>\n",
       "    <tr>\n",
       "      <th>Airport</th>\n",
       "      <td>1</td>\n",
       "    </tr>\n",
       "    <tr>\n",
       "      <th>...</th>\n",
       "      <th>...</th>\n",
       "      <td>...</td>\n",
       "    </tr>\n",
       "    <tr>\n",
       "      <th rowspan=\"5\" valign=\"top\">2018</th>\n",
       "      <th>hockingstuart/hockingstuart</th>\n",
       "      <td>4</td>\n",
       "    </tr>\n",
       "    <tr>\n",
       "      <th>iHomes</th>\n",
       "      <td>2</td>\n",
       "    </tr>\n",
       "    <tr>\n",
       "      <th>iSell</th>\n",
       "      <td>26</td>\n",
       "    </tr>\n",
       "    <tr>\n",
       "      <th>iTRAK</th>\n",
       "      <td>18</td>\n",
       "    </tr>\n",
       "    <tr>\n",
       "      <th>voglwalpole</th>\n",
       "      <td>4</td>\n",
       "    </tr>\n",
       "  </tbody>\n",
       "</table>\n",
       "<p>957 rows × 1 columns</p>\n",
       "</div>"
      ],
      "text/plain": [
       "                                  Count\n",
       "Year SellerG                           \n",
       "2016 @Realty                          3\n",
       "     ASL                              6\n",
       "     Abercromby's                    19\n",
       "     Abley                            3\n",
       "     Airport                          1\n",
       "...                                 ...\n",
       "2018 hockingstuart/hockingstuart      4\n",
       "     iHomes                           2\n",
       "     iSell                           26\n",
       "     iTRAK                           18\n",
       "     voglwalpole                      4\n",
       "\n",
       "[957 rows x 1 columns]"
      ]
     },
     "execution_count": 26,
     "metadata": {},
     "output_type": "execute_result"
    }
   ],
   "source": [
    "seller_df = mhm_df[['Year', 'SellerG']]\n",
    "seller_df = pd.DataFrame(seller_df.groupby(['Year', 'SellerG']).size())\n",
    "seller_df.columns = ['Count']\n",
    "seller_df"
   ]
  },
  {
   "cell_type": "code",
   "execution_count": 27,
   "id": "444b6edc",
   "metadata": {},
   "outputs": [
    {
     "data": {
      "text/html": [
       "<div>\n",
       "<style scoped>\n",
       "    .dataframe tbody tr th:only-of-type {\n",
       "        vertical-align: middle;\n",
       "    }\n",
       "\n",
       "    .dataframe tbody tr th {\n",
       "        vertical-align: top;\n",
       "    }\n",
       "\n",
       "    .dataframe thead th {\n",
       "        text-align: right;\n",
       "    }\n",
       "</style>\n",
       "<table border=\"1\" class=\"dataframe\">\n",
       "  <thead>\n",
       "    <tr style=\"text-align: right;\">\n",
       "      <th></th>\n",
       "      <th></th>\n",
       "      <th>Count</th>\n",
       "    </tr>\n",
       "    <tr>\n",
       "      <th>Year</th>\n",
       "      <th>SellerG</th>\n",
       "      <th></th>\n",
       "    </tr>\n",
       "  </thead>\n",
       "  <tbody>\n",
       "    <tr>\n",
       "      <th rowspan=\"5\" valign=\"top\">2016</th>\n",
       "      <th>Barry</th>\n",
       "      <td>2012</td>\n",
       "    </tr>\n",
       "    <tr>\n",
       "      <th>Jellis</th>\n",
       "      <td>1361</td>\n",
       "    </tr>\n",
       "    <tr>\n",
       "      <th>hockingstuart</th>\n",
       "      <td>1352</td>\n",
       "    </tr>\n",
       "    <tr>\n",
       "      <th>Nelson</th>\n",
       "      <td>1290</td>\n",
       "    </tr>\n",
       "    <tr>\n",
       "      <th>Ray</th>\n",
       "      <td>1268</td>\n",
       "    </tr>\n",
       "    <tr>\n",
       "      <th rowspan=\"5\" valign=\"top\">2017</th>\n",
       "      <th>Barry</th>\n",
       "      <td>2854</td>\n",
       "    </tr>\n",
       "    <tr>\n",
       "      <th>Jellis</th>\n",
       "      <td>2130</td>\n",
       "    </tr>\n",
       "    <tr>\n",
       "      <th>Nelson</th>\n",
       "      <td>1898</td>\n",
       "    </tr>\n",
       "    <tr>\n",
       "      <th>Ray</th>\n",
       "      <td>1841</td>\n",
       "    </tr>\n",
       "    <tr>\n",
       "      <th>hockingstuart</th>\n",
       "      <td>1830</td>\n",
       "    </tr>\n",
       "    <tr>\n",
       "      <th rowspan=\"5\" valign=\"top\">2018</th>\n",
       "      <th>Barry</th>\n",
       "      <td>2028</td>\n",
       "    </tr>\n",
       "    <tr>\n",
       "      <th>Jellis</th>\n",
       "      <td>2007</td>\n",
       "    </tr>\n",
       "    <tr>\n",
       "      <th>Nelson</th>\n",
       "      <td>1551</td>\n",
       "    </tr>\n",
       "    <tr>\n",
       "      <th>Ray</th>\n",
       "      <td>1445</td>\n",
       "    </tr>\n",
       "    <tr>\n",
       "      <th>hockingstuart</th>\n",
       "      <td>1150</td>\n",
       "    </tr>\n",
       "  </tbody>\n",
       "</table>\n",
       "</div>"
      ],
      "text/plain": [
       "                    Count\n",
       "Year SellerG             \n",
       "2016 Barry           2012\n",
       "     Jellis          1361\n",
       "     hockingstuart   1352\n",
       "     Nelson          1290\n",
       "     Ray             1268\n",
       "2017 Barry           2854\n",
       "     Jellis          2130\n",
       "     Nelson          1898\n",
       "     Ray             1841\n",
       "     hockingstuart   1830\n",
       "2018 Barry           2028\n",
       "     Jellis          2007\n",
       "     Nelson          1551\n",
       "     Ray             1445\n",
       "     hockingstuart   1150"
      ]
     },
     "execution_count": 27,
     "metadata": {},
     "output_type": "execute_result"
    }
   ],
   "source": [
    "top5_seller = seller_df['Count'].groupby('Year', group_keys=False)\n",
    "top5_seller_df = pd.DataFrame(top5_seller.nlargest(5))\n",
    "top5_seller_df"
   ]
  },
  {
   "cell_type": "markdown",
   "id": "a3504515",
   "metadata": {},
   "source": [
    "Theo như quan sát trên `top5_seller_df` thì Barry là nhân viên rao bán nhiều nhà nhất trong ba năm liên tiếp, có lẽ người mua nên suy nghĩ mua nhà do nhân viên này giới thiệu 😉"
   ]
  },
  {
   "cell_type": "markdown",
   "id": "8e49b0ad",
   "metadata": {},
   "source": [
    "### Câu 3: Giá nhà trung bình của mỗi loại nhà (`Type`) tại các vùng (`Regionname`) là bao nhiêu?"
   ]
  },
  {
   "cell_type": "markdown",
   "id": "03e67c08",
   "metadata": {},
   "source": [
    "Để trả lời câu hỏi này chúng ta cần làm như sau:\n",
    "- Tính giá trung bình của mỗi loại nhà tại mỗi vùng, lưu vào dataframe type_region_df, dataframe này là multiIndex với level thứ nhất là loại nhà, level thứ 2 là vùng\n",
    "- Vẽ biểu đồ cột nhóm, mỗi nhóm biểu thị cho một loại nhà, mỗi cột trong nhóm biểu thị cho một vùng, trục hoành là loại nhà, trục tung là giá của nhà"
   ]
  },
  {
   "cell_type": "code",
   "execution_count": 28,
   "id": "8e4cbf9f",
   "metadata": {},
   "outputs": [
    {
     "data": {
      "text/html": [
       "<div>\n",
       "<style scoped>\n",
       "    .dataframe tbody tr th:only-of-type {\n",
       "        vertical-align: middle;\n",
       "    }\n",
       "\n",
       "    .dataframe tbody tr th {\n",
       "        vertical-align: top;\n",
       "    }\n",
       "\n",
       "    .dataframe thead th {\n",
       "        text-align: right;\n",
       "    }\n",
       "</style>\n",
       "<table border=\"1\" class=\"dataframe\">\n",
       "  <thead>\n",
       "    <tr style=\"text-align: right;\">\n",
       "      <th></th>\n",
       "      <th></th>\n",
       "      <th>Price</th>\n",
       "    </tr>\n",
       "    <tr>\n",
       "      <th>Type</th>\n",
       "      <th>Regionname</th>\n",
       "      <th></th>\n",
       "    </tr>\n",
       "  </thead>\n",
       "  <tbody>\n",
       "    <tr>\n",
       "      <th rowspan=\"8\" valign=\"top\">h</th>\n",
       "      <th>Eastern Metropolitan</th>\n",
       "      <td>1,148,132.49</td>\n",
       "    </tr>\n",
       "    <tr>\n",
       "      <th>Eastern Victoria</th>\n",
       "      <td>694,976.40</td>\n",
       "    </tr>\n",
       "    <tr>\n",
       "      <th>Northern Metropolitan</th>\n",
       "      <td>905,362.38</td>\n",
       "    </tr>\n",
       "    <tr>\n",
       "      <th>Northern Victoria</th>\n",
       "      <td>644,728.35</td>\n",
       "    </tr>\n",
       "    <tr>\n",
       "      <th>South-Eastern Metropolitan</th>\n",
       "      <td>899,620.47</td>\n",
       "    </tr>\n",
       "    <tr>\n",
       "      <th>Southern Metropolitan</th>\n",
       "      <td>1,802,770.16</td>\n",
       "    </tr>\n",
       "    <tr>\n",
       "      <th>Western Metropolitan</th>\n",
       "      <td>856,747.04</td>\n",
       "    </tr>\n",
       "    <tr>\n",
       "      <th>Western Victoria</th>\n",
       "      <td>417,291.67</td>\n",
       "    </tr>\n",
       "    <tr>\n",
       "      <th rowspan=\"7\" valign=\"top\">t</th>\n",
       "      <th>Eastern Metropolitan</th>\n",
       "      <td>916,497.35</td>\n",
       "    </tr>\n",
       "    <tr>\n",
       "      <th>Eastern Victoria</th>\n",
       "      <td>565,500.00</td>\n",
       "    </tr>\n",
       "    <tr>\n",
       "      <th>Northern Metropolitan</th>\n",
       "      <td>713,080.60</td>\n",
       "    </tr>\n",
       "    <tr>\n",
       "      <th>Northern Victoria</th>\n",
       "      <td>610,000.00</td>\n",
       "    </tr>\n",
       "    <tr>\n",
       "      <th>South-Eastern Metropolitan</th>\n",
       "      <td>834,930.05</td>\n",
       "    </tr>\n",
       "    <tr>\n",
       "      <th>Southern Metropolitan</th>\n",
       "      <td>1,209,445.80</td>\n",
       "    </tr>\n",
       "    <tr>\n",
       "      <th>Western Metropolitan</th>\n",
       "      <td>720,504.57</td>\n",
       "    </tr>\n",
       "    <tr>\n",
       "      <th rowspan=\"8\" valign=\"top\">u</th>\n",
       "      <th>Eastern Metropolitan</th>\n",
       "      <td>703,788.57</td>\n",
       "    </tr>\n",
       "    <tr>\n",
       "      <th>Eastern Victoria</th>\n",
       "      <td>469,357.14</td>\n",
       "    </tr>\n",
       "    <tr>\n",
       "      <th>Northern Metropolitan</th>\n",
       "      <td>574,629.09</td>\n",
       "    </tr>\n",
       "    <tr>\n",
       "      <th>Northern Victoria</th>\n",
       "      <td>569,222.22</td>\n",
       "    </tr>\n",
       "    <tr>\n",
       "      <th>South-Eastern Metropolitan</th>\n",
       "      <td>571,837.90</td>\n",
       "    </tr>\n",
       "    <tr>\n",
       "      <th>Southern Metropolitan</th>\n",
       "      <td>694,922.36</td>\n",
       "    </tr>\n",
       "    <tr>\n",
       "      <th>Western Metropolitan</th>\n",
       "      <td>503,375.69</td>\n",
       "    </tr>\n",
       "    <tr>\n",
       "      <th>Western Victoria</th>\n",
       "      <td>297,500.00</td>\n",
       "    </tr>\n",
       "  </tbody>\n",
       "</table>\n",
       "</div>"
      ],
      "text/plain": [
       "                                       Price\n",
       "Type Regionname                             \n",
       "h    Eastern Metropolitan       1,148,132.49\n",
       "     Eastern Victoria             694,976.40\n",
       "     Northern Metropolitan        905,362.38\n",
       "     Northern Victoria            644,728.35\n",
       "     South-Eastern Metropolitan   899,620.47\n",
       "     Southern Metropolitan      1,802,770.16\n",
       "     Western Metropolitan         856,747.04\n",
       "     Western Victoria             417,291.67\n",
       "t    Eastern Metropolitan         916,497.35\n",
       "     Eastern Victoria             565,500.00\n",
       "     Northern Metropolitan        713,080.60\n",
       "     Northern Victoria            610,000.00\n",
       "     South-Eastern Metropolitan   834,930.05\n",
       "     Southern Metropolitan      1,209,445.80\n",
       "     Western Metropolitan         720,504.57\n",
       "u    Eastern Metropolitan         703,788.57\n",
       "     Eastern Victoria             469,357.14\n",
       "     Northern Metropolitan        574,629.09\n",
       "     Northern Victoria            569,222.22\n",
       "     South-Eastern Metropolitan   571,837.90\n",
       "     Southern Metropolitan        694,922.36\n",
       "     Western Metropolitan         503,375.69\n",
       "     Western Victoria             297,500.00"
      ]
     },
     "execution_count": 28,
     "metadata": {},
     "output_type": "execute_result"
    }
   ],
   "source": [
    "type_region_df = mhm_df[['Type', 'Regionname', 'Price']]\n",
    "type_region_df = type_region_df.groupby(['Type', 'Regionname']).mean()\n",
    "type_region_df"
   ]
  },
  {
   "cell_type": "code",
   "execution_count": 29,
   "id": "a0bdc21e",
   "metadata": {},
   "outputs": [
    {
     "data": {
      "image/png": "[encoded data removed]",
      "text/plain": [
       "<Figure size 720x504 with 1 Axes>"
      ]
     },
     "metadata": {
      "needs_background": "light"
     },
     "output_type": "display_data"
    }
   ],
   "source": [
    "a = type_region_df.unstack()\n",
    "plt.rcParams[\"figure.figsize\"] = (10, 7)\n",
    "a.plot(kind='bar', edgecolor='black')\n",
    "plt.xticks(rotation=0);"
   ]
  },
  {
   "cell_type": "markdown",
   "id": "b9e331c2",
   "metadata": {},
   "source": [
    "### Câu 4: Trong ba năm thu thập dữ liệu, trung bình giá nhà có sự thay đổi như thế nào qua các tháng?"
   ]
  },
  {
   "cell_type": "markdown",
   "id": "97e78b0c",
   "metadata": {},
   "source": [
    "Để trả lời cho câu hỏi này chúng ta cần làm như sau:\n",
    "- Tính dataframe price_month_df gồm có 3 cột 2016, 2017, 2018 ứng với giá nhà trung bình theo các tháng trong 3 năm và 12 dòng (1, 2, 3, ..., 12) ứng với 12 tháng\n",
    "- Vẽ một biểu đồ đường để thể hiện xu hướng, mỗi đường thể hiện cho một năm, trong đó trục hoành thể hiện cho tháng và trục tung thể hiện cho trung bình giá nhà. Khi vẽ xong các đường sẽ thấy ở một số tháng sẽ không có đường nối, lí do là bởi vì có thể tháng đó của năm đó không có dữ liệu về nhà ở trong data hoặc nguyên nhân thứ 2 là do giống như file mô tả đã nói, các nhà rao bán trong tháng đó đều bị ẩn đi giá nhà theo yêu cầu (xem lại cột `Method`)"
   ]
  },
  {
   "cell_type": "code",
   "execution_count": 30,
   "id": "31c1ed57",
   "metadata": {},
   "outputs": [
    {
     "data": {
      "text/html": [
       "<div>\n",
       "<style scoped>\n",
       "    .dataframe tbody tr th:only-of-type {\n",
       "        vertical-align: middle;\n",
       "    }\n",
       "\n",
       "    .dataframe tbody tr th {\n",
       "        vertical-align: top;\n",
       "    }\n",
       "\n",
       "    .dataframe thead tr th {\n",
       "        text-align: left;\n",
       "    }\n",
       "\n",
       "    .dataframe thead tr:last-of-type th {\n",
       "        text-align: right;\n",
       "    }\n",
       "</style>\n",
       "<table border=\"1\" class=\"dataframe\">\n",
       "  <thead>\n",
       "    <tr>\n",
       "      <th></th>\n",
       "      <th colspan=\"3\" halign=\"left\">Price</th>\n",
       "    </tr>\n",
       "    <tr>\n",
       "      <th>Year</th>\n",
       "      <th>2016</th>\n",
       "      <th>2017</th>\n",
       "      <th>2018</th>\n",
       "    </tr>\n",
       "    <tr>\n",
       "      <th>Month</th>\n",
       "      <th></th>\n",
       "      <th></th>\n",
       "      <th></th>\n",
       "    </tr>\n",
       "  </thead>\n",
       "  <tbody>\n",
       "    <tr>\n",
       "      <th>1</th>\n",
       "      <td>791,200.00</td>\n",
       "      <td>NaN</td>\n",
       "      <td>947,834.93</td>\n",
       "    </tr>\n",
       "    <tr>\n",
       "      <th>2</th>\n",
       "      <td>742,379.21</td>\n",
       "      <td>979,943.98</td>\n",
       "      <td>988,639.68</td>\n",
       "    </tr>\n",
       "    <tr>\n",
       "      <th>3</th>\n",
       "      <td>NaN</td>\n",
       "      <td>1,038,974.12</td>\n",
       "      <td>1,080,313.63</td>\n",
       "    </tr>\n",
       "    <tr>\n",
       "      <th>4</th>\n",
       "      <td>904,042.59</td>\n",
       "      <td>962,035.35</td>\n",
       "      <td>934,084.14</td>\n",
       "    </tr>\n",
       "    <tr>\n",
       "      <th>5</th>\n",
       "      <td>950,964.36</td>\n",
       "      <td>1,052,220.69</td>\n",
       "      <td>1,060,640.43</td>\n",
       "    </tr>\n",
       "    <tr>\n",
       "      <th>6</th>\n",
       "      <td>949,654.68</td>\n",
       "      <td>1,075,446.09</td>\n",
       "      <td>981,433.49</td>\n",
       "    </tr>\n",
       "    <tr>\n",
       "      <th>7</th>\n",
       "      <td>876,816.10</td>\n",
       "      <td>877,394.68</td>\n",
       "      <td>863,357.97</td>\n",
       "    </tr>\n",
       "    <tr>\n",
       "      <th>8</th>\n",
       "      <td>964,996.57</td>\n",
       "      <td>1,102,766.14</td>\n",
       "      <td>984,918.96</td>\n",
       "    </tr>\n",
       "    <tr>\n",
       "      <th>9</th>\n",
       "      <td>986,699.25</td>\n",
       "      <td>1,056,204.39</td>\n",
       "      <td>1,061,225.80</td>\n",
       "    </tr>\n",
       "    <tr>\n",
       "      <th>10</th>\n",
       "      <td>973,415.08</td>\n",
       "      <td>1,065,097.71</td>\n",
       "      <td>902,122.19</td>\n",
       "    </tr>\n",
       "    <tr>\n",
       "      <th>11</th>\n",
       "      <td>998,917.14</td>\n",
       "      <td>1,046,779.71</td>\n",
       "      <td>NaN</td>\n",
       "    </tr>\n",
       "    <tr>\n",
       "      <th>12</th>\n",
       "      <td>1,029,927.02</td>\n",
       "      <td>969,171.24</td>\n",
       "      <td>NaN</td>\n",
       "    </tr>\n",
       "  </tbody>\n",
       "</table>\n",
       "</div>"
      ],
      "text/plain": [
       "             Price                          \n",
       "Year          2016         2017         2018\n",
       "Month                                       \n",
       "1       791,200.00          NaN   947,834.93\n",
       "2       742,379.21   979,943.98   988,639.68\n",
       "3              NaN 1,038,974.12 1,080,313.63\n",
       "4       904,042.59   962,035.35   934,084.14\n",
       "5       950,964.36 1,052,220.69 1,060,640.43\n",
       "6       949,654.68 1,075,446.09   981,433.49\n",
       "7       876,816.10   877,394.68   863,357.97\n",
       "8       964,996.57 1,102,766.14   984,918.96\n",
       "9       986,699.25 1,056,204.39 1,061,225.80\n",
       "10      973,415.08 1,065,097.71   902,122.19\n",
       "11      998,917.14 1,046,779.71          NaN\n",
       "12    1,029,927.02   969,171.24          NaN"
      ]
     },
     "execution_count": 30,
     "metadata": {},
     "output_type": "execute_result"
    }
   ],
   "source": [
    "price_month_df = mhm_df[['Price', 'Month', 'Year']]\n",
    "price_month_df = price_month_df.groupby(['Year', 'Month']).mean()\n",
    "price_month_df = price_month_df.unstack(level=0)\n",
    "price_month_df"
   ]
  },
  {
   "cell_type": "code",
   "execution_count": 31,
   "id": "11d7c30c",
   "metadata": {},
   "outputs": [
    {
     "data": {
      "image/png": "[encoded data removed]",
      "text/plain": [
       "<Figure size 720x504 with 1 Axes>"
      ]
     },
     "metadata": {
      "needs_background": "light"
     },
     "output_type": "display_data"
    }
   ],
   "source": [
    "plt.plot(price_month_df, marker='o')\n",
    "plt.legend(['2016', '2017', '2018'])\n",
    "plt.xlabel('Month')\n",
    "plt.ylabel('Price');"
   ]
  }
 ],
 "metadata": {
  "kernelspec": {
   "display_name": "Python 3 (ipykernel)",
   "language": "python",
   "name": "python3"
  },
  "language_info": {
   "codemirror_mode": {
    "name": "ipython",
    "version": 3
   },
   "file_extension": ".py",
   "mimetype": "text/x-python",
   "name": "python",
   "nbconvert_exporter": "python",
   "pygments_lexer": "ipython3",
   "version": "3.8.8"
  }
 },
 "nbformat": 4,
 "nbformat_minor": 5
}
