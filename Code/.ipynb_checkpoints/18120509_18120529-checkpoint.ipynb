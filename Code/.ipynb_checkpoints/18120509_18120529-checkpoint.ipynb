{
 "cells": [
  {
   "cell_type": "markdown",
   "id": "e6980918",
   "metadata": {},
   "source": [
    "# PROJECT: MELBOURNE HOUSING MARKET\n",
    "**GIẢNG VIÊN HƯỚNG DẪN: THẦY TRẦN TRUNG KIÊN**  \n",
    "\n",
    "**THÔNG TIN NHÓM 1:**\n",
    "1. CAO VĂN PHÚC - 18120509\n",
    "2. PHAN VĂN VÕ QUYỀN - 18120529"
   ]
  },
  {
   "cell_type": "markdown",
   "id": "a1ebff93",
   "metadata": {},
   "source": [
    "## Import các thư viện cần thiết"
   ]
  },
  {
   "cell_type": "code",
   "execution_count": 1,
   "id": "4cf80896",
   "metadata": {},
   "outputs": [],
   "source": [
    "import pandas as pd\n",
    "import matplotlib.pyplot as plt\n",
    "import numpy as np"
   ]
  },
  {
   "cell_type": "markdown",
   "id": "62f3ddbc",
   "metadata": {},
   "source": [
    "## Thu thập dữ liệu"
   ]
  },
  {
   "cell_type": "markdown",
   "id": "21ff53b5",
   "metadata": {},
   "source": [
    "- Tập dữ liệu mà nhóm lựa chọn là `Melbource housing market`, tập dữ liệu này thu thập thông tin về dữ liệu nhà đất tại thành phố Melbource xinh đẹp của nước Úc, nó bao gồm các thuộc tính Address, Type of Real estate, Suburb, Method of Selling, Rooms, Price, Real Estate Agent, Date of Sale và distance từ C.B.D. Tập dữ liệu này được lấy từ trang `Kaggle` tại link sau [đây](https://www.kaggle.com/anthonypino/melbourne-housing-market), license của dữ liệu tại [đây](https://creativecommons.org/licenses/by-nc-sa/4.0/)  \n",
    "- Vì đây là dữ liệu trên `Kaggle` nên chúng ta chỉ cần đăng nhập là có thể lấy được dữ liệu này về một cách dễ dàng  \n",
    "- Tập dữ liệu này được người ta thu thập bằng các kết quả có sẵn công khai hằng tuần từ trang `Domain.com.au`\n",
    "- Trong đồ án này, nhóm xin được phép chỉ sử dụng file `MELBOURNE_HOUSE_PRICES_LESS.csv`"
   ]
  },
  {
   "cell_type": "markdown",
   "id": "2059c6a9",
   "metadata": {},
   "source": [
    "## Khám phá dữ liệu"
   ]
  },
  {
   "cell_type": "markdown",
   "id": "4e78ea9d",
   "metadata": {},
   "source": [
    "### Đọc dữ liệu từ file.csv vào DataFrame"
   ]
  },
  {
   "cell_type": "code",
   "execution_count": 2,
   "id": "617f838d",
   "metadata": {},
   "outputs": [
    {
     "data": {
      "text/html": [
       "<div>\n",
       "<style scoped>\n",
       "    .dataframe tbody tr th:only-of-type {\n",
       "        vertical-align: middle;\n",
       "    }\n",
       "\n",
       "    .dataframe tbody tr th {\n",
       "        vertical-align: top;\n",
       "    }\n",
       "\n",
       "    .dataframe thead th {\n",
       "        text-align: right;\n",
       "    }\n",
       "</style>\n",
       "<table border=\"1\" class=\"dataframe\">\n",
       "  <thead>\n",
       "    <tr style=\"text-align: right;\">\n",
       "      <th></th>\n",
       "      <th>Suburb</th>\n",
       "      <th>Address</th>\n",
       "      <th>Rooms</th>\n",
       "      <th>Type</th>\n",
       "      <th>Price</th>\n",
       "      <th>Method</th>\n",
       "      <th>SellerG</th>\n",
       "      <th>Date</th>\n",
       "      <th>Postcode</th>\n",
       "      <th>Regionname</th>\n",
       "      <th>Propertycount</th>\n",
       "      <th>Distance</th>\n",
       "      <th>CouncilArea</th>\n",
       "    </tr>\n",
       "  </thead>\n",
       "  <tbody>\n",
       "    <tr>\n",
       "      <th>36495</th>\n",
       "      <td>Highett</td>\n",
       "      <td>12 Highland Av</td>\n",
       "      <td>4</td>\n",
       "      <td>h</td>\n",
       "      <td>NaN</td>\n",
       "      <td>VB</td>\n",
       "      <td>Buxton</td>\n",
       "      <td>18/08/2018</td>\n",
       "      <td>3190</td>\n",
       "      <td>Southern Metropolitan</td>\n",
       "      <td>4794</td>\n",
       "      <td>16.0</td>\n",
       "      <td>Bayside City Council</td>\n",
       "    </tr>\n",
       "    <tr>\n",
       "      <th>48874</th>\n",
       "      <td>Aberfeldie</td>\n",
       "      <td>435 Buckley St</td>\n",
       "      <td>3</td>\n",
       "      <td>h</td>\n",
       "      <td>1210000.0</td>\n",
       "      <td>S</td>\n",
       "      <td>Nelson</td>\n",
       "      <td>24/06/2017</td>\n",
       "      <td>3040</td>\n",
       "      <td>Western Metropolitan</td>\n",
       "      <td>1543</td>\n",
       "      <td>7.5</td>\n",
       "      <td>Moonee Valley City Council</td>\n",
       "    </tr>\n",
       "    <tr>\n",
       "      <th>53572</th>\n",
       "      <td>Burnside</td>\n",
       "      <td>18 Fydler Av</td>\n",
       "      <td>3</td>\n",
       "      <td>h</td>\n",
       "      <td>580000.0</td>\n",
       "      <td>S</td>\n",
       "      <td>YPA</td>\n",
       "      <td>26/08/2017</td>\n",
       "      <td>3023</td>\n",
       "      <td>Western Metropolitan</td>\n",
       "      <td>1607</td>\n",
       "      <td>14.8</td>\n",
       "      <td>Melton City Council</td>\n",
       "    </tr>\n",
       "    <tr>\n",
       "      <th>36659</th>\n",
       "      <td>South Yarra</td>\n",
       "      <td>401/101 River St</td>\n",
       "      <td>3</td>\n",
       "      <td>u</td>\n",
       "      <td>1550000.0</td>\n",
       "      <td>S</td>\n",
       "      <td>Jellis</td>\n",
       "      <td>18/08/2018</td>\n",
       "      <td>3141</td>\n",
       "      <td>Southern Metropolitan</td>\n",
       "      <td>14887</td>\n",
       "      <td>2.7</td>\n",
       "      <td>Melbourne City Council</td>\n",
       "    </tr>\n",
       "    <tr>\n",
       "      <th>19778</th>\n",
       "      <td>Mulgrave</td>\n",
       "      <td>53 Haverbrack Dr</td>\n",
       "      <td>4</td>\n",
       "      <td>h</td>\n",
       "      <td>920000.0</td>\n",
       "      <td>PI</td>\n",
       "      <td>Barry</td>\n",
       "      <td>10/12/2016</td>\n",
       "      <td>3170</td>\n",
       "      <td>South-Eastern Metropolitan</td>\n",
       "      <td>7113</td>\n",
       "      <td>18.8</td>\n",
       "      <td>Monash City Council</td>\n",
       "    </tr>\n",
       "    <tr>\n",
       "      <th>17689</th>\n",
       "      <td>Malvern East</td>\n",
       "      <td>1445 Dandenong Rd</td>\n",
       "      <td>3</td>\n",
       "      <td>h</td>\n",
       "      <td>NaN</td>\n",
       "      <td>PI</td>\n",
       "      <td>Buxton</td>\n",
       "      <td>9/12/2017</td>\n",
       "      <td>3145</td>\n",
       "      <td>Southern Metropolitan</td>\n",
       "      <td>8801</td>\n",
       "      <td>8.4</td>\n",
       "      <td>Stonnington City Council</td>\n",
       "    </tr>\n",
       "    <tr>\n",
       "      <th>53469</th>\n",
       "      <td>Ashburton</td>\n",
       "      <td>59 Winton Rd</td>\n",
       "      <td>3</td>\n",
       "      <td>h</td>\n",
       "      <td>2550000.0</td>\n",
       "      <td>S</td>\n",
       "      <td>Marshall</td>\n",
       "      <td>26/08/2017</td>\n",
       "      <td>3147</td>\n",
       "      <td>Southern Metropolitan</td>\n",
       "      <td>3052</td>\n",
       "      <td>10.2</td>\n",
       "      <td>Boroondara City Council</td>\n",
       "    </tr>\n",
       "    <tr>\n",
       "      <th>41676</th>\n",
       "      <td>St Kilda</td>\n",
       "      <td>31 Redan St</td>\n",
       "      <td>6</td>\n",
       "      <td>h</td>\n",
       "      <td>NaN</td>\n",
       "      <td>PI</td>\n",
       "      <td>hockingstuart</td>\n",
       "      <td>21/10/2017</td>\n",
       "      <td>3182</td>\n",
       "      <td>Southern Metropolitan</td>\n",
       "      <td>13240</td>\n",
       "      <td>5.0</td>\n",
       "      <td>Port Phillip City Council</td>\n",
       "    </tr>\n",
       "    <tr>\n",
       "      <th>43550</th>\n",
       "      <td>Preston</td>\n",
       "      <td>16 Josephine Gr</td>\n",
       "      <td>2</td>\n",
       "      <td>h</td>\n",
       "      <td>1088000.0</td>\n",
       "      <td>S</td>\n",
       "      <td>Barry</td>\n",
       "      <td>22/08/2016</td>\n",
       "      <td>3072</td>\n",
       "      <td>Northern Metropolitan</td>\n",
       "      <td>14577</td>\n",
       "      <td>8.4</td>\n",
       "      <td>Darebin City Council</td>\n",
       "    </tr>\n",
       "    <tr>\n",
       "      <th>20697</th>\n",
       "      <td>Keilor Downs</td>\n",
       "      <td>2/21 Aquanita Cr</td>\n",
       "      <td>3</td>\n",
       "      <td>t</td>\n",
       "      <td>575000.0</td>\n",
       "      <td>S</td>\n",
       "      <td>Barry</td>\n",
       "      <td>11/08/2018</td>\n",
       "      <td>3038</td>\n",
       "      <td>Western Metropolitan</td>\n",
       "      <td>3656</td>\n",
       "      <td>15.5</td>\n",
       "      <td>Brimbank City Council</td>\n",
       "    </tr>\n",
       "  </tbody>\n",
       "</table>\n",
       "</div>"
      ],
      "text/plain": [
       "             Suburb            Address  Rooms Type      Price Method  \\\n",
       "36495       Highett     12 Highland Av      4    h        NaN     VB   \n",
       "48874    Aberfeldie     435 Buckley St      3    h  1210000.0      S   \n",
       "53572      Burnside       18 Fydler Av      3    h   580000.0      S   \n",
       "36659   South Yarra   401/101 River St      3    u  1550000.0      S   \n",
       "19778      Mulgrave   53 Haverbrack Dr      4    h   920000.0     PI   \n",
       "17689  Malvern East  1445 Dandenong Rd      3    h        NaN     PI   \n",
       "53469     Ashburton       59 Winton Rd      3    h  2550000.0      S   \n",
       "41676      St Kilda        31 Redan St      6    h        NaN     PI   \n",
       "43550       Preston    16 Josephine Gr      2    h  1088000.0      S   \n",
       "20697  Keilor Downs   2/21 Aquanita Cr      3    t   575000.0      S   \n",
       "\n",
       "             SellerG        Date  Postcode                  Regionname  \\\n",
       "36495         Buxton  18/08/2018      3190       Southern Metropolitan   \n",
       "48874         Nelson  24/06/2017      3040        Western Metropolitan   \n",
       "53572            YPA  26/08/2017      3023        Western Metropolitan   \n",
       "36659         Jellis  18/08/2018      3141       Southern Metropolitan   \n",
       "19778          Barry  10/12/2016      3170  South-Eastern Metropolitan   \n",
       "17689         Buxton   9/12/2017      3145       Southern Metropolitan   \n",
       "53469       Marshall  26/08/2017      3147       Southern Metropolitan   \n",
       "41676  hockingstuart  21/10/2017      3182       Southern Metropolitan   \n",
       "43550          Barry  22/08/2016      3072       Northern Metropolitan   \n",
       "20697          Barry  11/08/2018      3038        Western Metropolitan   \n",
       "\n",
       "       Propertycount  Distance                 CouncilArea  \n",
       "36495           4794      16.0        Bayside City Council  \n",
       "48874           1543       7.5  Moonee Valley City Council  \n",
       "53572           1607      14.8         Melton City Council  \n",
       "36659          14887       2.7      Melbourne City Council  \n",
       "19778           7113      18.8         Monash City Council  \n",
       "17689           8801       8.4    Stonnington City Council  \n",
       "53469           3052      10.2     Boroondara City Council  \n",
       "41676          13240       5.0   Port Phillip City Council  \n",
       "43550          14577       8.4        Darebin City Council  \n",
       "20697           3656      15.5       Brimbank City Council  "
      ]
     },
     "execution_count": 2,
     "metadata": {},
     "output_type": "execute_result"
    }
   ],
   "source": [
    "mhm_df = pd.read_csv('MELBOURNE_HOUSE_PRICES_LESS.csv')\n",
    "mhm_df.sample(10)"
   ]
  },
  {
   "cell_type": "markdown",
   "id": "fc42a3a1",
   "metadata": {},
   "source": [
    "### Dữ liệu có bao nhiêu dòng và bao nhiêu cột?"
   ]
  },
  {
   "cell_type": "markdown",
   "id": "18b1ae00",
   "metadata": {},
   "source": [
    "Số dòng, số cột sẽ lần lượt lưu vào hai biến num_rows và num_cols"
   ]
  },
  {
   "cell_type": "code",
   "execution_count": 3,
   "id": "adb77b33",
   "metadata": {},
   "outputs": [
    {
     "name": "stdout",
     "output_type": "stream",
     "text": [
      "63023 13\n"
     ]
    }
   ],
   "source": [
    "num_rows, num_cols = mhm_df.shape\n",
    "print(num_rows, num_cols)"
   ]
  },
  {
   "cell_type": "markdown",
   "id": "86f8274e",
   "metadata": {},
   "source": [
    "### Mỗi dòng có ý nghĩa gì? Có vấn đề các dòng có ý nghĩa khác nhau hay không?"
   ]
  },
  {
   "cell_type": "markdown",
   "id": "5185c065",
   "metadata": {},
   "source": [
    "Mỗi dòng cung cấp thông tin về một ngôi nhà ở Melbourne"
   ]
  },
  {
   "cell_type": "markdown",
   "id": "5d78b921",
   "metadata": {},
   "source": [
    "### Dữ liệu có các dòng bị lặp không?"
   ]
  },
  {
   "cell_type": "code",
   "execution_count": 4,
   "id": "02e43a1a",
   "metadata": {},
   "outputs": [
    {
     "data": {
      "text/plain": [
       "2"
      ]
     },
     "execution_count": 4,
     "metadata": {},
     "output_type": "execute_result"
    }
   ],
   "source": [
    "have_duplicated_rows = mhm_df.duplicated().sum()\n",
    "have_duplicated_rows"
   ]
  },
  {
   "cell_type": "markdown",
   "id": "1c77a8b2",
   "metadata": {},
   "source": [
    "### Vấn đề cần xử lý\n",
    "- Có dòng bị lặp, cần loại bỏ các dòng đó"
   ]
  },
  {
   "cell_type": "markdown",
   "id": "b5c8bf99",
   "metadata": {},
   "source": [
    "## Tiền xử lý"
   ]
  },
  {
   "cell_type": "markdown",
   "id": "8373e4de",
   "metadata": {},
   "source": [
    "### Loại bỏ dòng dữ liệu bị lặp"
   ]
  },
  {
   "cell_type": "code",
   "execution_count": 5,
   "id": "3a66a838",
   "metadata": {},
   "outputs": [
    {
     "data": {
      "text/plain": [
       "(63021, 13)"
      ]
     },
     "execution_count": 5,
     "metadata": {},
     "output_type": "execute_result"
    }
   ],
   "source": [
    "mhm_df = mhm_df.drop_duplicates()\n",
    "mhm_df.shape"
   ]
  },
  {
   "cell_type": "markdown",
   "id": "889cb463",
   "metadata": {},
   "source": [
    "Sau khi loại bỏ dòng lặp, thì mhm_df còn đúng 63021 dòng dữ liệu"
   ]
  },
  {
   "cell_type": "markdown",
   "id": "9e3bbd56",
   "metadata": {},
   "source": [
    "## Khám phá dữ liệu (tiếp tục)"
   ]
  },
  {
   "cell_type": "markdown",
   "id": "cd751a7e",
   "metadata": {},
   "source": [
    "### Mỗi cột có ý nghĩa gì?"
   ]
  },
  {
   "cell_type": "markdown",
   "id": "b25c5e79",
   "metadata": {},
   "source": [
    "Dưới đây là phần mô tả của dữ liệu trên trang `Kaggle`\n",
    "- Suburb: ngoại ô\n",
    "- Address: địa chỉ cụ thể của ngôi nhà\n",
    "- Rooms: số phòng của ngôi nhà\n",
    "- Price: giá của ngôi nhà, tính bằng đô la Úc\n",
    "- Method:\n",
    "    - S - tài sản đã bán\n",
    "    - SP - tài sản đã bán trước đó\n",
    "    - PI - tài sản được chuyển vào\n",
    "    - PN - bán trước không được tiết lộ\n",
    "    - SN - bán không được tiết lộ\n",
    "    - NB - không có giá thầu\n",
    "    - VB - giá thầu của nhà cung cấp\n",
    "    - W - thu hồi trước khi đấu giá\n",
    "    - SA - bán sau khi đấu giá\n",
    "    - SS - giá bán sau đấu giá không được tiết lộ\n",
    "    - N / A - giá hoặc giá thầu cao nhất không có sẵn\n",
    "- Type:\n",
    "    - br - phòng ngủ\n",
    "    - h - nhà, biệt thự, sân thượng\n",
    "    - u - nhà đơn, nhà hai tầng\n",
    "    - t - nhà phố\n",
    "    - dev site - nhà có vị trí phát triển\n",
    "    - o res - khu dân cư khác\n",
    "- Postcode: mã bưu điện\n",
    "- SellerG: Đại lý bất động sản\n",
    "- Date: Ngày bán\n",
    "- Distance: Khoảng cách từ CBD tính bằng Kilômét\n",
    "- RegionName: Khu vực chung (Tây, Tây Bắc, Bắc, Đông Bắc… vv)\n",
    "- Propertycount: Số lượng thuộc tính tồn tại ở vùng ngoại ô\n",
    "- CouncilArea: Hội đồng quản lý khu vực"
   ]
  },
  {
   "cell_type": "markdown",
   "id": "e0a4b933",
   "metadata": {},
   "source": [
    "### Mỗi cột hiện đang có kiểu dữ liệu gì? Có cột nào có kiểu dữ liệu chưa phù hợp để có thể xử lý tiếp không?"
   ]
  },
  {
   "cell_type": "code",
   "execution_count": 6,
   "id": "041be52b",
   "metadata": {},
   "outputs": [
    {
     "name": "stdout",
     "output_type": "stream",
     "text": [
      "<class 'pandas.core.frame.DataFrame'>\n",
      "Int64Index: 63021 entries, 0 to 63022\n",
      "Data columns (total 13 columns):\n",
      " #   Column         Non-Null Count  Dtype  \n",
      "---  ------         --------------  -----  \n",
      " 0   Suburb         63021 non-null  object \n",
      " 1   Address        63021 non-null  object \n",
      " 2   Rooms          63021 non-null  int64  \n",
      " 3   Type           63021 non-null  object \n",
      " 4   Price          48432 non-null  float64\n",
      " 5   Method         63021 non-null  object \n",
      " 6   SellerG        63021 non-null  object \n",
      " 7   Date           63021 non-null  object \n",
      " 8   Postcode       63021 non-null  int64  \n",
      " 9   Regionname     63021 non-null  object \n",
      " 10  Propertycount  63021 non-null  int64  \n",
      " 11  Distance       63021 non-null  float64\n",
      " 12  CouncilArea    63021 non-null  object \n",
      "dtypes: float64(2), int64(3), object(8)\n",
      "memory usage: 6.7+ MB\n"
     ]
    }
   ],
   "source": [
    "mhm_df.info()"
   ]
  },
  {
   "cell_type": "markdown",
   "id": "ed3f0b4a",
   "metadata": {},
   "source": [
    "Trong Pandas, kiểu dữ liệu `object` thường ám chỉ chuỗi, nhưng thật ra kiểu dữ liệu `object` có thể chứa một đối tượng bất kỳ trong Python (vì thật ra ở bên dưới kiểu dữ liệu `object` chứa địa chỉ). Nếu một cột trong dataframe có `dtype` là `object` thì có thể các phần tử trong cột này sẽ có kiểu dữ liệu khác nhau; để biết được kiểu dữ liệu thật sự của các phần tử trong cột này thì ta phải truy xuất vào từng phần tử và dùng câu lệnh `type` để xem kiểu dữ liệu. Do đó tiền hành code hàm open_object_dtype trả về tập các kiểu dữ liệu có ở trong các cột"
   ]
  },
  {
   "cell_type": "code",
   "execution_count": 7,
   "id": "37d206fa",
   "metadata": {},
   "outputs": [],
   "source": [
    "def open_object_dtype(s):\n",
    "    dtypes = set(s.map(type))\n",
    "    return dtypes"
   ]
  },
  {
   "cell_type": "code",
   "execution_count": 8,
   "id": "2f1f95c4",
   "metadata": {},
   "outputs": [
    {
     "data": {
      "text/plain": [
       "Suburb         {<class 'str'>}\n",
       "Address        {<class 'str'>}\n",
       "Type           {<class 'str'>}\n",
       "Method         {<class 'str'>}\n",
       "SellerG        {<class 'str'>}\n",
       "Date           {<class 'str'>}\n",
       "Regionname     {<class 'str'>}\n",
       "CouncilArea    {<class 'str'>}\n",
       "dtype: object"
      ]
     },
     "execution_count": 8,
     "metadata": {},
     "output_type": "execute_result"
    }
   ],
   "source": [
    "obj_cols = mhm_df.select_dtypes([\"object\"]).columns\n",
    "data = obj_cols.map(lambda x: open_object_dtype(mhm_df[x]))\n",
    "pd.Series(data=data, index = obj_cols)"
   ]
  },
  {
   "cell_type": "markdown",
   "id": "de15206f",
   "metadata": {},
   "source": [
    "**Vấn đề cần tiền xử lí:**\n",
    "- Cột `Date` đang có kiểu dữ liệu là `str`, để khám phá thêm cột này ta sẽ phải chuyển nó về dạng `datetime`"
   ]
  },
  {
   "cell_type": "markdown",
   "id": "db47efbe",
   "metadata": {},
   "source": [
    "## Tiền xử lý"
   ]
  },
  {
   "cell_type": "code",
   "execution_count": 9,
   "id": "a34dd85b",
   "metadata": {},
   "outputs": [
    {
     "data": {
      "text/plain": [
       "dtype('<M8[ns]')"
      ]
     },
     "execution_count": 9,
     "metadata": {},
     "output_type": "execute_result"
    }
   ],
   "source": [
    "mhm_df['Date'] = pd.to_datetime(mhm_df['Date'], format = '%d/%m/%Y')\n",
    "mhm_df['Date'].dtypes"
   ]
  },
  {
   "cell_type": "markdown",
   "id": "df9b6dae",
   "metadata": {},
   "source": [
    "## Khám phá dữ liệu (tiếp tục)"
   ]
  },
  {
   "cell_type": "markdown",
   "id": "b32e25db",
   "metadata": {},
   "source": [
    "### Với mỗi cột dữ liệu numeric, các giá trị được phân bố như thế nào?"
   ]
  },
  {
   "cell_type": "markdown",
   "id": "12d607cb",
   "metadata": {},
   "source": [
    "Chúng ta xếp cột `Date` vào cột dạng numeric. Như vậy có vẻ có tổng cộng 6 cột dạng numeric, đó là `Date` `Rooms`, `Price`, `Postcode`, `Propertycount` và `Distance`. Tuy nhiên cột `Postcode` thực chất là dạng categorical, vì mã bưu điện thì được đánh dưới dạng số. Vậy số cột numeric thực sự là `Date`, `Rooms`, `Price`, `Propertycount` và `Distance`  \n",
    "\n",
    "Với mỗi cột numeric, ta sẽ tính tỉ lệ phần trăm giá trị bị thiếu (từ 0 đến 100), min và max. Kết quả được lưu vào dataframe `nume-col_profiles_df`"
   ]
  },
  {
   "cell_type": "code",
   "execution_count": 10,
   "id": "9790e3cd",
   "metadata": {},
   "outputs": [
    {
     "data": {
      "text/html": [
       "<div>\n",
       "<style scoped>\n",
       "    .dataframe tbody tr th:only-of-type {\n",
       "        vertical-align: middle;\n",
       "    }\n",
       "\n",
       "    .dataframe tbody tr th {\n",
       "        vertical-align: top;\n",
       "    }\n",
       "\n",
       "    .dataframe thead th {\n",
       "        text-align: right;\n",
       "    }\n",
       "</style>\n",
       "<table border=\"1\" class=\"dataframe\">\n",
       "  <thead>\n",
       "    <tr style=\"text-align: right;\">\n",
       "      <th></th>\n",
       "      <th>Date</th>\n",
       "      <th>Rooms</th>\n",
       "      <th>Price</th>\n",
       "      <th>Propertycount</th>\n",
       "      <th>Distance</th>\n",
       "    </tr>\n",
       "  </thead>\n",
       "  <tbody>\n",
       "    <tr>\n",
       "      <th>missing_ratio</th>\n",
       "      <td>0</td>\n",
       "      <td>0</td>\n",
       "      <td>23</td>\n",
       "      <td>0</td>\n",
       "      <td>0</td>\n",
       "    </tr>\n",
       "    <tr>\n",
       "      <th>min</th>\n",
       "      <td>2016-01-28 00:00:00</td>\n",
       "      <td>1</td>\n",
       "      <td>85,000</td>\n",
       "      <td>39</td>\n",
       "      <td>0</td>\n",
       "    </tr>\n",
       "    <tr>\n",
       "      <th>max</th>\n",
       "      <td>2018-10-13 00:00:00</td>\n",
       "      <td>31</td>\n",
       "      <td>11,200,000</td>\n",
       "      <td>21,650</td>\n",
       "      <td>64</td>\n",
       "    </tr>\n",
       "  </tbody>\n",
       "</table>\n",
       "</div>"
      ],
      "text/plain": [
       "                              Date  Rooms      Price  Propertycount  Distance\n",
       "missing_ratio                    0      0         23              0         0\n",
       "min            2016-01-28 00:00:00      1     85,000             39         0\n",
       "max            2018-10-13 00:00:00     31 11,200,000         21,650        64"
      ]
     },
     "execution_count": 10,
     "metadata": {},
     "output_type": "execute_result"
    }
   ],
   "source": [
    "pd.options.display.float_format = '{:,.0f}'.format\n",
    "nume_cols = [\"Date\", \"Rooms\", \"Price\", \"Propertycount\", \"Distance\"]\n",
    "\n",
    "def missing_ratio(s):\n",
    "    return s.isnull().mean() * 100\n",
    "\n",
    "nume_col_profiles_df = mhm_df[nume_cols].agg([missing_ratio, 'min', 'max'])\n",
    "nume_col_profiles_df"
   ]
  },
  {
   "cell_type": "markdown",
   "id": "e8e3c514",
   "metadata": {},
   "source": [
    "Cột `Price` có phần trăm giá trị bị thiếu là 23%, điều này không nằm ngoài dự tính bởi lẽ như trong file mô tả có nói, cột `Method` sẽ cho chúng ta biết được phương thức bán nhà, với các phương thức \"PN\", \"SN\", ... thì giá nhà sẽ không được công khai. Do đó với các giá trị thiếu này ta sẽ không loại bỏ chúng. Với các giá trị min có lẽ không có gì bất thường. Nhưng với giá trị max chúng ta có thể thấy ngôi nhà có số phòng nhiều nhất lên đến 31 phòng, ngôi nhà có giá cao nhất lên đến 11,200,000 đô Úc (tức là khoảng 160 tỉ VND), chúng ta sẽ thử tính toán và vẽ biểu đồ xem thử các giá trị này có thực sự bất thường hay không? "
   ]
  },
  {
   "cell_type": "code",
   "execution_count": 11,
   "id": "ddbbf475",
   "metadata": {},
   "outputs": [
    {
     "data": {
      "text/html": [
       "<div>\n",
       "<style scoped>\n",
       "    .dataframe tbody tr th:only-of-type {\n",
       "        vertical-align: middle;\n",
       "    }\n",
       "\n",
       "    .dataframe tbody tr th {\n",
       "        vertical-align: top;\n",
       "    }\n",
       "\n",
       "    .dataframe thead th {\n",
       "        text-align: right;\n",
       "    }\n",
       "</style>\n",
       "<table border=\"1\" class=\"dataframe\">\n",
       "  <thead>\n",
       "    <tr style=\"text-align: right;\">\n",
       "      <th></th>\n",
       "      <th>Num of houses</th>\n",
       "    </tr>\n",
       "  </thead>\n",
       "  <tbody>\n",
       "    <tr>\n",
       "      <th>3</th>\n",
       "      <td>27949</td>\n",
       "    </tr>\n",
       "    <tr>\n",
       "      <th>4</th>\n",
       "      <td>15747</td>\n",
       "    </tr>\n",
       "    <tr>\n",
       "      <th>2</th>\n",
       "      <td>13247</td>\n",
       "    </tr>\n",
       "    <tr>\n",
       "      <th>5</th>\n",
       "      <td>3434</td>\n",
       "    </tr>\n",
       "    <tr>\n",
       "      <th>1</th>\n",
       "      <td>2111</td>\n",
       "    </tr>\n",
       "    <tr>\n",
       "      <th>6</th>\n",
       "      <td>424</td>\n",
       "    </tr>\n",
       "    <tr>\n",
       "      <th>7</th>\n",
       "      <td>61</td>\n",
       "    </tr>\n",
       "    <tr>\n",
       "      <th>8</th>\n",
       "      <td>29</td>\n",
       "    </tr>\n",
       "    <tr>\n",
       "      <th>10</th>\n",
       "      <td>7</td>\n",
       "    </tr>\n",
       "    <tr>\n",
       "      <th>9</th>\n",
       "      <td>5</td>\n",
       "    </tr>\n",
       "    <tr>\n",
       "      <th>12</th>\n",
       "      <td>4</td>\n",
       "    </tr>\n",
       "    <tr>\n",
       "      <th>11</th>\n",
       "      <td>1</td>\n",
       "    </tr>\n",
       "    <tr>\n",
       "      <th>16</th>\n",
       "      <td>1</td>\n",
       "    </tr>\n",
       "    <tr>\n",
       "      <th>31</th>\n",
       "      <td>1</td>\n",
       "    </tr>\n",
       "  </tbody>\n",
       "</table>\n",
       "</div>"
      ],
      "text/plain": [
       "    Num of houses\n",
       "3           27949\n",
       "4           15747\n",
       "2           13247\n",
       "5            3434\n",
       "1            2111\n",
       "6             424\n",
       "7              61\n",
       "8              29\n",
       "10              7\n",
       "9               5\n",
       "12              4\n",
       "11              1\n",
       "16              1\n",
       "31              1"
      ]
     },
     "execution_count": 11,
     "metadata": {},
     "output_type": "execute_result"
    }
   ],
   "source": [
    "rooms_value_counts = pd.DataFrame(mhm_df['Rooms'].value_counts())\n",
    "rooms_value_counts.columns = ['Num of houses']\n",
    "rooms_value_counts"
   ]
  },
  {
   "cell_type": "code",
   "execution_count": 12,
   "id": "e32be8d2",
   "metadata": {},
   "outputs": [
    {
     "data": {
      "image/png": "[encoded data removed]",
      "text/plain": [
       "<Figure size 432x288 with 1 Axes>"
      ]
     },
     "metadata": {
      "needs_background": "light"
     },
     "output_type": "display_data"
    }
   ],
   "source": [
    "plt.bar(rooms_value_counts.index, rooms_value_counts['Num of houses']);"
   ]
  },
  {
   "cell_type": "markdown",
   "id": "45fa8720",
   "metadata": {},
   "source": [
    "Theo quan sát thì chúng ta có thể nhận thấy rằng những ngôi nhà có nhiều hơn 7 phòng đã là rất hiếm, vì thế ngôi nhà có 31 phòng thực sự là điều kì lạ. Chúng ta không thể khẳng định chắc chắn được là liệu có hay không căn nhà với 31 phòng, hay đây là sai sót trong quá trình nhập liệu, vì thế mà ta sẽ không bỏ đi chúng, chỉ tiến hành khám phá và coi nó như một giá trị ngoại lệ"
   ]
  },
  {
   "cell_type": "code",
   "execution_count": 13,
   "id": "9d999e09",
   "metadata": {},
   "outputs": [
    {
     "data": {
      "image/png": "[encoded data removed]",
      "text/plain": [
       "<Figure size 432x288 with 1 Axes>"
      ]
     },
     "metadata": {
      "needs_background": "light"
     },
     "output_type": "display_data"
    }
   ],
   "source": [
    "plt.hist(mhm_df['Price'], edgecolor='black');"
   ]
  },
  {
   "cell_type": "code",
   "execution_count": 14,
   "id": "9a60d0a4",
   "metadata": {},
   "outputs": [
    {
     "data": {
      "text/plain": [
       "73"
      ]
     },
     "execution_count": 14,
     "metadata": {},
     "output_type": "execute_result"
    }
   ],
   "source": [
    "len(mhm_df[mhm_df['Price'] > 5000000])"
   ]
  },
  {
   "cell_type": "markdown",
   "id": "3f79c65d",
   "metadata": {},
   "source": [
    "Theo quan sát, các ngôi nhà có giá trên 5,000,000 đô la Úc thực sự chiếm tỉ lệ rất ít, tuy nhiên chúng ta cũng không thể khẳng định được liệu căn nhà có giá 11,200,000 có thật hay không hay là do sai sót trong quá trình nhập liệu, thực tế thì vẫn có các siêu biệt thự dành cho giới nhà giàu. Do đó, ta sẽ giữ lại các giá trị này, chỉ tiến hành khám phá chúng và xem như những giá trị ngoại lệ hay giá trị đặc biệt"
   ]
  },
  {
   "cell_type": "markdown",
   "id": "8dc75c72",
   "metadata": {},
   "source": [
    "### Với mỗi cột dữ liệu categorical, các giá trị được phân bố như thế nào?"
   ]
  },
  {
   "cell_type": "markdown",
   "id": "9871309d",
   "metadata": {},
   "source": [
    "mhm_df có tổng cộng 8 cột dữ liệu dạng categorical là `Suburb`, `Address`, `Type`, `Method`, `SellerG`, `Regionname`, `CouncilArea`, `Postcode`  \n",
    "\n",
    "Với mỗi cột categorical, ta tiến hành tính phần trăm giá trị bị thiếu (từ 0 đến 100), tính số lượng giá trị khác nhau, list/array các giá trị khác nhau. Kết quả sẽ được lưu vào dataframe `cate_col_profiles_df`"
   ]
  },
  {
   "cell_type": "code",
   "execution_count": 15,
   "id": "39ad0fff",
   "metadata": {},
   "outputs": [
    {
     "data": {
      "text/html": [
       "<div>\n",
       "<style scoped>\n",
       "    .dataframe tbody tr th:only-of-type {\n",
       "        vertical-align: middle;\n",
       "    }\n",
       "\n",
       "    .dataframe tbody tr th {\n",
       "        vertical-align: top;\n",
       "    }\n",
       "\n",
       "    .dataframe thead th {\n",
       "        text-align: right;\n",
       "    }\n",
       "</style>\n",
       "<table border=\"1\" class=\"dataframe\">\n",
       "  <thead>\n",
       "    <tr style=\"text-align: right;\">\n",
       "      <th></th>\n",
       "      <th>Suburb</th>\n",
       "      <th>Address</th>\n",
       "      <th>Type</th>\n",
       "      <th>Method</th>\n",
       "      <th>SellerG</th>\n",
       "      <th>Regionname</th>\n",
       "      <th>CouncilArea</th>\n",
       "      <th>Postcode</th>\n",
       "    </tr>\n",
       "  </thead>\n",
       "  <tbody>\n",
       "    <tr>\n",
       "      <th>missing_ratio</th>\n",
       "      <td>0</td>\n",
       "      <td>0</td>\n",
       "      <td>0</td>\n",
       "      <td>0</td>\n",
       "      <td>0</td>\n",
       "      <td>0</td>\n",
       "      <td>0</td>\n",
       "      <td>0</td>\n",
       "    </tr>\n",
       "    <tr>\n",
       "      <th>num_diff_vals</th>\n",
       "      <td>380</td>\n",
       "      <td>57754</td>\n",
       "      <td>3</td>\n",
       "      <td>9</td>\n",
       "      <td>476</td>\n",
       "      <td>8</td>\n",
       "      <td>34</td>\n",
       "      <td>225</td>\n",
       "    </tr>\n",
       "    <tr>\n",
       "      <th>diff_vals</th>\n",
       "      <td>[Abbotsford, Aberfeldie, Airport West, Albanva...</td>\n",
       "      <td>[49 Lithgow St, 59A Turner St, 119B Yarra St, ...</td>\n",
       "      <td>[h, t, u]</td>\n",
       "      <td>[S, SP, PI, SN, VB, PN, SA, W, SS]</td>\n",
       "      <td>[Jellis, Marshall, Nelson, Barry, hockingstuar...</td>\n",
       "      <td>[Northern Metropolitan, Western Metropolitan, ...</td>\n",
       "      <td>[Yarra City Council, Moonee Valley City Counci...</td>\n",
       "      <td>[3067, 3040, 3042, 3021, 3206, 3020, 3078, 301...</td>\n",
       "    </tr>\n",
       "  </tbody>\n",
       "</table>\n",
       "</div>"
      ],
      "text/plain": [
       "                                                          Suburb  \\\n",
       "missing_ratio                                                  0   \n",
       "num_diff_vals                                                380   \n",
       "diff_vals      [Abbotsford, Aberfeldie, Airport West, Albanva...   \n",
       "\n",
       "                                                         Address       Type  \\\n",
       "missing_ratio                                                  0          0   \n",
       "num_diff_vals                                              57754          3   \n",
       "diff_vals      [49 Lithgow St, 59A Turner St, 119B Yarra St, ...  [h, t, u]   \n",
       "\n",
       "                                           Method  \\\n",
       "missing_ratio                                   0   \n",
       "num_diff_vals                                   9   \n",
       "diff_vals      [S, SP, PI, SN, VB, PN, SA, W, SS]   \n",
       "\n",
       "                                                         SellerG  \\\n",
       "missing_ratio                                                  0   \n",
       "num_diff_vals                                                476   \n",
       "diff_vals      [Jellis, Marshall, Nelson, Barry, hockingstuar...   \n",
       "\n",
       "                                                      Regionname  \\\n",
       "missing_ratio                                                  0   \n",
       "num_diff_vals                                                  8   \n",
       "diff_vals      [Northern Metropolitan, Western Metropolitan, ...   \n",
       "\n",
       "                                                     CouncilArea  \\\n",
       "missing_ratio                                                  0   \n",
       "num_diff_vals                                                 34   \n",
       "diff_vals      [Yarra City Council, Moonee Valley City Counci...   \n",
       "\n",
       "                                                        Postcode  \n",
       "missing_ratio                                                  0  \n",
       "num_diff_vals                                                225  \n",
       "diff_vals      [3067, 3040, 3042, 3021, 3206, 3020, 3078, 301...  "
      ]
     },
     "execution_count": 15,
     "metadata": {},
     "output_type": "execute_result"
    }
   ],
   "source": [
    "cate_cols = ['Suburb', 'Address', 'Type', 'Method', 'SellerG', 'Regionname', 'CouncilArea', 'Postcode']\n",
    "def num_diff_vals(s):\n",
    "    return s.nunique()\n",
    "\n",
    "def diff_vals(s):\n",
    "    return s.unique()\n",
    "\n",
    "cate_col_profiles_df = mhm_df[cate_cols].agg([missing_ratio, num_diff_vals, diff_vals])\n",
    "\n",
    "cate_col_profiles_df"
   ]
  },
  {
   "cell_type": "markdown",
   "id": "ceacb7be",
   "metadata": {},
   "source": [
    "### Làm rõ hơn ý nghĩa của cột `Suburb` và `CouncilArea`"
   ]
  },
  {
   "cell_type": "markdown",
   "id": "8066882b",
   "metadata": {},
   "source": [
    "Theo mô tả của file dữ liệu thì:\n",
    "- Suburb: mô tả ngoại ô, nơi mà ngôi nhà tọa lạc\n",
    "- CouncilArea: hội đồng quản lí của khu vực  \n",
    "\n",
    "Ở Úc, chính quyền địa phương là cấp hành chính thấp nhất, nằm dưới tiểu bang và liên bang. Cơ quan quyền lực nhà nước đóng trên địa phương được gọi là hội đồng. Khác với Việt Nam, mỗi phường, xã, thị trấn (đơn vị hành chính nhỏ nhất ở nước ta) đều tồn tại một Hội đồng Nhân dân, ở Úc lại không chia nhỏ ra như vậy, mỗi hội đồng bao gồm nhiều suburb,do đó mà ở Úc chỉ có 565 chính quyền địa phương mà thôi. Bây giờ trước tiên chúng ta sẽ cùng xem thử mỗi hội đồng ở trong dữ liệu này bao gồm những suburb nào"
   ]
  },
  {
   "cell_type": "code",
   "execution_count": 16,
   "id": "8fbb62ef",
   "metadata": {},
   "outputs": [
    {
     "data": {
      "text/html": [
       "<div>\n",
       "<style scoped>\n",
       "    .dataframe tbody tr th:only-of-type {\n",
       "        vertical-align: middle;\n",
       "    }\n",
       "\n",
       "    .dataframe tbody tr th {\n",
       "        vertical-align: top;\n",
       "    }\n",
       "\n",
       "    .dataframe thead th {\n",
       "        text-align: right;\n",
       "    }\n",
       "</style>\n",
       "<table border=\"1\" class=\"dataframe\">\n",
       "  <thead>\n",
       "    <tr style=\"text-align: right;\">\n",
       "      <th></th>\n",
       "      <th>Suburb</th>\n",
       "    </tr>\n",
       "    <tr>\n",
       "      <th>CouncilArea</th>\n",
       "      <th></th>\n",
       "    </tr>\n",
       "  </thead>\n",
       "  <tbody>\n",
       "    <tr>\n",
       "      <th>Banyule City Council</th>\n",
       "      <td>{Heidelberg Heights, Ivanhoe East, Bellfield, Heidelberg, Montmorency, Viewbank, Eaglemont, Ivanhoe, St Helena, Heidelberg West, Bundoora, Watsonia, Watsonia North, Briar Hill, Rosanna, Eltham, Macleod, Greensborough, Eltham North, Yallambie, Lower Plenty, viewbank, MacLeod}</td>\n",
       "    </tr>\n",
       "    <tr>\n",
       "      <th>Bayside City Council</th>\n",
       "      <td>{Hampton, Brighton East, Highett, Beaumaris, Hampton East, Cheltenham, Black Rock, Sandringham, Brighton}</td>\n",
       "    </tr>\n",
       "    <tr>\n",
       "      <th>Boroondara City Council</th>\n",
       "      <td>{Kew East, Kew, Hawthorn, Balwyn, Deepdene, Mont Albert, Canterbury, Hawthorn East, Surrey Hills, Camberwell, Ashburton, Balwyn North, Glen Iris}</td>\n",
       "    </tr>\n",
       "    <tr>\n",
       "      <th>Brimbank City Council</th>\n",
       "      <td>{Keilor Park, Albanvale, Albion, Sydenham, Deer Park, Sunshine West, Sunshine, Keilor Downs, Delahey, Kealba, Kings Park, Hillside, Derrimut, Cairnlea, Keilor, Brooklyn, Tullamarine, Keilor Lodge, Taylors Lakes, Sunshine North, St Albans, Ardeer, Keilor East}</td>\n",
       "    </tr>\n",
       "    <tr>\n",
       "      <th>Cardinia Shire Council</th>\n",
       "      <td>{Beaconsfield Upper, Officer, Gembrook, Beaconsfield, Emerald, Guys Hill, Pakenham, Cockatoo, Menzies Creek, Avonsleigh}</td>\n",
       "    </tr>\n",
       "  </tbody>\n",
       "</table>\n",
       "</div>"
      ],
      "text/plain": [
       "                                                                                                                                                                                                                                                                                                      Suburb\n",
       "CouncilArea                                                                                                                                                                                                                                                                                                 \n",
       "Banyule City Council     {Heidelberg Heights, Ivanhoe East, Bellfield, Heidelberg, Montmorency, Viewbank, Eaglemont, Ivanhoe, St Helena, Heidelberg West, Bundoora, Watsonia, Watsonia North, Briar Hill, Rosanna, Eltham, Macleod, Greensborough, Eltham North, Yallambie, Lower Plenty, viewbank, MacLeod}\n",
       "Bayside City Council                                                                                                                                                                               {Hampton, Brighton East, Highett, Beaumaris, Hampton East, Cheltenham, Black Rock, Sandringham, Brighton}\n",
       "Boroondara City Council                                                                                                                                    {Kew East, Kew, Hawthorn, Balwyn, Deepdene, Mont Albert, Canterbury, Hawthorn East, Surrey Hills, Camberwell, Ashburton, Balwyn North, Glen Iris}\n",
       "Brimbank City Council                    {Keilor Park, Albanvale, Albion, Sydenham, Deer Park, Sunshine West, Sunshine, Keilor Downs, Delahey, Kealba, Kings Park, Hillside, Derrimut, Cairnlea, Keilor, Brooklyn, Tullamarine, Keilor Lodge, Taylors Lakes, Sunshine North, St Albans, Ardeer, Keilor East}\n",
       "Cardinia Shire Council                                                                                                                                                              {Beaconsfield Upper, Officer, Gembrook, Beaconsfield, Emerald, Guys Hill, Pakenham, Cockatoo, Menzies Creek, Avonsleigh}"
      ]
     },
     "execution_count": 16,
     "metadata": {},
     "output_type": "execute_result"
    }
   ],
   "source": [
    "pd.set_option(\"display.max_colwidth\", 1000)\n",
    "su_in_ca_df = mhm_df[['Suburb', 'CouncilArea']]\n",
    "su_in_ca_df = su_in_ca_df.groupby(['CouncilArea'])['Suburb'].apply(set)\n",
    "su_in_ca_df = pd.DataFrame(su_in_ca_df)\n",
    "su_in_ca_df.head()"
   ]
  },
  {
   "cell_type": "markdown",
   "id": "5b4effab",
   "metadata": {},
   "source": [
    "Theo [wikipedia](https://vi.wikipedia.org/wiki/Ch%C3%ADnh_quy%E1%BB%81n_%C4%91%E1%BB%8Ba_ph%C6%B0%C6%A1ng_%E1%BB%9F_%C3%9Ac) mặc dù chính quyền địa phương ở Úc được phân chia khá đơn giản, nhưng một vài khu vực địa lý khá rộng và có ít dân lại không trực thuộc cấp chính quyền cơ sở nào cả. Nhiệm vụ của chính quyền địa phương ở những khu vực này thường do các tổ chức, cơ quan đặc trách ngoài chính quyền đảm nhận (như các khu nghỉ mát trên núi ở bang Victoria), hoặc do nhà chức trách tiểu bang cai quản toàn bộ. Như vậy chúng ta thử kiểm tra xem liệu có sự đụng độ suburb nào ở các chính quyền địa phương hay không "
   ]
  },
  {
   "cell_type": "code",
   "execution_count": 17,
   "id": "9ccc647e",
   "metadata": {
    "scrolled": true
   },
   "outputs": [
    {
     "data": {
      "text/plain": [
       "0"
      ]
     },
     "execution_count": 17,
     "metadata": {},
     "output_type": "execute_result"
    }
   ],
   "source": [
    "su_in_ca_df = su_in_ca_df.explode('Suburb')\n",
    "su_in_ca_df.duplicated().sum()"
   ]
  },
  {
   "cell_type": "markdown",
   "id": "7873120b",
   "metadata": {},
   "source": [
    "Như chúng ta quan sát, đã không có sự nhập nhằng nào trong việc quản lí, như vậy người dùng dễ dàng hơn trong việc làm giấy tờ nhà hay đơn giản hơn là việc đặt hàng online chẳng hạn (có thể có, vì KTX B ĐHQG là một ví dụ trong sự nhập nhằng địa chỉ 😉, nhập nhằng ở đây là theo cách hiểu của người nhập liệu, người dân, hiển nhiên trên giấy tờ quốc gia, một vùng vẫn luôn được thống nhất)"
   ]
  },
  {
   "cell_type": "markdown",
   "id": "2ef2c3e6",
   "metadata": {},
   "source": [
    "## Đưa ra câu hỏi cần trả lời"
   ]
  },
  {
   "cell_type": "markdown",
   "id": "23cbfbba-6ff2-411a-96b5-7f89cd1c0112",
   "metadata": {},
   "source": [
    "Sau khi khám phá và hiểu hơn về dữ liệu, ta thấy có một số câu hỏi có thể trả lời được bằng dữ liệu:\n",
    "- ***Câu 1: Giá nhà (`Price`) thay đổi như thế nào nếu khoảng cách (`Distance`) thay đổi?***\n",
    "    - Trả lời được câu hỏi này sẽ giúp cho người mua biết được khoảng cách chi phối như thế nào đến giá nhà, từ đó lựa chọn mua cho hợp lí, có thể chấp nhận được mức khoảng cách nào để tối thiểu được giá nhà\n",
    "- ***Câu 2: Đâu là top 5 nhân viên seller (`SellerG`) rao bán được nhiều nhà nhất trong mỗi năm?***\n",
    "    - Thường thì con người ta sẽ có niềm tin vào số đông nhiều hơn, do vậy mà họ cũng sẽ khá là tin rằng nhân viên nào rao bán được nhiều nhà hơn thì sẽ uy tín hơn, do đó mà việc thống kê top 5 nhân viên mỗi năm sẽ giúp cho người mua có lựa chọn phù hợp với bản thân"
   ]
  },
  {
   "cell_type": "markdown",
   "id": "3a03a92b-40a4-4e38-a0f5-14ea910f8aaa",
   "metadata": {},
   "source": [
    "## Tiền xử lý"
   ]
  },
  {
   "cell_type": "markdown",
   "id": "bef68e6d-8ab9-4d39-8b89-aca777204b3d",
   "metadata": {},
   "source": [
    "Đầu tiên, thêm cột thuộc tính `Month` và `Year` vào dataframe mhm_df"
   ]
  },
  {
   "cell_type": "code",
   "execution_count": 18,
   "id": "71e1d407-8dd1-4ca2-bb0a-c723111060a4",
   "metadata": {},
   "outputs": [
    {
     "data": {
      "text/html": [
       "<div>\n",
       "<style scoped>\n",
       "    .dataframe tbody tr th:only-of-type {\n",
       "        vertical-align: middle;\n",
       "    }\n",
       "\n",
       "    .dataframe tbody tr th {\n",
       "        vertical-align: top;\n",
       "    }\n",
       "\n",
       "    .dataframe thead th {\n",
       "        text-align: right;\n",
       "    }\n",
       "</style>\n",
       "<table border=\"1\" class=\"dataframe\">\n",
       "  <thead>\n",
       "    <tr style=\"text-align: right;\">\n",
       "      <th></th>\n",
       "      <th>Suburb</th>\n",
       "      <th>Address</th>\n",
       "      <th>Rooms</th>\n",
       "      <th>Type</th>\n",
       "      <th>Price</th>\n",
       "      <th>Method</th>\n",
       "      <th>SellerG</th>\n",
       "      <th>Date</th>\n",
       "      <th>Postcode</th>\n",
       "      <th>Regionname</th>\n",
       "      <th>Propertycount</th>\n",
       "      <th>Distance</th>\n",
       "      <th>CouncilArea</th>\n",
       "      <th>Month</th>\n",
       "      <th>Year</th>\n",
       "    </tr>\n",
       "  </thead>\n",
       "  <tbody>\n",
       "    <tr>\n",
       "      <th>0</th>\n",
       "      <td>Abbotsford</td>\n",
       "      <td>49 Lithgow St</td>\n",
       "      <td>3</td>\n",
       "      <td>h</td>\n",
       "      <td>1,490,000</td>\n",
       "      <td>S</td>\n",
       "      <td>Jellis</td>\n",
       "      <td>2017-04-01</td>\n",
       "      <td>3067</td>\n",
       "      <td>Northern Metropolitan</td>\n",
       "      <td>4019</td>\n",
       "      <td>3</td>\n",
       "      <td>Yarra City Council</td>\n",
       "      <td>4</td>\n",
       "      <td>2017</td>\n",
       "    </tr>\n",
       "    <tr>\n",
       "      <th>1</th>\n",
       "      <td>Abbotsford</td>\n",
       "      <td>59A Turner St</td>\n",
       "      <td>3</td>\n",
       "      <td>h</td>\n",
       "      <td>1,220,000</td>\n",
       "      <td>S</td>\n",
       "      <td>Marshall</td>\n",
       "      <td>2017-04-01</td>\n",
       "      <td>3067</td>\n",
       "      <td>Northern Metropolitan</td>\n",
       "      <td>4019</td>\n",
       "      <td>3</td>\n",
       "      <td>Yarra City Council</td>\n",
       "      <td>4</td>\n",
       "      <td>2017</td>\n",
       "    </tr>\n",
       "    <tr>\n",
       "      <th>2</th>\n",
       "      <td>Abbotsford</td>\n",
       "      <td>119B Yarra St</td>\n",
       "      <td>3</td>\n",
       "      <td>h</td>\n",
       "      <td>1,420,000</td>\n",
       "      <td>S</td>\n",
       "      <td>Nelson</td>\n",
       "      <td>2017-04-01</td>\n",
       "      <td>3067</td>\n",
       "      <td>Northern Metropolitan</td>\n",
       "      <td>4019</td>\n",
       "      <td>3</td>\n",
       "      <td>Yarra City Council</td>\n",
       "      <td>4</td>\n",
       "      <td>2017</td>\n",
       "    </tr>\n",
       "    <tr>\n",
       "      <th>3</th>\n",
       "      <td>Aberfeldie</td>\n",
       "      <td>68 Vida St</td>\n",
       "      <td>3</td>\n",
       "      <td>h</td>\n",
       "      <td>1,515,000</td>\n",
       "      <td>S</td>\n",
       "      <td>Barry</td>\n",
       "      <td>2017-04-01</td>\n",
       "      <td>3040</td>\n",
       "      <td>Western Metropolitan</td>\n",
       "      <td>1543</td>\n",
       "      <td>8</td>\n",
       "      <td>Moonee Valley City Council</td>\n",
       "      <td>4</td>\n",
       "      <td>2017</td>\n",
       "    </tr>\n",
       "    <tr>\n",
       "      <th>4</th>\n",
       "      <td>Airport West</td>\n",
       "      <td>92 Clydesdale Rd</td>\n",
       "      <td>2</td>\n",
       "      <td>h</td>\n",
       "      <td>670,000</td>\n",
       "      <td>S</td>\n",
       "      <td>Nelson</td>\n",
       "      <td>2017-04-01</td>\n",
       "      <td>3042</td>\n",
       "      <td>Western Metropolitan</td>\n",
       "      <td>3464</td>\n",
       "      <td>10</td>\n",
       "      <td>Moonee Valley City Council</td>\n",
       "      <td>4</td>\n",
       "      <td>2017</td>\n",
       "    </tr>\n",
       "  </tbody>\n",
       "</table>\n",
       "</div>"
      ],
      "text/plain": [
       "         Suburb           Address  Rooms Type     Price Method   SellerG  \\\n",
       "0    Abbotsford     49 Lithgow St      3    h 1,490,000      S    Jellis   \n",
       "1    Abbotsford     59A Turner St      3    h 1,220,000      S  Marshall   \n",
       "2    Abbotsford     119B Yarra St      3    h 1,420,000      S    Nelson   \n",
       "3    Aberfeldie        68 Vida St      3    h 1,515,000      S     Barry   \n",
       "4  Airport West  92 Clydesdale Rd      2    h   670,000      S    Nelson   \n",
       "\n",
       "        Date  Postcode             Regionname  Propertycount  Distance  \\\n",
       "0 2017-04-01      3067  Northern Metropolitan           4019         3   \n",
       "1 2017-04-01      3067  Northern Metropolitan           4019         3   \n",
       "2 2017-04-01      3067  Northern Metropolitan           4019         3   \n",
       "3 2017-04-01      3040   Western Metropolitan           1543         8   \n",
       "4 2017-04-01      3042   Western Metropolitan           3464        10   \n",
       "\n",
       "                  CouncilArea  Month  Year  \n",
       "0          Yarra City Council      4  2017  \n",
       "1          Yarra City Council      4  2017  \n",
       "2          Yarra City Council      4  2017  \n",
       "3  Moonee Valley City Council      4  2017  \n",
       "4  Moonee Valley City Council      4  2017  "
      ]
     },
     "execution_count": 18,
     "metadata": {},
     "output_type": "execute_result"
    }
   ],
   "source": [
    "mhm_df['Month'] = mhm_df['Date'].dt.month\n",
    "mhm_df['Year'] = mhm_df['Date'].dt.year\n",
    "mhm_df.head()"
   ]
  },
  {
   "cell_type": "markdown",
   "id": "3e81048f-1a03-44d6-9228-05ee5efc4792",
   "metadata": {},
   "source": [
    "## Phân tích dữ liệu để trả lời câu hỏi"
   ]
  },
  {
   "cell_type": "markdown",
   "id": "6d0d30f8-2335-446a-b638-4e911a3c9eda",
   "metadata": {},
   "source": [
    "### Câu 1: Giá nhà thay đổi như thế nào khi khoảng cách thay đổi?"
   ]
  },
  {
   "cell_type": "markdown",
   "id": "ebfa7ab8-363c-4455-9d48-517f1195ddd5",
   "metadata": {},
   "source": [
    "Để trả lời được câu hỏi này chúng ta cần thực hiện như sau:\n",
    "- Tạo dataframe distance_price_df từ mhm_df với hai cột `Price` và `Distance`\n",
    "- Vì khoảng cách có tới 180 giá trị riêng biệt, đồng thời nhiều khoảng cách lại mang ý nghĩa khá tương đồng nhau, chẳng hạn 10 km với 10,1 km sẽ không có gì thay đổi nhiều trong suy nghĩ của người mua nhà, do đó chúng ta tiến hành chia bin cho khoảng cách, với độ rộng mỗi bin là 3 (3 là ngưỡng mà nhóm đặt ra, xem như là ngưỡng có thể chấp nhận được khi khoảng cách thay đổi), dùng hàm cut trong pandas để phân đoạn và xếp từng giá trị `Price` vào cột mới `Bins`\n",
    "- Tính trung bình giá nhà theo từng `Bins`\n",
    "- Để vẽ được biểu đồ ta cần thêm cột `Bins_average` là giá trị trung bình của biên trái và biên phải của mỗi bin, nhằm đại diện cho bin đó, vì cột `Bins` hiện tại đang ở dạng categorical\n",
    "- Vẽ biểu đồ đường để xem sự thay đổi của giá nhà khi khoảng cách thay đổi, trục hoành là giá trị trong `Bins_average` đặt tên lại là 'Distance', trục tung là `Price`"
   ]
  },
  {
   "cell_type": "code",
   "execution_count": 19,
   "id": "85b4dc35-4980-4357-a065-b7103a5e6556",
   "metadata": {},
   "outputs": [
    {
     "data": {
      "text/html": [
       "<div>\n",
       "<style scoped>\n",
       "    .dataframe tbody tr th:only-of-type {\n",
       "        vertical-align: middle;\n",
       "    }\n",
       "\n",
       "    .dataframe tbody tr th {\n",
       "        vertical-align: top;\n",
       "    }\n",
       "\n",
       "    .dataframe thead th {\n",
       "        text-align: right;\n",
       "    }\n",
       "</style>\n",
       "<table border=\"1\" class=\"dataframe\">\n",
       "  <thead>\n",
       "    <tr style=\"text-align: right;\">\n",
       "      <th></th>\n",
       "      <th>Price</th>\n",
       "      <th>Distance</th>\n",
       "    </tr>\n",
       "  </thead>\n",
       "  <tbody>\n",
       "    <tr>\n",
       "      <th>0</th>\n",
       "      <td>1,490,000</td>\n",
       "      <td>3</td>\n",
       "    </tr>\n",
       "    <tr>\n",
       "      <th>1</th>\n",
       "      <td>1,220,000</td>\n",
       "      <td>3</td>\n",
       "    </tr>\n",
       "    <tr>\n",
       "      <th>2</th>\n",
       "      <td>1,420,000</td>\n",
       "      <td>3</td>\n",
       "    </tr>\n",
       "    <tr>\n",
       "      <th>3</th>\n",
       "      <td>1,515,000</td>\n",
       "      <td>8</td>\n",
       "    </tr>\n",
       "    <tr>\n",
       "      <th>4</th>\n",
       "      <td>670,000</td>\n",
       "      <td>10</td>\n",
       "    </tr>\n",
       "  </tbody>\n",
       "</table>\n",
       "</div>"
      ],
      "text/plain": [
       "      Price  Distance\n",
       "0 1,490,000         3\n",
       "1 1,220,000         3\n",
       "2 1,420,000         3\n",
       "3 1,515,000         8\n",
       "4   670,000        10"
      ]
     },
     "execution_count": 19,
     "metadata": {},
     "output_type": "execute_result"
    }
   ],
   "source": [
    "distance_price_df = mhm_df[['Price', 'Distance']]\n",
    "distance_price_df.head()"
   ]
  },
  {
   "cell_type": "code",
   "execution_count": 20,
   "id": "f60125f7-f748-45fc-85cb-25dbcd145104",
   "metadata": {},
   "outputs": [
    {
     "data": {
      "text/plain": [
       "array([ 0.,  3.,  6.,  9., 12., 15., 18., 21., 24., 27., 30., 33., 36.,\n",
       "       39., 42., 45., 48., 51., 54., 57., 60., 63., 66.])"
      ]
     },
     "execution_count": 20,
     "metadata": {},
     "output_type": "execute_result"
    }
   ],
   "source": [
    "bins = np.arange(0, distance_price_df['Distance'].max() + 3, 3)\n",
    "bins"
   ]
  },
  {
   "cell_type": "code",
   "execution_count": 21,
   "id": "8863f5c2-de17-433f-91cb-796bb658de73",
   "metadata": {},
   "outputs": [
    {
     "name": "stderr",
     "output_type": "stream",
     "text": [
      "<ipython-input-21-fe969ddf4276>:1: SettingWithCopyWarning: \n",
      "A value is trying to be set on a copy of a slice from a DataFrame.\n",
      "Try using .loc[row_indexer,col_indexer] = value instead\n",
      "\n",
      "See the caveats in the documentation: https://pandas.pydata.org/pandas-docs/stable/user_guide/indexing.html#returning-a-view-versus-a-copy\n",
      "  distance_price_df['Bins'] = pd.cut(distance_price_df['Distance'], bins)\n"
     ]
    },
    {
     "data": {
      "text/html": [
       "<div>\n",
       "<style scoped>\n",
       "    .dataframe tbody tr th:only-of-type {\n",
       "        vertical-align: middle;\n",
       "    }\n",
       "\n",
       "    .dataframe tbody tr th {\n",
       "        vertical-align: top;\n",
       "    }\n",
       "\n",
       "    .dataframe thead th {\n",
       "        text-align: right;\n",
       "    }\n",
       "</style>\n",
       "<table border=\"1\" class=\"dataframe\">\n",
       "  <thead>\n",
       "    <tr style=\"text-align: right;\">\n",
       "      <th></th>\n",
       "      <th>Price</th>\n",
       "      <th>Distance</th>\n",
       "      <th>Bins</th>\n",
       "    </tr>\n",
       "  </thead>\n",
       "  <tbody>\n",
       "    <tr>\n",
       "      <th>0</th>\n",
       "      <td>1,490,000</td>\n",
       "      <td>3</td>\n",
       "      <td>(0.0, 3.0]</td>\n",
       "    </tr>\n",
       "    <tr>\n",
       "      <th>1</th>\n",
       "      <td>1,220,000</td>\n",
       "      <td>3</td>\n",
       "      <td>(0.0, 3.0]</td>\n",
       "    </tr>\n",
       "    <tr>\n",
       "      <th>2</th>\n",
       "      <td>1,420,000</td>\n",
       "      <td>3</td>\n",
       "      <td>(0.0, 3.0]</td>\n",
       "    </tr>\n",
       "    <tr>\n",
       "      <th>3</th>\n",
       "      <td>1,515,000</td>\n",
       "      <td>8</td>\n",
       "      <td>(6.0, 9.0]</td>\n",
       "    </tr>\n",
       "    <tr>\n",
       "      <th>4</th>\n",
       "      <td>670,000</td>\n",
       "      <td>10</td>\n",
       "      <td>(9.0, 12.0]</td>\n",
       "    </tr>\n",
       "  </tbody>\n",
       "</table>\n",
       "</div>"
      ],
      "text/plain": [
       "      Price  Distance         Bins\n",
       "0 1,490,000         3   (0.0, 3.0]\n",
       "1 1,220,000         3   (0.0, 3.0]\n",
       "2 1,420,000         3   (0.0, 3.0]\n",
       "3 1,515,000         8   (6.0, 9.0]\n",
       "4   670,000        10  (9.0, 12.0]"
      ]
     },
     "execution_count": 21,
     "metadata": {},
     "output_type": "execute_result"
    }
   ],
   "source": [
    "distance_price_df['Bins'] = pd.cut(distance_price_df['Distance'], bins)\n",
    "distance_price_df.head()"
   ]
  },
  {
   "cell_type": "code",
   "execution_count": 22,
   "id": "3b9175a0-2d13-49b0-be9a-6255f14bac84",
   "metadata": {},
   "outputs": [
    {
     "data": {
      "text/html": [
       "<div>\n",
       "<style scoped>\n",
       "    .dataframe tbody tr th:only-of-type {\n",
       "        vertical-align: middle;\n",
       "    }\n",
       "\n",
       "    .dataframe tbody tr th {\n",
       "        vertical-align: top;\n",
       "    }\n",
       "\n",
       "    .dataframe thead th {\n",
       "        text-align: right;\n",
       "    }\n",
       "</style>\n",
       "<table border=\"1\" class=\"dataframe\">\n",
       "  <thead>\n",
       "    <tr style=\"text-align: right;\">\n",
       "      <th></th>\n",
       "      <th>Price</th>\n",
       "    </tr>\n",
       "    <tr>\n",
       "      <th>Bins</th>\n",
       "      <th></th>\n",
       "    </tr>\n",
       "  </thead>\n",
       "  <tbody>\n",
       "    <tr>\n",
       "      <th>(0.0, 3.0]</th>\n",
       "      <td>1,167,598</td>\n",
       "    </tr>\n",
       "    <tr>\n",
       "      <th>(3.0, 6.0]</th>\n",
       "      <td>1,151,683</td>\n",
       "    </tr>\n",
       "    <tr>\n",
       "      <th>(6.0, 9.0]</th>\n",
       "      <td>1,153,413</td>\n",
       "    </tr>\n",
       "    <tr>\n",
       "      <th>(9.0, 12.0]</th>\n",
       "      <td>1,069,961</td>\n",
       "    </tr>\n",
       "    <tr>\n",
       "      <th>(12.0, 15.0]</th>\n",
       "      <td>942,017</td>\n",
       "    </tr>\n",
       "  </tbody>\n",
       "</table>\n",
       "</div>"
      ],
      "text/plain": [
       "                 Price\n",
       "Bins                  \n",
       "(0.0, 3.0]   1,167,598\n",
       "(3.0, 6.0]   1,151,683\n",
       "(6.0, 9.0]   1,153,413\n",
       "(9.0, 12.0]  1,069,961\n",
       "(12.0, 15.0]   942,017"
      ]
     },
     "execution_count": 22,
     "metadata": {},
     "output_type": "execute_result"
    }
   ],
   "source": [
    "distance_price_df = pd.DataFrame(distance_price_df.groupby(['Bins'])['Price'].mean())\n",
    "distance_price_df.head()"
   ]
  },
  {
   "cell_type": "code",
   "execution_count": 23,
   "id": "3b6553fe-68af-4104-8791-805c91d2b174",
   "metadata": {},
   "outputs": [
    {
     "data": {
      "text/html": [
       "<div>\n",
       "<style scoped>\n",
       "    .dataframe tbody tr th:only-of-type {\n",
       "        vertical-align: middle;\n",
       "    }\n",
       "\n",
       "    .dataframe tbody tr th {\n",
       "        vertical-align: top;\n",
       "    }\n",
       "\n",
       "    .dataframe thead th {\n",
       "        text-align: right;\n",
       "    }\n",
       "</style>\n",
       "<table border=\"1\" class=\"dataframe\">\n",
       "  <thead>\n",
       "    <tr style=\"text-align: right;\">\n",
       "      <th></th>\n",
       "      <th>Price</th>\n",
       "      <th>Bins_average</th>\n",
       "    </tr>\n",
       "    <tr>\n",
       "      <th>Bins</th>\n",
       "      <th></th>\n",
       "      <th></th>\n",
       "    </tr>\n",
       "  </thead>\n",
       "  <tbody>\n",
       "    <tr>\n",
       "      <th>(0.0, 3.0]</th>\n",
       "      <td>1,167,598.32</td>\n",
       "      <td>1.50</td>\n",
       "    </tr>\n",
       "    <tr>\n",
       "      <th>(3.0, 6.0]</th>\n",
       "      <td>1,151,683.35</td>\n",
       "      <td>4.50</td>\n",
       "    </tr>\n",
       "    <tr>\n",
       "      <th>(6.0, 9.0]</th>\n",
       "      <td>1,153,412.62</td>\n",
       "      <td>7.50</td>\n",
       "    </tr>\n",
       "    <tr>\n",
       "      <th>(9.0, 12.0]</th>\n",
       "      <td>1,069,961.42</td>\n",
       "      <td>10.50</td>\n",
       "    </tr>\n",
       "    <tr>\n",
       "      <th>(12.0, 15.0]</th>\n",
       "      <td>942,016.53</td>\n",
       "      <td>13.50</td>\n",
       "    </tr>\n",
       "  </tbody>\n",
       "</table>\n",
       "</div>"
      ],
      "text/plain": [
       "                    Price  Bins_average\n",
       "Bins                                   \n",
       "(0.0, 3.0]   1,167,598.32          1.50\n",
       "(3.0, 6.0]   1,151,683.35          4.50\n",
       "(6.0, 9.0]   1,153,412.62          7.50\n",
       "(9.0, 12.0]  1,069,961.42         10.50\n",
       "(12.0, 15.0]   942,016.53         13.50"
      ]
     },
     "execution_count": 23,
     "metadata": {},
     "output_type": "execute_result"
    }
   ],
   "source": [
    "pd.options.display.float_format = '{:,.2f}'.format\n",
    "distance_price_df['Bins_average'] = np.arange(1.5, 66, step=3.0)\n",
    "distance_price_df.head()"
   ]
  },
  {
   "cell_type": "code",
   "execution_count": 24,
   "id": "7db69d0f-b401-4a98-b7b5-cdcaf748f4e9",
   "metadata": {},
   "outputs": [
    {
     "data": {
      "text/html": [
       "<div>\n",
       "<style scoped>\n",
       "    .dataframe tbody tr th:only-of-type {\n",
       "        vertical-align: middle;\n",
       "    }\n",
       "\n",
       "    .dataframe tbody tr th {\n",
       "        vertical-align: top;\n",
       "    }\n",
       "\n",
       "    .dataframe thead th {\n",
       "        text-align: right;\n",
       "    }\n",
       "</style>\n",
       "<table border=\"1\" class=\"dataframe\">\n",
       "  <thead>\n",
       "    <tr style=\"text-align: right;\">\n",
       "      <th></th>\n",
       "      <th>Price</th>\n",
       "    </tr>\n",
       "    <tr>\n",
       "      <th>Bins_average</th>\n",
       "      <th></th>\n",
       "    </tr>\n",
       "  </thead>\n",
       "  <tbody>\n",
       "    <tr>\n",
       "      <th>1.50</th>\n",
       "      <td>1,167,598.32</td>\n",
       "    </tr>\n",
       "    <tr>\n",
       "      <th>4.50</th>\n",
       "      <td>1,151,683.35</td>\n",
       "    </tr>\n",
       "    <tr>\n",
       "      <th>7.50</th>\n",
       "      <td>1,153,412.62</td>\n",
       "    </tr>\n",
       "    <tr>\n",
       "      <th>10.50</th>\n",
       "      <td>1,069,961.42</td>\n",
       "    </tr>\n",
       "    <tr>\n",
       "      <th>13.50</th>\n",
       "      <td>942,016.53</td>\n",
       "    </tr>\n",
       "    <tr>\n",
       "      <th>16.50</th>\n",
       "      <td>944,713.42</td>\n",
       "    </tr>\n",
       "    <tr>\n",
       "      <th>19.50</th>\n",
       "      <td>680,408.95</td>\n",
       "    </tr>\n",
       "    <tr>\n",
       "      <th>22.50</th>\n",
       "      <td>878,982.81</td>\n",
       "    </tr>\n",
       "    <tr>\n",
       "      <th>25.50</th>\n",
       "      <td>705,164.78</td>\n",
       "    </tr>\n",
       "    <tr>\n",
       "      <th>28.50</th>\n",
       "      <td>520,098.19</td>\n",
       "    </tr>\n",
       "    <tr>\n",
       "      <th>31.50</th>\n",
       "      <td>555,342.76</td>\n",
       "    </tr>\n",
       "    <tr>\n",
       "      <th>34.50</th>\n",
       "      <td>649,532.26</td>\n",
       "    </tr>\n",
       "    <tr>\n",
       "      <th>37.50</th>\n",
       "      <td>693,155.25</td>\n",
       "    </tr>\n",
       "    <tr>\n",
       "      <th>40.50</th>\n",
       "      <td>591,279.41</td>\n",
       "    </tr>\n",
       "    <tr>\n",
       "      <th>43.50</th>\n",
       "      <td>541,076.92</td>\n",
       "    </tr>\n",
       "    <tr>\n",
       "      <th>46.50</th>\n",
       "      <td>692,276.09</td>\n",
       "    </tr>\n",
       "    <tr>\n",
       "      <th>49.50</th>\n",
       "      <td>712,321.43</td>\n",
       "    </tr>\n",
       "    <tr>\n",
       "      <th>52.50</th>\n",
       "      <td>NaN</td>\n",
       "    </tr>\n",
       "    <tr>\n",
       "      <th>55.50</th>\n",
       "      <td>450,000.00</td>\n",
       "    </tr>\n",
       "    <tr>\n",
       "      <th>58.50</th>\n",
       "      <td>NaN</td>\n",
       "    </tr>\n",
       "    <tr>\n",
       "      <th>61.50</th>\n",
       "      <td>NaN</td>\n",
       "    </tr>\n",
       "    <tr>\n",
       "      <th>64.50</th>\n",
       "      <td>NaN</td>\n",
       "    </tr>\n",
       "  </tbody>\n",
       "</table>\n",
       "</div>"
      ],
      "text/plain": [
       "                    Price\n",
       "Bins_average             \n",
       "1.50         1,167,598.32\n",
       "4.50         1,151,683.35\n",
       "7.50         1,153,412.62\n",
       "10.50        1,069,961.42\n",
       "13.50          942,016.53\n",
       "16.50          944,713.42\n",
       "19.50          680,408.95\n",
       "22.50          878,982.81\n",
       "25.50          705,164.78\n",
       "28.50          520,098.19\n",
       "31.50          555,342.76\n",
       "34.50          649,532.26\n",
       "37.50          693,155.25\n",
       "40.50          591,279.41\n",
       "43.50          541,076.92\n",
       "46.50          692,276.09\n",
       "49.50          712,321.43\n",
       "52.50                 NaN\n",
       "55.50          450,000.00\n",
       "58.50                 NaN\n",
       "61.50                 NaN\n",
       "64.50                 NaN"
      ]
     },
     "execution_count": 24,
     "metadata": {},
     "output_type": "execute_result"
    }
   ],
   "source": [
    "tmp = distance_price_df[['Bins_average', 'Price']]\n",
    "tmp = tmp.set_index('Bins_average')\n",
    "tmp"
   ]
  },
  {
   "cell_type": "code",
   "execution_count": 25,
   "id": "dc1f40b3-8aba-4f37-83aa-a33dc52ca423",
   "metadata": {},
   "outputs": [
    {
     "data": {
      "image/png": "[encoded data removed]",
      "text/plain": [
       "<Figure size 432x288 with 1 Axes>"
      ]
     },
     "metadata": {
      "needs_background": "light"
     },
     "output_type": "display_data"
    }
   ],
   "source": [
    "plt.plot(tmp, marker='o')\n",
    "plt.xlabel('Distance')\n",
    "plt.ylabel('Price');"
   ]
  },
  {
   "cell_type": "markdown",
   "id": "35b2376a-4c80-4c9f-8493-4e86503a446b",
   "metadata": {},
   "source": [
    "Như vậy nhìn qua biểu đồ chúng ta có thể nhận thấy một xu hướng chung đó là khoảng cách càng xa thì giá nhà càng giảm, một số ngoại lệ thì có lẽ do nhiều yếu tố khác chi phối. Biểu đồ sẽ tồn tại những điểm không có đoạn nối đó là do khi chia bin có một số khoảng cách không có, hoặc là do theo như file mô tả khoảng cách trong bin đó thì giá nhà không được công khai"
   ]
  },
  {
   "cell_type": "markdown",
   "id": "c3d07ecd-acdf-4ced-99fa-d51cbcaef2f9",
   "metadata": {},
   "source": [
    "### Câu 2: Đâu là top 5 nhân viên seller rao bán được nhiều nhà nhất trong mỗi năm?"
   ]
  },
  {
   "cell_type": "markdown",
   "id": "83bcba46-1d40-4601-86bc-f1a92efcf9c8",
   "metadata": {},
   "source": [
    "Để trả lời được câu hỏi này, chúng ta cần thực hiện như sau:\n",
    "- Tạo dataframe seller_df với ba cột `Year`, `SellerG` và `Count`, trong đó cột `Count` là số lượng nhà được rao bán của mỗi nhân viên trong mỗi năm\n",
    "- Tạo dataframe top5_seller_df lấy top 5 nhân viên rao bán được nhiều nhà nhất trong mỗi năm"
   ]
  },
  {
   "cell_type": "code",
   "execution_count": 27,
   "id": "47a0c7ae-9b62-4897-9c25-6251256e715f",
   "metadata": {},
   "outputs": [
    {
     "data": {
      "text/html": [
       "<div>\n",
       "<style scoped>\n",
       "    .dataframe tbody tr th:only-of-type {\n",
       "        vertical-align: middle;\n",
       "    }\n",
       "\n",
       "    .dataframe tbody tr th {\n",
       "        vertical-align: top;\n",
       "    }\n",
       "\n",
       "    .dataframe thead th {\n",
       "        text-align: right;\n",
       "    }\n",
       "</style>\n",
       "<table border=\"1\" class=\"dataframe\">\n",
       "  <thead>\n",
       "    <tr style=\"text-align: right;\">\n",
       "      <th></th>\n",
       "      <th></th>\n",
       "      <th>Count</th>\n",
       "    </tr>\n",
       "    <tr>\n",
       "      <th>Year</th>\n",
       "      <th>SellerG</th>\n",
       "      <th></th>\n",
       "    </tr>\n",
       "  </thead>\n",
       "  <tbody>\n",
       "    <tr>\n",
       "      <th rowspan=\"5\" valign=\"top\">2016</th>\n",
       "      <th>@Realty</th>\n",
       "      <td>3</td>\n",
       "    </tr>\n",
       "    <tr>\n",
       "      <th>ASL</th>\n",
       "      <td>6</td>\n",
       "    </tr>\n",
       "    <tr>\n",
       "      <th>Abercromby's</th>\n",
       "      <td>19</td>\n",
       "    </tr>\n",
       "    <tr>\n",
       "      <th>Abley</th>\n",
       "      <td>3</td>\n",
       "    </tr>\n",
       "    <tr>\n",
       "      <th>Airport</th>\n",
       "      <td>1</td>\n",
       "    </tr>\n",
       "    <tr>\n",
       "      <th>...</th>\n",
       "      <th>...</th>\n",
       "      <td>...</td>\n",
       "    </tr>\n",
       "    <tr>\n",
       "      <th rowspan=\"5\" valign=\"top\">2018</th>\n",
       "      <th>hockingstuart/hockingstuart</th>\n",
       "      <td>4</td>\n",
       "    </tr>\n",
       "    <tr>\n",
       "      <th>iHomes</th>\n",
       "      <td>2</td>\n",
       "    </tr>\n",
       "    <tr>\n",
       "      <th>iSell</th>\n",
       "      <td>26</td>\n",
       "    </tr>\n",
       "    <tr>\n",
       "      <th>iTRAK</th>\n",
       "      <td>18</td>\n",
       "    </tr>\n",
       "    <tr>\n",
       "      <th>voglwalpole</th>\n",
       "      <td>4</td>\n",
       "    </tr>\n",
       "  </tbody>\n",
       "</table>\n",
       "<p>957 rows × 1 columns</p>\n",
       "</div>"
      ],
      "text/plain": [
       "                                  Count\n",
       "Year SellerG                           \n",
       "2016 @Realty                          3\n",
       "     ASL                              6\n",
       "     Abercromby's                    19\n",
       "     Abley                            3\n",
       "     Airport                          1\n",
       "...                                 ...\n",
       "2018 hockingstuart/hockingstuart      4\n",
       "     iHomes                           2\n",
       "     iSell                           26\n",
       "     iTRAK                           18\n",
       "     voglwalpole                      4\n",
       "\n",
       "[957 rows x 1 columns]"
      ]
     },
     "execution_count": 27,
     "metadata": {},
     "output_type": "execute_result"
    }
   ],
   "source": [
    "seller_df = mhm_df[['Year', 'SellerG']]\n",
    "seller_df = pd.DataFrame(seller_df.groupby(['Year', 'SellerG']).size())\n",
    "seller_df.columns = ['Count']\n",
    "seller_df"
   ]
  },
  {
   "cell_type": "code",
   "execution_count": 28,
   "id": "c74b2350-3239-42c4-a179-753bcc10b57d",
   "metadata": {},
   "outputs": [
    {
     "data": {
      "text/html": [
       "<div>\n",
       "<style scoped>\n",
       "    .dataframe tbody tr th:only-of-type {\n",
       "        vertical-align: middle;\n",
       "    }\n",
       "\n",
       "    .dataframe tbody tr th {\n",
       "        vertical-align: top;\n",
       "    }\n",
       "\n",
       "    .dataframe thead th {\n",
       "        text-align: right;\n",
       "    }\n",
       "</style>\n",
       "<table border=\"1\" class=\"dataframe\">\n",
       "  <thead>\n",
       "    <tr style=\"text-align: right;\">\n",
       "      <th></th>\n",
       "      <th></th>\n",
       "      <th>Count</th>\n",
       "    </tr>\n",
       "    <tr>\n",
       "      <th>Year</th>\n",
       "      <th>SellerG</th>\n",
       "      <th></th>\n",
       "    </tr>\n",
       "  </thead>\n",
       "  <tbody>\n",
       "    <tr>\n",
       "      <th rowspan=\"5\" valign=\"top\">2016</th>\n",
       "      <th>Barry</th>\n",
       "      <td>2012</td>\n",
       "    </tr>\n",
       "    <tr>\n",
       "      <th>Jellis</th>\n",
       "      <td>1361</td>\n",
       "    </tr>\n",
       "    <tr>\n",
       "      <th>hockingstuart</th>\n",
       "      <td>1352</td>\n",
       "    </tr>\n",
       "    <tr>\n",
       "      <th>Nelson</th>\n",
       "      <td>1290</td>\n",
       "    </tr>\n",
       "    <tr>\n",
       "      <th>Ray</th>\n",
       "      <td>1268</td>\n",
       "    </tr>\n",
       "    <tr>\n",
       "      <th rowspan=\"5\" valign=\"top\">2017</th>\n",
       "      <th>Barry</th>\n",
       "      <td>2854</td>\n",
       "    </tr>\n",
       "    <tr>\n",
       "      <th>Jellis</th>\n",
       "      <td>2130</td>\n",
       "    </tr>\n",
       "    <tr>\n",
       "      <th>Nelson</th>\n",
       "      <td>1898</td>\n",
       "    </tr>\n",
       "    <tr>\n",
       "      <th>Ray</th>\n",
       "      <td>1841</td>\n",
       "    </tr>\n",
       "    <tr>\n",
       "      <th>hockingstuart</th>\n",
       "      <td>1830</td>\n",
       "    </tr>\n",
       "    <tr>\n",
       "      <th rowspan=\"5\" valign=\"top\">2018</th>\n",
       "      <th>Barry</th>\n",
       "      <td>2028</td>\n",
       "    </tr>\n",
       "    <tr>\n",
       "      <th>Jellis</th>\n",
       "      <td>2007</td>\n",
       "    </tr>\n",
       "    <tr>\n",
       "      <th>Nelson</th>\n",
       "      <td>1551</td>\n",
       "    </tr>\n",
       "    <tr>\n",
       "      <th>Ray</th>\n",
       "      <td>1445</td>\n",
       "    </tr>\n",
       "    <tr>\n",
       "      <th>hockingstuart</th>\n",
       "      <td>1150</td>\n",
       "    </tr>\n",
       "  </tbody>\n",
       "</table>\n",
       "</div>"
      ],
      "text/plain": [
       "                    Count\n",
       "Year SellerG             \n",
       "2016 Barry           2012\n",
       "     Jellis          1361\n",
       "     hockingstuart   1352\n",
       "     Nelson          1290\n",
       "     Ray             1268\n",
       "2017 Barry           2854\n",
       "     Jellis          2130\n",
       "     Nelson          1898\n",
       "     Ray             1841\n",
       "     hockingstuart   1830\n",
       "2018 Barry           2028\n",
       "     Jellis          2007\n",
       "     Nelson          1551\n",
       "     Ray             1445\n",
       "     hockingstuart   1150"
      ]
     },
     "execution_count": 28,
     "metadata": {},
     "output_type": "execute_result"
    }
   ],
   "source": [
    "top5_seller = seller_df['Count'].groupby('Year', group_keys=False)\n",
    "top5_seller_df = pd.DataFrame(top5_seller.nlargest(5))\n",
    "top5_seller_df"
   ]
  },
  {
   "cell_type": "markdown",
   "id": "b8ccc155-13d6-4dcf-a0f1-508ad877dac1",
   "metadata": {},
   "source": [
    "Theo như quan sát trên `top5_seller_df` thì Barry là nhân viên rao bán nhiều nhà nhất trong ba năm liên tiếp, có lẽ người mua nên suy nghĩ mua nhà do nhân viên này giới thiệu 😉"
   ]
  }
 ],
 "metadata": {
  "kernelspec": {
   "display_name": "Python 3",
   "language": "python",
   "name": "python3"
  },
  "language_info": {
   "codemirror_mode": {
    "name": "ipython",
    "version": 3
   },
   "file_extension": ".py",
   "mimetype": "text/x-python",
   "name": "python",
   "nbconvert_exporter": "python",
   "pygments_lexer": "ipython3",
   "version": "3.8.8"
  }
 },
 "nbformat": 4,
 "nbformat_minor": 5
}
